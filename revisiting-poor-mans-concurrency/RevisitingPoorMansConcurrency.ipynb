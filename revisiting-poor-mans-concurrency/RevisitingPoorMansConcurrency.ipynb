{
 "cells": [
  {
   "cell_type": "code",
   "execution_count": 1,
   "metadata": {},
   "outputs": [],
   "source": [
    "{-# LANGUAGE InstanceSigs #-}"
   ]
  },
  {
   "cell_type": "code",
   "execution_count": 2,
   "metadata": {},
   "outputs": [],
   "source": [
    "class Monad m => Writer m where\n",
    "    write :: String -> m ()"
   ]
  },
  {
   "cell_type": "code",
   "execution_count": 3,
   "metadata": {},
   "outputs": [],
   "source": [
    "newtype W a = W (a, String)\n",
    "\n",
    "instance Functor W where\n",
    "    fmap :: (a -> b) -> W a -> W b\n",
    "    fmap f (W (a, s)) = W (f a, s)\n",
    "\n",
    "instance Applicative W where\n",
    "    pure :: a -> W a\n",
    "    pure a = W (a, \"\")\n",
    "\n",
    "    (<*>) :: W (a -> b) -> W a -> W b\n",
    "    (<*>) (W (f, s)) (W (a, s')) = W (f a, s ++ s')\n",
    "\n",
    "instance Monad W where\n",
    "    (>>=) :: W a -> (a -> W b) -> W b\n",
    "    (>>=) (W (a, s)) f = let W (b, s') = f a in W (b, s ++ s')\n",
    "\n",
    "instance Writer W where\n",
    "    write s = W ((), s)\n",
    "\n",
    "output :: W a -> String\n",
    "output (W (a, s)) = s"
   ]
  },
  {
   "cell_type": "code",
   "execution_count": 4,
   "metadata": {},
   "outputs": [],
   "source": [
    "import Control.Monad.Trans.Class"
   ]
  },
  {
   "cell_type": "code",
   "execution_count": 5,
   "metadata": {},
   "outputs": [],
   "source": [
    "{-# LANGUAGE GeneralizedNewtypeDeriving #-}\n",
    "\n",
    "import Control.Monad.Trans.Cont\n",
    "\n",
    "newtype C m a = C (ContT m Action a) deriving (Functor, Applicative, Monad)\n",
    "\n",
    "data Action m\n",
    "    = Atom (m (Action m))\n",
    "    | Fork (Action m) (Action m)\n",
    "    | Stop"
   ]
  },
  {
   "cell_type": "code",
   "execution_count": 6,
   "metadata": {},
   "outputs": [],
   "source": [
    "action :: Monad m => C m a -> Action m\n",
    "action (C (ContT m)) = m $ \\_ -> Stop\n",
    "\n",
    "atom :: Monad m => m a -> C m a\n",
    "atom m = C $ ContT $ \\c -> Atom $ c <$> m\n",
    "\n",
    "stop :: Monad m => C m a\n",
    "stop = C $ ContT $ \\_ -> Stop\n",
    "\n",
    "par :: Monad m => C m a -> C m a -> C m a\n",
    "par (C (ContT m1)) (C (ContT m2)) = C $ ContT $ \\c -> Fork (m1 c) (m2 c)\n",
    "\n",
    "fork :: Monad m => C m a -> C m ()\n",
    "fork m = C $ ContT $ \\c -> Fork (action m) (c ())\n",
    "\n",
    "instance MonadTrans C where\n",
    "    lift :: Monad m => m a -> C m a\n",
    "    lift = atom"
   ]
  },
  {
   "cell_type": "code",
   "execution_count": 7,
   "metadata": {},
   "outputs": [],
   "source": [
    "round :: Monad m => [Action m] -> m ()\n",
    "round [] = pure ()\n",
    "round (a:as) = case a of\n",
    "    Atom am -> do\n",
    "        a' <- am\n",
    "        round (as ++ [a'])\n",
    "    Fork a1 a2 -> round (as ++ [a1, a2])\n",
    "    Stop -> round as\n",
    "\n",
    "run :: Monad m => C m a -> m ()\n",
    "run m = round [action m]"
   ]
  },
  {
   "cell_type": "code",
   "execution_count": 8,
   "metadata": {},
   "outputs": [],
   "source": [
    "instance Writer m => Writer (C m) where\n",
    "    write s = lift (write s)\n",
    "\n",
    "loop :: Writer m => String -> m ()\n",
    "loop s = do\n",
    "    write s\n",
    "    loop s"
   ]
  },
  {
   "cell_type": "code",
   "execution_count": 9,
   "metadata": {},
   "outputs": [],
   "source": [
    "example :: Writer m => C m ()\n",
    "example = do\n",
    "    write \"start!\"\n",
    "    fork (loop \"fish\")\n",
    "    loop \"cat\"\n",
    "\n",
    "-- output (run example)"
   ]
  },
  {
   "cell_type": "code",
   "execution_count": 10,
   "metadata": {},
   "outputs": [],
   "source": [
    "instance Writer m => Writer (C m) where\n",
    "    write [] = pure ()\n",
    "    write (c:s) = do\n",
    "        lift (write [c])\n",
    "        write s\n",
    "\n",
    "-- output (run example)"
   ]
  },
  {
   "cell_type": "code",
   "execution_count": 11,
   "metadata": {},
   "outputs": [],
   "source": [
    "import Control.Applicative\n",
    "import Data.Foldable (asum)"
   ]
  },
  {
   "cell_type": "code",
   "execution_count": 12,
   "metadata": {},
   "outputs": [],
   "source": [
    "instance Monad m => Alternative (C m) where\n",
    "    (<|>) :: C m a -> C m a -> C m a\n",
    "    (<|>) = par\n",
    "    \n",
    "    empty :: C m a\n",
    "    empty = stop\n",
    "\n",
    "merge :: [String] -> String\n",
    "merge = output . run . asum . map write"
   ]
  },
  {
   "cell_type": "code",
   "execution_count": 13,
   "metadata": {},
   "outputs": [],
   "source": [
    "import Data.IORef\n",
    "\n",
    "type MVar a = IORef (Maybe a)\n",
    "\n",
    "newMVar :: C IO (MVar a)\n",
    "newMVar = lift $ newIORef Nothing\n",
    "\n",
    "writeMVar :: MVar a -> a -> C IO ()\n",
    "writeMVar v a = lift $ writeIORef v (Just a)\n",
    "\n",
    "takeVar :: MVar a -> IO (Maybe a)\n",
    "takeVar v = do\n",
    "    am <- readIORef v\n",
    "    writeIORef v Nothing\n",
    "    pure am\n",
    "\n",
    "readMVar :: MVar a -> C IO a\n",
    "readMVar v = do\n",
    "    am <- lift (takeVar v)\n",
    "    case am of\n",
    "        Nothing -> readMVar v\n",
    "        Just a  -> pure a "
   ]
  }
 ],
 "metadata": {
  "kernelspec": {
   "display_name": "Haskell",
   "language": "haskell",
   "name": "haskell"
  },
  "language_info": {
   "codemirror_mode": "ihaskell",
   "file_extension": ".hs",
   "name": "haskell",
   "version": "8.2.2"
  }
 },
 "nbformat": 4,
 "nbformat_minor": 2
}
