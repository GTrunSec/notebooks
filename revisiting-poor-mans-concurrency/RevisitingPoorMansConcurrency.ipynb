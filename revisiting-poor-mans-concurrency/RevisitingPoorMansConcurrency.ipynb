{
 "cells": [
  {
   "cell_type": "code",
   "execution_count": 1,
   "metadata": {},
   "outputs": [],
   "source": [
    "{-# LANGUAGE InstanceSigs #-}"
   ]
  },
  {
   "cell_type": "code",
   "execution_count": 2,
   "metadata": {},
   "outputs": [],
   "source": [
    "class Monad m => Writer m where\n",
    "    write :: String -> m ()"
   ]
  },
  {
   "cell_type": "code",
   "execution_count": 3,
   "metadata": {},
   "outputs": [],
   "source": [
    "newtype W a = W (a, String)\n",
    "\n",
    "instance Functor W where\n",
    "    fmap :: (a -> b) -> W a -> W b\n",
    "    fmap f (W (a, s)) = W (f a, s)\n",
    "\n",
    "instance Applicative W where\n",
    "    pure :: a -> W a\n",
    "    pure a = W (a, \"\")\n",
    "\n",
    "    (<*>) :: W (a -> b) -> W a -> W b\n",
    "    (<*>) (W (f, s)) (W (a, s')) = W (f a, s ++ s')\n",
    "\n",
    "instance Monad W where\n",
    "    (>>=) :: W a -> (a -> W b) -> W b\n",
    "    (>>=) (W (a, s)) f = let W (b, s') = f a in W (b, s ++ s')\n",
    "\n",
    "instance Writer W where\n",
    "    write s = W ((), s)\n",
    "\n",
    "output :: W a -> String\n",
    "output (W (a, s)) = s"
   ]
  },
  {
   "cell_type": "code",
   "execution_count": 4,
   "metadata": {},
   "outputs": [],
   "source": [
    "import Control.Monad.Trans.Class"
   ]
  },
  {
   "cell_type": "code",
   "execution_count": 5,
   "metadata": {},
   "outputs": [],
   "source": [
    "newtype C m a = C ((a -> Action m) -> Action m)\n",
    "\n",
    "instance Functor (C m) where\n",
    "    fmap :: (a -> b) -> C m a -> C m b\n",
    "    fmap f (C a) = C $ \\k -> a (k . f)\n",
    "\n",
    "instance Applicative (C m) where\n",
    "    pure :: a -> C m a\n",
    "    pure a = C $ \\k -> k a\n",
    "    \n",
    "    (<*>) :: C m (a -> b) -> C m a -> C m b\n",
    "    (<*>) (C f) (C a) = C $ \\k -> f $ \\f' -> a $ \\a' -> k (f' a')\n",
    "\n",
    "instance Monad (C m) where\n",
    "    (>>=) :: C m a -> (a -> C m b) -> C m b\n",
    "    (>>=) (C m) f = C $ \\c -> m (\\a -> let C m' = (f a) in m' c)\n",
    "\n",
    "data Action m\n",
    "    = Atom (m (Action m))\n",
    "    | Fork (Action m) (Action m)\n",
    "    | Stop"
   ]
  },
  {
   "cell_type": "code",
   "execution_count": 8,
   "metadata": {},
   "outputs": [],
   "source": [
    "action :: Monad m => C m a -> Action m\n",
    "action (C m) = m $ \\_ -> Stop\n",
    "\n",
    "atom :: Monad m => m a -> C m a\n",
    "atom m = C $ \\c -> Atom $ c <$> m\n",
    "\n",
    "stop :: Monad m => C m a\n",
    "stop = C $ \\_ -> Stop\n",
    "\n",
    "par :: Monad m => C m a -> C m a -> C m a\n",
    "par (C m1) (C m2) = C $ \\c -> Fork (m1 c) (m2 c)\n",
    "\n",
    "fork :: Monad m => C m a -> C m ()\n",
    "fork m = C $ \\c -> Fork (action m) (c ())\n",
    "\n",
    "instance MonadTrans C where\n",
    "    lift :: Monad m => m a -> C m a\n",
    "    lift = atom"
   ]
  },
  {
   "cell_type": "code",
   "execution_count": 11,
   "metadata": {},
   "outputs": [],
   "source": [
    "round :: Monad m => [Action m] -> m ()\n",
    "round [] = pure ()\n",
    "round (a:as) = case a of\n",
    "    Atom am -> do\n",
    "        a' <- am\n",
    "        round (as ++ [a'])\n",
    "    Fork a1 a2 -> round (as ++ [a1, a2])\n",
    "    Stop -> round as\n",
    "\n",
    "run :: Monad m => C m a -> m ()\n",
    "run m = round [action m]"
   ]
  }
 ],
 "metadata": {
  "kernelspec": {
   "display_name": "Haskell",
   "language": "haskell",
   "name": "haskell"
  },
  "language_info": {
   "codemirror_mode": "ihaskell",
   "file_extension": ".hs",
   "name": "haskell",
   "version": "8.0.2"
  }
 },
 "nbformat": 4,
 "nbformat_minor": 2
}
