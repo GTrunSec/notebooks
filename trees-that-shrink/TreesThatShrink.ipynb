{
 "cells": [
  {
   "cell_type": "code",
   "execution_count": 1,
   "metadata": {},
   "outputs": [],
   "source": [
    "data Expr a\n",
    "    = Lit a\n",
    "    | Var Int\n",
    "    | Abs (Expr a)\n",
    "    | App (Expr a) (Expr a)\n",
    "    deriving (Show)"
   ]
  },
  {
   "cell_type": "code",
   "execution_count": 2,
   "metadata": {},
   "outputs": [],
   "source": [
    "{-# LANGUAGE TypeFamilies, DataKinds, ConstraintKinds #-}\n",
    "{-# LANGUAGE GADTs, EmptyCase, StandaloneDeriving #-}\n",
    "{-# LANGUAGE TypeOperators, PatternSynonyms #-}\n",
    "{-# LANGUAGE FlexibleInstances, FlexibleContexts #-}"
   ]
  },
  {
   "cell_type": "code",
   "execution_count": 3,
   "metadata": {},
   "outputs": [],
   "source": [
    "data ExpX i a\n",
    "    = LitX (XLit i a) a\n",
    "    | VarX (XVar i a)\n",
    "    | AbsX (XAbs i a) (ExpX i a)\n",
    "    | AppX (XApp i a) (ExpX i a) (ExpX i a)\n",
    "    | ExpX (XExp i a)\n",
    "\n",
    "type family XLit i a\n",
    "type family XVar i a\n",
    "type family XAbs i a\n",
    "type family XApp i a\n",
    "type family XExp i a"
   ]
  },
  {
   "cell_type": "code",
   "execution_count": 4,
   "metadata": {},
   "outputs": [],
   "source": [
    "import Data.Void\n",
    "\n",
    "void :: Void\n",
    "void = error \"Attempt to evaluate void\"\n",
    "\n",
    "type ExpUD a = ExpX UD a\n",
    "data UD\n",
    "type instance XLit UD a = Void\n",
    "type instance XVar UD a = Int\n",
    "type instance XAbs UD a = Void\n",
    "type instance XApp UD a = Void\n",
    "type instance XExp UD a = Void\n",
    "\n",
    "pattern LitUD :: a -> ExpUD a\n",
    "pattern LitUD a <- LitX _ a\n",
    "    where LitUD a = LitX void a\n",
    "pattern VarUD :: Int -> ExpUD a\n",
    "pattern VarUD i <- VarX i\n",
    "    where VarUD i = VarX i\n",
    "pattern AbsUD :: ExpUD a -> ExpUD a\n",
    "pattern AbsUD a <- AbsX _ a\n",
    "    where AbsUD a = AbsX void a\n",
    "pattern AppUD :: ExpUD a -> ExpUD a -> ExpUD a\n",
    "pattern AppUD f a <- AppX _ f a\n",
    "    where AppUD f a = AppX void f a"
   ]
  },
  {
   "cell_type": "code",
   "execution_count": 5,
   "metadata": {},
   "outputs": [],
   "source": [
    "type ExpAnn a = ExpX Ann a\n",
    "data Ann\n",
    "type instance XLit Ann a = Void\n",
    "type instance XVar Ann a = (String, Int)\n",
    "type instance XAbs Ann a = String\n",
    "type instance XApp Ann a = Void\n",
    "type instance XExp Ann a = Void\n",
    "\n",
    "pattern LitAnn :: a -> ExpAnn a\n",
    "pattern LitAnn a <- LitX _ a\n",
    "    where LitAnn a = LitX void a\n",
    "pattern VarAnn :: String -> Int -> ExpAnn a\n",
    "pattern VarAnn s i <- VarX (s,i)\n",
    "    where VarAnn s i = VarX (s, i)\n",
    "pattern AbsAnn :: String -> ExpAnn a -> ExpAnn a\n",
    "pattern AbsAnn s a <- AbsX s a\n",
    "    where AbsAnn s a = AbsX s a\n",
    "pattern AppAnn :: ExpAnn a -> ExpAnn a -> ExpAnn a\n",
    "pattern AppAnn f a <- AppX _ f a\n",
    "    where AppAnn f a = AppX void f a"
   ]
  },
  {
   "cell_type": "code",
   "execution_count": 6,
   "metadata": {},
   "outputs": [],
   "source": [
    "type ExpLet a = ExpX Let a\n",
    "data Let\n",
    "type instance XLit Let a = Void\n",
    "type instance XVar Let a = String\n",
    "type instance XAbs Let a = String\n",
    "type instance XApp Let a = Void\n",
    "type instance XExp Let a = (String, ExpLet a, ExpLet a)\n",
    "\n",
    "pattern LitLet :: a -> ExpLet a\n",
    "pattern LitLet a <- LitX _ a\n",
    "    where LitLet a = LitX void a\n",
    "pattern VarLet :: String -> ExpLet a\n",
    "pattern VarLet s <- VarX s\n",
    "    where VarLet s = VarX s\n",
    "pattern AbsLet :: String -> ExpLet a -> ExpLet a\n",
    "pattern AbsLet s a <- AbsX s a\n",
    "    where AbsLet s a = AbsX s a\n",
    "pattern AppLet :: ExpLet a -> ExpLet a -> ExpLet a\n",
    "pattern AppLet f a <- AppX _ f a\n",
    "    where AppLet f a = AppX void f a\n",
    "pattern LetLet n v e <- ExpX (n,v,e)"
   ]
  },
  {
   "cell_type": "code",
   "execution_count": 7,
   "metadata": {},
   "outputs": [],
   "source": [
    "import qualified Data.Map.Strict as Map\n",
    "\n",
    "type Env = Map.Map String Int\n",
    "\n",
    "desugar :: Env -> ExpLet a -> ExpAnn a\n",
    "desugar env expr = case expr of\n",
    "    LitLet a -> LitAnn a\n",
    "    VarLet name -> VarAnn name (env Map.! name)\n",
    "    AbsLet name expr' -> let\n",
    "        env'  = Map.map succ env\n",
    "        env'' = Map.insert name 0 env'\n",
    "        in AbsAnn name (desugar env'' expr')\n",
    "    AppLet f x -> AppAnn (desugar env f) (desugar env x)\n",
    "    LetLet n v expr' -> desugar env (AppLet (AbsLet n expr') v)\n",
    "\n",
    "anonymise :: ExpAnn a -> ExpUD a\n",
    "anonymise expr = case expr of\n",
    "    LitAnn a -> LitUD a\n",
    "    VarAnn _ i -> VarUD i\n",
    "    AbsAnn _ e -> AbsUD (anonymise e)\n",
    "    AppAnn f x -> AppUD (anonymise f) (anonymise x)\n",
    "\n",
    "eval :: [a] -> ExpUD a -> a\n",
    "eval env expr = case expr of\n",
    "    LitUD a -> a\n",
    "    VarUD i -> env !! i\n",
    "    AbsUD f -> eval env f\n",
    "    AppUD f x -> let\n",
    "        x' = eval env x\n",
    "        in eval (x':env) f"
   ]
  },
  {
   "cell_type": "code",
   "execution_count": 8,
   "metadata": {},
   "outputs": [
    {
     "data": {
      "text/plain": [
       "2"
      ]
     },
     "metadata": {},
     "output_type": "display_data"
    }
   ],
   "source": [
    "deriving instance (Show a) => (Show (ExpLet a))\n",
    "deriving instance (Show a) => (Show (ExpAnn a))\n",
    "deriving instance (Show a) => (Show (ExpUD a))\n",
    "\n",
    "identity = AbsLet \"i\" (VarLet \"i\")\n",
    "konst = (AbsLet \"x\" (AbsLet \"y\" (VarLet \"x\")))\n",
    "\n",
    "\n",
    "eval [] . anonymise . desugar Map.empty $ AppLet (AppLet konst (LitLet 1)) (LitLet 2)"
   ]
  }
 ],
 "metadata": {
  "kernelspec": {
   "display_name": "Haskell",
   "language": "haskell",
   "name": "haskell"
  },
  "language_info": {
   "codemirror_mode": "ihaskell",
   "file_extension": ".hs",
   "name": "haskell",
   "version": "8.2.2"
  }
 },
 "nbformat": 4,
 "nbformat_minor": 2
}
