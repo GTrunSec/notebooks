{
 "cells": [
  {
   "cell_type": "code",
   "execution_count": 1,
   "metadata": {},
   "outputs": [],
   "source": [
    "{-# LANGUAGE GADTs #-}"
   ]
  },
  {
   "cell_type": "code",
   "execution_count": 2,
   "metadata": {},
   "outputs": [],
   "source": [
    "import Control.Monad.Trans.Reader\n",
    "\n",
    "data Expr a where\n",
    "    Var :: Int -> Expr a\n",
    "    App :: Expr a -> Expr a -> Expr a\n",
    "    Lam :: Expr a -> Expr a\n",
    "    Lit :: a -> Expr a\n",
    "\n",
    "newtype Eval a = Eval { runEval :: Reader [a] a }"
   ]
  },
  {
   "cell_type": "code",
   "execution_count": 3,
   "metadata": {},
   "outputs": [
    {
     "data": {
      "text/plain": [
       "5"
      ]
     },
     "metadata": {},
     "output_type": "display_data"
    }
   ],
   "source": [
    "import Debug.Trace\n",
    "\n",
    "eval :: Expr a -> Eval a\n",
    "eval expr = case expr of\n",
    "    Var i -> Eval $ do\n",
    "        vars <- ask\n",
    "        pure $ vars !! i\n",
    "    App f x -> Eval $ do\n",
    "        x' <- runEval $ eval x\n",
    "        local (x':) (runEval (eval f))\n",
    "    Lam f -> eval f\n",
    "    Lit a -> Eval $ pure a\n",
    "\n",
    "k = (Lam (Lam (Var 1)))\n",
    "i = (Lam (Var 0))\n",
    "s = (Lam (Lam (Lam (App (App (Var 2) (Var 0)) (App (Var 1) (Var 0))))))\n",
    "\n",
    "i' = App (App s k) k\n",
    "\n",
    "runReader (runEval (eval k)) [7,5]"
   ]
  }
 ],
 "metadata": {
  "kernelspec": {
   "display_name": "Haskell",
   "language": "haskell",
   "name": "haskell"
  },
  "language_info": {
   "codemirror_mode": "ihaskell",
   "file_extension": ".hs",
   "name": "haskell",
   "version": "8.2.2"
  }
 },
 "nbformat": 4,
 "nbformat_minor": 2
}
