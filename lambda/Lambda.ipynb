{
 "cells": [
  {
   "cell_type": "code",
   "execution_count": 1,
   "metadata": {},
   "outputs": [],
   "source": [
    "import           Control.Monad.Trans.Reader\n",
    "import qualified Data.Map.Strict as Map\n",
    "\n",
    "data Expr a\n",
    "    = Var Int\n",
    "    | App (Expr a) (Expr a)\n",
    "    | Lam (Expr a)\n",
    "    | Lit a\n",
    "    | Let String (Expr a) (Expr a)\n",
    "    | Bnd String\n",
    "    deriving (Show)\n",
    "\n",
    "data Env a = Env\n",
    "    { lets :: Map.Map String a\n",
    "    , vars :: [a]\n",
    "    } deriving (Show)\n",
    "\n",
    "newtype Eval a = Eval { runEval :: Reader (Env a) a }"
   ]
  },
  {
   "cell_type": "code",
   "execution_count": 2,
   "metadata": {},
   "outputs": [
    {
     "data": {
      "text/plain": [
       "2"
      ]
     },
     "metadata": {},
     "output_type": "display_data"
    },
    {
     "data": {
      "text/plain": [
       "7"
      ]
     },
     "metadata": {},
     "output_type": "display_data"
    }
   ],
   "source": [
    "push :: a -> Env a -> Env a\n",
    "push v (Env lets vars) = Env lets (v:vars)\n",
    "\n",
    "bind :: String -> a -> Env a -> Env a\n",
    "bind n v (Env lets vars) = Env (Map.insert n v lets) vars\n",
    "\n",
    "eval :: Show a => Expr a -> Eval a\n",
    "eval expr = case expr of\n",
    "    Var i -> Eval $ do\n",
    "        vars <- vars <$> ask\n",
    "        pure $ vars !! i\n",
    "    App f x -> Eval $ do\n",
    "        x' <- runEval $ eval x\n",
    "        local (push x') (runEval (eval f))\n",
    "    Lam f -> eval f\n",
    "    Lit a -> Eval $ pure a\n",
    "    Let n v e -> Eval $ do\n",
    "        v' <- runEval $ eval v\n",
    "        local (bind n v') (runEval (eval e))\n",
    "    Bnd n -> Eval $ do\n",
    "        lets <- lets <$> ask\n",
    "        pure $ lets Map.! n\n",
    "\n",
    "k = (Lam (Lam (Var 1)))\n",
    "i = (Lam (Var 0))\n",
    "s = (Lam (Lam (Lam (App (App (Var 2) (Var 0)) (App (Var 1) (Var 0))))))\n",
    "\n",
    "i' = App (App s k) k\n",
    "\n",
    "\n",
    "e = App (App k (Lit 5)) (Lit 7)\n",
    "\n",
    "l = Let \"x\" (Lit 1) (Let \"x\" (Lit 2) (Bnd \"x\"))\n",
    "\n",
    "\n",
    "runReader (runEval (eval l)) (Env Map.empty [])\n",
    "runReader (runEval (eval e)) (Env Map.empty [])"
   ]
  },
  {
   "cell_type": "code",
   "execution_count": 3,
   "metadata": {},
   "outputs": [],
   "source": [
    "subY = Lam (App (Var 1) (App (Var 0) (Var 0)))\n",
    "y = Lam (App subY subY) "
   ]
  }
 ],
 "metadata": {
  "kernelspec": {
   "display_name": "Haskell",
   "language": "haskell",
   "name": "haskell"
  },
  "language_info": {
   "codemirror_mode": "ihaskell",
   "file_extension": ".hs",
   "name": "haskell",
   "version": "8.2.2"
  }
 },
 "nbformat": 4,
 "nbformat_minor": 2
}
