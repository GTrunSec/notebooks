{
 "cells": [
  {
   "cell_type": "code",
   "execution_count": 1,
   "metadata": {},
   "outputs": [],
   "source": [
    "{-# LANGUAGE LambdaCase #-}\n",
    "{-# LANGUAGE NamedFieldPuns #-}\n",
    "{-# LANGUAGE ScopedTypeVariables #-}\n",
    "\n",
    "import Control.Monad.ST  (ST, runST)\n",
    "import Data.STRef        (STRef, newSTRef, readSTRef, modifySTRef', writeSTRef)\n",
    "import Control.Monad     (forM_)\n",
    "import Data.Array        ((!), bounds)\n",
    "import Data.Array.MArray (newArray, readArray, writeArray)\n",
    "import Data.Array.ST     (STArray)\n",
    "import Data.Graph        (Graph, vertices, buildG)\n",
    "\n",
    "data TarjanEnv s = TarjanEnv\n",
    "    { index    :: STRef s Int\n",
    "    , stack    :: STRef s [Int]\n",
    "    , stackSet :: STArray s Int Bool\n",
    "    , indices  :: STArray s Int (Maybe Int)\n",
    "    , lowlinks :: STArray s Int (Maybe Int)\n",
    "    , output   :: STRef s (Maybe [[Int]])\n",
    "    , possible :: STRef s Bool\n",
    "    }\n",
    "\n",
    "whenM :: Monad m => m Bool -> m () -> m ()\n",
    "whenM condM block = condM >>= \\cond -> if cond then block else return ()\n",
    "\n",
    "tarjan :: Int -> Graph -> Maybe [[Int]]\n",
    "tarjan n graph = runST $ do\n",
    "    tarjanEnv <- TarjanEnv\n",
    "        <$> newSTRef 0\n",
    "        <*> newSTRef []\n",
    "        <*> newArray (0, size) False\n",
    "        <*> newArray (0, size) Nothing\n",
    "        <*> newArray (0, size) Nothing\n",
    "        <*> newSTRef (Just [])\n",
    "        <*> newSTRef True\n",
    "\n",
    "    forM_ (vertices graph) $ \\v ->\n",
    "        whenM ((&&)\n",
    "            <$> ((==) Nothing <$> readArray (indices tarjanEnv) v)\n",
    "            <*> readSTRef (possible tarjanEnv)) $\n",
    "                strongConnect n v graph tarjanEnv\n",
    "\n",
    "    readSTRef (output tarjanEnv)\n",
    "    where\n",
    "        size = snd (bounds graph)\n",
    "\n",
    "strongConnect :: forall s. Int -> Int -> Graph -> TarjanEnv s -> ST s ()\n",
    "strongConnect n v graph tarjanEnv@TarjanEnv{ index, stack, stackSet, indices, lowlinks, output, possible } = do\n",
    "    i <- readSTRef index\n",
    "    writeArray indices  v (Just i)\n",
    "    writeArray lowlinks v (Just i)\n",
    "    modifySTRef' index (+1)\n",
    "    push v\n",
    "\n",
    "    forM_ (graph ! v) $ \\w -> readArray indices w >>= \\case\n",
    "        Nothing -> do\n",
    "            strongConnect n w graph tarjanEnv\n",
    "            writeArray lowlinks v =<< (min <$> readArray lowlinks v <*> readArray lowlinks w)\n",
    "        Just{}  -> whenM (readArray stackSet w) $\n",
    "            writeArray lowlinks v =<< (min <$> readArray lowlinks v <*> readArray indices  w)\n",
    "\n",
    "    whenM ((==) <$> readArray lowlinks v <*> readArray indices v) $ do\n",
    "        scc <- addSCC n v []\n",
    "        modifySTRef' output $ \\sccs -> (:) <$> scc <*> sccs\n",
    "    where\n",
    "        addSCC :: Int -> Int -> [Int] -> ST s (Maybe [Int])\n",
    "        addSCC n v scc = pop >>= \\w -> if ((other n w) `elem` scc)\n",
    "            then writeSTRef possible False >> return Nothing\n",
    "            else\n",
    "                let scc' = w:scc\n",
    "                in if w == v then return (Just scc') else addSCC n v scc'\n",
    "        push :: Int -> ST s ()\n",
    "        push e = do\n",
    "            modifySTRef' stack (e:)\n",
    "            writeArray stackSet e True\n",
    "        pop :: ST s Int\n",
    "        pop = do\n",
    "            e <- head <$> readSTRef stack\n",
    "            modifySTRef' stack tail\n",
    "            writeArray stackSet e False\n",
    "            return e\n",
    "\n",
    "denormalise     = subtract\n",
    "normalise       = (+)\n",
    "other n v       = 2*n - v\n",
    "clauses n [u,v] = [(other n u, v), (other n v, u)]\n",
    "\n",
    "checkSat :: String -> IO Bool\n",
    "checkSat name = do\n",
    "    p <- map (map read . words) . lines <$> readFile name\n",
    "    let pNo    = head $ head p\n",
    "        pn     = map (map (normalise pNo)) $ tail p\n",
    "        pGraph = buildG (0,2*pNo) $ concatMap (clauses pNo) pn\n",
    "    return $ (Nothing /=) $ tarjan pNo pGraph"
   ]
  },
  {
   "cell_type": "code",
   "execution_count": 2,
   "metadata": {},
   "outputs": [
    {
     "data": {
      "text/plain": [
       "True"
      ]
     },
     "metadata": {},
     "output_type": "display_data"
    }
   ],
   "source": [
    "checkSat \"input/2sat1.txt\""
   ]
  },
  {
   "cell_type": "code",
   "execution_count": 3,
   "metadata": {},
   "outputs": [
    {
     "data": {
      "text/plain": [
       "False"
      ]
     },
     "metadata": {},
     "output_type": "display_data"
    }
   ],
   "source": [
    "checkSat \"input/2sat2.txt\""
   ]
  },
  {
   "cell_type": "code",
   "execution_count": 4,
   "metadata": {},
   "outputs": [
    {
     "data": {
      "text/plain": [
       "True"
      ]
     },
     "metadata": {},
     "output_type": "display_data"
    }
   ],
   "source": [
    "checkSat \"input/2sat3.txt\""
   ]
  },
  {
   "cell_type": "code",
   "execution_count": 5,
   "metadata": {},
   "outputs": [
    {
     "data": {
      "text/plain": [
       "True"
      ]
     },
     "metadata": {},
     "output_type": "display_data"
    }
   ],
   "source": [
    "checkSat \"input/2sat4.txt\""
   ]
  },
  {
   "cell_type": "code",
   "execution_count": 6,
   "metadata": {},
   "outputs": [
    {
     "data": {
      "text/plain": [
       "False"
      ]
     },
     "metadata": {},
     "output_type": "display_data"
    }
   ],
   "source": [
    "checkSat \"input/2sat5.txt\""
   ]
  },
  {
   "cell_type": "code",
   "execution_count": 7,
   "metadata": {},
   "outputs": [
    {
     "data": {
      "text/plain": [
       "False"
      ]
     },
     "metadata": {},
     "output_type": "display_data"
    }
   ],
   "source": [
    "checkSat \"input/2sat6.txt\""
   ]
  }
 ],
 "metadata": {
  "kernelspec": {
   "display_name": "Haskell",
   "language": "haskell",
   "name": "haskell"
  },
  "language_info": {
   "codemirror_mode": "ihaskell",
   "file_extension": ".hs",
   "name": "haskell",
   "pygments_lexer": "Haskell",
   "version": "8.6.4"
  }
 },
 "nbformat": 4,
 "nbformat_minor": 2
}
