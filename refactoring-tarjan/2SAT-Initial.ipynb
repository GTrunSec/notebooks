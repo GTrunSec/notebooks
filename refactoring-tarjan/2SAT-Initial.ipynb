{
 "cells": [
  {
   "cell_type": "code",
   "execution_count": 1,
   "metadata": {
    "collapsed": true
   },
   "outputs": [],
   "source": [
    "{-# LANGUAGE LambdaCase #-}\n",
    "\n",
    "import qualified Data.Graph      as G\n",
    "import qualified Data.Map.Strict as M\n",
    "import qualified Data.Set        as S\n",
    "import qualified Data.Array      as A\n",
    "import qualified Prelude         as P\n",
    "\n",
    "import Prelude hiding (lookup)\n",
    "\n",
    "import Control.Monad.ST\n",
    "import Data.STRef\n",
    "import Control.Monad (forM_, when)\n",
    "import Data.Maybe (isJust, isNothing, fromJust)\n",
    "\n",
    "tarjan :: Int -> G.Graph -> Maybe [S.Set Int]\n",
    "tarjan n graph = runST $ do\n",
    "    index    <- newSTRef 0\n",
    "    stack    <- newSTRef []\n",
    "    stackSet <- newSTRef S.empty\n",
    "    indices  <- newSTRef M.empty\n",
    "    lowlinks <- newSTRef M.empty\n",
    "    output   <- newSTRef (Just [])\n",
    "\n",
    "    forM_ (G.vertices graph) $ \\v -> do\n",
    "        vIndex <- M.lookup v <$> readSTRef indices\n",
    "        when (isNothing vIndex) $\n",
    "            strongConnect n v graph index stack stackSet indices lowlinks output\n",
    "\n",
    "    readSTRef output\n",
    "\n",
    "strongConnect\n",
    "    :: Int\n",
    "    -> Int\n",
    "    -> G.Graph\n",
    "    -> STRef s Int\n",
    "    -> STRef s [Int]\n",
    "    -> STRef s (S.Set Int)\n",
    "    -> STRef s (M.Map Int Int)\n",
    "    -> STRef s (M.Map Int Int)\n",
    "    -> STRef s (Maybe [S.Set Int])\n",
    "    -> ST    s ()\n",
    "strongConnect n v graph index stack stackSet indices lowlinks output = do\n",
    "    i <- readSTRef index\n",
    "    insert v i indices\n",
    "    insert v i lowlinks\n",
    "    modifySTRef' index (+1)\n",
    "    push stack stackSet v\n",
    "\n",
    "    forM_ (graph A.! v) $ \\w -> lookup w indices >>= \\case\n",
    "        Nothing     -> do\n",
    "            strongConnect n w graph index stack stackSet indices lowlinks output\n",
    "            vLowLink <- fromJust <$> lookup v lowlinks\n",
    "            wLowLink <- fromJust <$> lookup w lowlinks\n",
    "            insert v (min vLowLink wLowLink) lowlinks\n",
    "        Just wIndex -> do\n",
    "            wOnStack <- S.member w <$> readSTRef stackSet\n",
    "            when wOnStack $ do\n",
    "                vLowLink <- fromJust <$> lookup v lowlinks\n",
    "                insert v (min vLowLink wIndex) lowlinks\n",
    "\n",
    "    vLowLink <- fromJust <$> lookup v lowlinks\n",
    "    vIndex   <- fromJust <$> lookup v indices\n",
    "    when (vLowLink == vIndex) $ do\n",
    "        scc <- addSCC n v S.empty stack stackSet\n",
    "        modifySTRef' output $ \\sccs -> (:) <$> scc <*> sccs\n",
    "    where\n",
    "        lookup value hashMap     = M.lookup value <$> readSTRef hashMap\n",
    "        insert key value hashMap = modifySTRef' hashMap (M.insert key value)\n",
    "\n",
    "addSCC :: Int -> Int -> S.Set Int -> STRef s [Int] -> STRef s (S.Set Int) -> ST s (Maybe (S.Set Int))\n",
    "addSCC n v scc stack stackSet = pop stack stackSet >>= \\w -> if ((other n w) `S.member` scc) then return Nothing else\n",
    "    let scc' = S.insert w scc\n",
    "    in if w == v then return (Just scc') else addSCC n v scc' stack stackSet\n",
    "\n",
    "push :: STRef s [Int] -> STRef s (S.Set Int) -> Int -> ST s ()\n",
    "push stack stackSet e = do\n",
    "    modifySTRef' stack    (e:)\n",
    "    modifySTRef' stackSet (S.insert e)\n",
    "\n",
    "pop :: STRef s [Int] -> STRef s (S.Set Int) -> ST s Int\n",
    "pop stack stackSet = do\n",
    "    e <- head <$> readSTRef stack\n",
    "    modifySTRef' stack tail\n",
    "    modifySTRef' stackSet (S.delete e)\n",
    "    return e\n",
    "\n",
    "denormalise     = subtract\n",
    "normalise       = (+)\n",
    "other n v       = 2*n - v\n",
    "clauses n [u,v] = [(other n u, v), (other n v, u)]\n",
    "\n",
    "checkSat :: String -> IO Bool\n",
    "checkSat name = do\n",
    "    p <- map (map P.read . words) . lines <$> readFile name\n",
    "    let pNo    = head $ head p\n",
    "        pn     = map (map (normalise pNo)) $ tail p\n",
    "        pGraph = G.buildG (0,2*pNo) $ concatMap (clauses pNo) pn\n",
    "    return $ (Nothing /=) $ tarjan pNo pGraph"
   ]
  },
  {
   "cell_type": "code",
   "execution_count": 2,
   "metadata": {},
   "outputs": [
    {
     "data": {
      "text/plain": [
       "True"
      ]
     },
     "metadata": {},
     "output_type": "display_data"
    }
   ],
   "source": [
    "checkSat \"input/2sat1.txt\""
   ]
  },
  {
   "cell_type": "code",
   "execution_count": 3,
   "metadata": {},
   "outputs": [
    {
     "data": {
      "text/plain": [
       "False"
      ]
     },
     "metadata": {},
     "output_type": "display_data"
    }
   ],
   "source": [
    "checkSat \"input/2sat2.txt\""
   ]
  },
  {
   "cell_type": "code",
   "execution_count": 4,
   "metadata": {},
   "outputs": [
    {
     "data": {
      "text/plain": [
       "True"
      ]
     },
     "metadata": {},
     "output_type": "display_data"
    }
   ],
   "source": [
    "checkSat \"input/2sat3.txt\""
   ]
  },
  {
   "cell_type": "code",
   "execution_count": 5,
   "metadata": {},
   "outputs": [
    {
     "data": {
      "text/plain": [
       "True"
      ]
     },
     "metadata": {},
     "output_type": "display_data"
    }
   ],
   "source": [
    "checkSat \"input/2sat4.txt\""
   ]
  },
  {
   "cell_type": "code",
   "execution_count": 6,
   "metadata": {},
   "outputs": [
    {
     "data": {
      "text/plain": [
       "False"
      ]
     },
     "metadata": {},
     "output_type": "display_data"
    }
   ],
   "source": [
    "checkSat \"input/2sat5.txt\""
   ]
  },
  {
   "cell_type": "code",
   "execution_count": 7,
   "metadata": {},
   "outputs": [
    {
     "data": {
      "text/plain": [
       "False"
      ]
     },
     "metadata": {},
     "output_type": "display_data"
    }
   ],
   "source": [
    "checkSat \"input/2sat6.txt\""
   ]
  }
 ],
 "metadata": {
  "kernelspec": {
   "display_name": "Haskell",
   "language": "haskell",
   "name": "haskell"
  },
  "language_info": {
   "codemirror_mode": "ihaskell",
   "file_extension": ".hs",
   "name": "haskell",
   "version": "8.2.2"
  }
 },
 "nbformat": 4,
 "nbformat_minor": 2
}
