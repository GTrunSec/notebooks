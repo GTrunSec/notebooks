{
 "cells": [
  {
   "cell_type": "code",
   "execution_count": 1,
   "metadata": {},
   "outputs": [],
   "source": [
    "import Text.Show.Pretty\n",
    "import Prelude hiding (lookup)\n",
    "import Data.Bits\n",
    "\n",
    "type Key = Int\n",
    "\n",
    "data BinaryTrie a\n",
    "    = BTNil\n",
    "    | BTTip a\n",
    "    | BTBin (BinaryTrie a) (BinaryTrie a)\n",
    "    deriving (Show)"
   ]
  },
  {
   "cell_type": "code",
   "execution_count": 2,
   "metadata": {},
   "outputs": [],
   "source": [
    "lookupBT :: Key -> BinaryTrie a -> Maybe a\n",
    "lookupBT _ BTNil = Nothing\n",
    "lookupBT _ (BTTip v) = Just v\n",
    "lookupBT k (BTBin l r) = lookupBT (k `div` 2) (if even k then l else r)"
   ]
  },
  {
   "cell_type": "code",
   "execution_count": 3,
   "metadata": {},
   "outputs": [
    {
     "data": {
      "text/plain": [
       "BTBin\n",
       "  (BTBin (BTBin BTNil (BTTip \"y\")) BTNil)\n",
       "  (BTBin (BTBin (BTTip \"x\") (BTTip \"z\")) BTNil)"
      ]
     },
     "metadata": {},
     "output_type": "display_data"
    }
   ],
   "source": [
    "-- {1 -> \"x\", 4 -> \"y\", 5 -> \"z\"}\n",
    "\n",
    "fig1a =\n",
    "    BTBin\n",
    "        (BTBin\n",
    "            (BTBin BTNil (BTTip \"y\"))\n",
    "            (BTBin BTNil BTNil))\n",
    "        (BTBin\n",
    "            (BTBin (BTTip \"x\") (BTTip \"z\"))\n",
    "            (BTBin BTNil BTNil))\n",
    "\n",
    "btBin :: BinaryTrie a -> BinaryTrie a -> BinaryTrie a\n",
    "btBin BTNil BTNil = BTNil\n",
    "btBin l r = BTBin l r\n",
    "\n",
    "fig1b = go fig1a\n",
    "    where\n",
    "        go (BTBin l r) = btBin (go l) (go r)\n",
    "        go o = o\n",
    "\n",
    "pPrint fig1b"
   ]
  },
  {
   "cell_type": "code",
   "execution_count": 4,
   "metadata": {},
   "outputs": [],
   "source": [
    "data BinaryTrie' a\n",
    "    = BTNil'\n",
    "    | BTTip' Int a\n",
    "    | BTBin' Int (BinaryTrie' a) (BinaryTrie' a)\n",
    "    deriving (Show)\n",
    "\n",
    "lookupBT' :: Key -> BinaryTrie' a -> Maybe a\n",
    "lookupBT' k BTNil' = Nothing\n",
    "lookupBT' k (BTTip' j a) = if k==j then Just a else Nothing\n",
    "lookupBT' k (BTBin' m l r) = if zeroBit k m\n",
    "    then lookupBT' k l\n",
    "    else lookupBT' k r\n",
    "\n",
    "zeroBit :: Int -> Int -> Bool\n",
    "zeroBit k m = k .&. m == 0\n",
    "\n",
    "btBin' :: Int -> BinaryTrie' a -> BinaryTrie' a -> BinaryTrie' a\n",
    "btBin' _ BTNil' t@BTTip'{} = t\n",
    "btBin' _ t@BTTip'{} BTNil' = t\n",
    "btBin' m l r = BTBin' m l r"
   ]
  },
  {
   "cell_type": "code",
   "execution_count": 5,
   "metadata": {},
   "outputs": [],
   "source": [
    "data PatriciaTree a\n",
    "    = PTNil\n",
    "    | PTTip Int a\n",
    "    | PTBin Int Int (PatriciaTree a) (PatriciaTree a)\n",
    "    deriving (Show)\n",
    "\n",
    "lookupPT :: Key -> PatriciaTree a -> Maybe a\n",
    "lookupPT k PTNil = Nothing\n",
    "lookupPT k (PTTip j a) = if k==j then Just a else Nothing\n",
    "lookupPT k (PTBin p m l r) = if not (matchPrefix k p m) then Nothing\n",
    "    else if zeroBit k m\n",
    "        then lookupPT k l\n",
    "        else lookupPT k r\n",
    "\n",
    "mask :: Key -> Int -> Int\n",
    "mask k m = k .&. (m-1)\n",
    "\n",
    "matchPrefix :: Key -> Int -> Int -> Bool\n",
    "matchPrefix k p m = mask k m == p\n",
    "\n",
    "ptBin :: Int -> Int -> PatriciaTree a -> PatriciaTree a -> PatriciaTree a\n",
    "ptBin p m PTNil t = t\n",
    "ptBin p m t PTNil = t\n",
    "ptBin p m l r     = PTBin p m l r"
   ]
  },
  {
   "cell_type": "code",
   "execution_count": 6,
   "metadata": {},
   "outputs": [],
   "source": [
    "join :: Int -> PatriciaTree a -> Int -> PatriciaTree a -> PatriciaTree a\n",
    "join p0 t0 p1 t1 = let\n",
    "    m = branchingBit p0 p1\n",
    "    in if zeroBit p0 m\n",
    "        then PTBin (mask p0 m) m t0 t1\n",
    "        else PTBin (mask p0 m) m t1 t0\n",
    "\n",
    "branchingBit :: Int -> Int -> Int\n",
    "branchingBit a b = lowestBit (xor a b)\n",
    "\n",
    "lowestBit :: Int -> Int\n",
    "lowestBit x = x .&. (negate x)"
   ]
  },
  {
   "cell_type": "code",
   "execution_count": 7,
   "metadata": {},
   "outputs": [],
   "source": [
    "insert :: (a -> a -> a) -> Key -> a -> PatriciaTree a -> PatriciaTree a\n",
    "insert c k x = ins\n",
    "    where\n",
    "        ins PTNil = PTTip k x\n",
    "        ins t@(PTTip j y) = if j == k\n",
    "            then PTTip k (c x y)\n",
    "            else join k (PTTip k x) j t\n",
    "        ins t@(PTBin p m l r) = if matchPrefix k p m\n",
    "            then if zeroBit k m\n",
    "                then PTBin p m (ins l) r\n",
    "                else PTBin p m l (ins r)\n",
    "            else join k (PTTip k x) p t"
   ]
  },
  {
   "cell_type": "code",
   "execution_count": 8,
   "metadata": {},
   "outputs": [],
   "source": [
    "merge :: (a -> a -> a) -> PatriciaTree a -> PatriciaTree a -> PatriciaTree a\n",
    "merge c = mrg\n",
    "    where\n",
    "        mrg PTNil t = t\n",
    "        mrg t PTNil = t\n",
    "        mrg (PTTip k x) t = insert c k x t\n",
    "        mrg t (PTTip k x) = insert (flip c) k x t\n",
    "        mrg s@(PTBin p m s0 s1) t@(PTBin q n t0 t1)\n",
    "            {- The trees have the same prefix. Merge the subtrees. -}\n",
    "            | m == n && p == q = PTBin p m (mrg s0 t0) (mrg s1 t1)\n",
    "            {- q contains p. Merge t with a subtree of s. -}\n",
    "            | m < n && matchPrefix q p m = if zeroBit q m\n",
    "                then PTBin p m (mrg s0 t) s1\n",
    "                else PTBin p m s0 (mrg s1 t)\n",
    "            {- p contains q. Merge s with a subtree of t. -}\n",
    "            | m > n && matchPrefix p q n = if zeroBit p n\n",
    "                then PTBin q n (mrg s t0) t1\n",
    "                else PTBin q n t0 (mrg s t1)\n",
    "            {- The prefixes disagree. -}\n",
    "            | otherwise = join p s q t"
   ]
  },
  {
   "cell_type": "code",
   "execution_count": 9,
   "metadata": {},
   "outputs": [
    {
     "data": {
      "text/plain": [
       "PTBin 0 1 (PTTip 4 \"y\") (PTBin 1 4 (PTTip 1 \"x\") (PTTip 5 \"z\"))"
      ]
     },
     "metadata": {},
     "output_type": "display_data"
    }
   ],
   "source": [
    "fromList :: [(Int, a)] -> PatriciaTree a\n",
    "fromList = foldr (uncurry (insert const)) PTNil\n",
    "\n",
    "t = fromList [(1, \"x\"), (5, \"z\"), (4, \"y\")]\n",
    "t"
   ]
  }
 ],
 "metadata": {
  "kernelspec": {
   "display_name": "Haskell",
   "language": "haskell",
   "name": "haskell"
  },
  "language_info": {
   "codemirror_mode": "ihaskell",
   "file_extension": ".hs",
   "name": "haskell",
   "pygments_lexer": "Haskell",
   "version": "8.2.2"
  }
 },
 "nbformat": 4,
 "nbformat_minor": 2
}
