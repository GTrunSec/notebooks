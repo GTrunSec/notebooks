{
 "cells": [
  {
   "cell_type": "code",
   "execution_count": 1,
   "metadata": {},
   "outputs": [],
   "source": [
    "import Text.Show.Pretty\n",
    "import Prelude hiding (lookup)\n",
    "import Data.Bits\n",
    "\n",
    "type Key = Int\n",
    "\n",
    "data BinaryTrie a\n",
    "    = BTNil\n",
    "    | BTTip a\n",
    "    | BTBin (BinaryTrie a) (BinaryTrie a)\n",
    "    deriving (Show)"
   ]
  },
  {
   "cell_type": "code",
   "execution_count": 2,
   "metadata": {},
   "outputs": [],
   "source": [
    "lookupBT :: Key -> BinaryTrie a -> Maybe a\n",
    "lookupBT _ BTNil = Nothing\n",
    "lookupBT _ (BTTip v) = Just v\n",
    "lookupBT k (BTBin l r) = lookupBT (k `div` 2) (if even k then l else r)"
   ]
  },
  {
   "cell_type": "code",
   "execution_count": 3,
   "metadata": {},
   "outputs": [
    {
     "data": {
      "text/plain": [
       "Just \"y\""
      ]
     },
     "metadata": {},
     "output_type": "display_data"
    }
   ],
   "source": [
    "-- {1 -> \"x\", 4 -> \"y\", 5 -> \"z\"}\n",
    "\n",
    "fig1a =\n",
    "    BTBin\n",
    "        (BTBin\n",
    "            (BTBin BTNil (BTTip \"y\"))\n",
    "            (BTBin BTNil BTNil))\n",
    "        (BTBin\n",
    "            (BTBin (BTTip \"x\") (BTTip \"z\"))\n",
    "            (BTBin BTNil BTNil))\n",
    "\n",
    "fig1b =\n",
    "    BTBin\n",
    "        (BTBin\n",
    "            (BTBin BTNil (BTTip \"y\"))\n",
    "            BTNil)\n",
    "        (BTBin\n",
    "            (BTBin (BTTip \"x\") (BTTip \"z\"))\n",
    "            BTNil)\n",
    "\n",
    "lookupBT 4 fig1a"
   ]
  },
  {
   "cell_type": "code",
   "execution_count": 4,
   "metadata": {},
   "outputs": [],
   "source": [
    "data BinaryTrie' a\n",
    "    = BTNil'\n",
    "    | BTTip' Int a\n",
    "    | BTBin' Int (BinaryTrie' a) (BinaryTrie' a)\n",
    "    deriving (Show)\n",
    "\n",
    "lookupBT' :: Key -> BinaryTrie' a -> Maybe a\n",
    "lookupBT' k BTNil' = Nothing\n",
    "lookupBT' k (BTTip' j a) = if k==j then Just a else Nothing\n",
    "lookupBT' k (BTBin' m l r) = if zeroBit k m\n",
    "    then lookupBT' k l\n",
    "    else lookupBT' k r\n",
    "\n",
    "zeroBit k m = k .&. m == 0"
   ]
  }
 ],
 "metadata": {
  "kernelspec": {
   "display_name": "Haskell",
   "language": "haskell",
   "name": "haskell"
  },
  "language_info": {
   "codemirror_mode": "ihaskell",
   "file_extension": ".hs",
   "name": "haskell",
   "pygments_lexer": "Haskell",
   "version": "8.2.2"
  }
 },
 "nbformat": 4,
 "nbformat_minor": 2
}
