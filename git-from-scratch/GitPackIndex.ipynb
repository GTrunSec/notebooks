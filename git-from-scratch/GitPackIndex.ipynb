{
 "cells": [
  {
   "cell_type": "code",
   "execution_count": 1,
   "metadata": {
    "collapsed": false,
    "deletable": true,
    "editable": true
   },
   "outputs": [
    {
     "data": {
      "text/plain": [
       "pack-44abe4e456180e053619e0422cb92be7fe650af5.idx\n",
       "pack-44abe4e456180e053619e0422cb92be7fe650af5.pack"
      ]
     },
     "metadata": {},
     "output_type": "display_data"
    }
   ],
   "source": [
    "{-# LANGUAGE OverloadedStrings #-}\n",
    "\n",
    "-- :!if [ -d solarized/ ]; then rm -rf solarized; fi\n",
    "-- :!git clone https://github.com/altercation/solarized\n",
    ":!cd solarized\n",
    ":!ls .git/objects/pack"
   ]
  },
  {
   "cell_type": "code",
   "execution_count": 2,
   "metadata": {
    "collapsed": false,
    "deletable": true,
    "editable": true
   },
   "outputs": [],
   "source": [
    "import Git.Loose (Ref, parsed, parseBinRef)"
   ]
  },
  {
   "cell_type": "code",
   "execution_count": 3,
   "metadata": {
    "collapsed": false,
    "deletable": true,
    "editable": true
   },
   "outputs": [
    {
     "data": {
      "text/plain": [
       "[\".git/objects/pack/pack-44abe4e456180e053619e0422cb92be7fe650af5.idx\"]"
      ]
     },
     "metadata": {},
     "output_type": "display_data"
    }
   ],
   "source": [
    "import System.Directory (getDirectoryContents)\n",
    "import System.FilePath  ((</>), takeExtension)\n",
    "\n",
    "getPackIndices :: FilePath -> IO [FilePath]\n",
    "getPackIndices path = do\n",
    "    let packPath = path </> \"objects\" </> \"pack\"\n",
    "    files <- getDirectoryContents packPath\n",
    "    let indices = filter (\\f -> takeExtension f == \".idx\") files\n",
    "    return $ map (packPath </>) indices\n",
    "\n",
    "getPackIndices \".git\""
   ]
  },
  {
   "cell_type": "code",
   "execution_count": 4,
   "metadata": {
    "collapsed": true,
    "deletable": true,
    "editable": true
   },
   "outputs": [],
   "source": [
    "import           Data.ByteString      (ByteString)\n",
    "import qualified Data.ByteString as B\n",
    "\n",
    "packIndex <- B.readFile . head =<< getPackIndices \".git\""
   ]
  },
  {
   "cell_type": "code",
   "execution_count": 5,
   "metadata": {
    "collapsed": false,
    "deletable": true,
    "editable": true
   },
   "outputs": [
    {
     "data": {
      "text/plain": [
       "[0,0,0,2]"
      ]
     },
     "metadata": {},
     "output_type": "display_data"
    }
   ],
   "source": [
    "import           Data.Attoparsec.ByteString            (Parser)\n",
    "import qualified Data.Attoparsec.ByteString.Char8 as A\n",
    "import qualified Data.Attoparsec.ByteString       as A (word8)\n",
    "import           Data.Word                             (Word8)\n",
    "\n",
    "parsePackIndexHeader :: Parser [Word8]\n",
    "parsePackIndexHeader = do\n",
    "    traverse A.word8 start\n",
    "    traverse A.word8 version\n",
    "    where\n",
    "        start   = [255, 116, 79, 99]\n",
    "        version = [0, 0, 0, 2]\n",
    "\n",
    "parsed parsePackIndexHeader packIndex"
   ]
  },
  {
   "cell_type": "code",
   "execution_count": 6,
   "metadata": {
    "collapsed": false,
    "deletable": true,
    "editable": true
   },
   "outputs": [
    {
     "data": {
      "text/plain": [
       "[10,16,22,37,45,55,62,66,72,81,88,95,105,115,125,131,141,146,153,161,172,184,194,201,208,223,230,234,242,249,267,280,290,297,303,308,313,321,331,340,355,364,376,383,387,398,409,421,432,444,456,465,475,483,492,497,508,512,520,523,532,540,549,569,577,581,586,601,606,615,622,631,638,651,662,676,685,694,703,715,727,733,743,749,754,763,772,780,786,794,802,812,820,827,837,848,853,860,866,876,887,900,908,917,928,932,934,943,949,957,968,983,994,1008,1017,1025,1038,1044,1052,1063,1076,1082,1087,1096,1104,1115,1120,1127,1140,1148,1157,1165,1172,1181,1191,1198,1206,1211,1221,1232,1235,1245,1253,1264,1269,1284,1288,1298,1304,1309,1314,1322,1328,1338,1344,1350,1359,1367,1374,1384,1391,1403,1411,1419,1430,1438,1449,1462,1467,1477,1481,1498,1507,1516,1526,1539,1549,1555,1559,1566,1574,1580,1590,1599,1607,1614,1618,1624,1632,1638,1648,1657,1661,1666,1672,1676,1684,1689,1701,1714,1721,1731,1741,1749,1757,1761,1771,1779,1789,1797,1808,1814,1817,1821,1827,1838,1852,1862,1869,1879,1884,1895,1904,1908,1919,1923,1931,1936,1942,1946,1957,1966,1971,1977,1993,2000,2013,2020,2028,2036,2042,2049,2059,2070,2075,2090,2100,2113,2119,2133,2138,2147,2159,2168,2175,2186]"
      ]
     },
     "metadata": {},
     "output_type": "display_data"
    }
   ],
   "source": [
    "import Control.Monad (replicateM)\n",
    "import Data.Bits\n",
    "\n",
    "fromBytes :: (Bits a, Integral a) => ByteString -> a\n",
    "fromBytes = B.foldl' (\\l r -> (l `shiftL` 8) + fromIntegral r) 0\n",
    "\n",
    "parseWord32 :: Integral a => Parser a\n",
    "parseWord32 = fromIntegral . fromBytes <$> A.take 4\n",
    "\n",
    "parseTotals :: Parser [Int]\n",
    "parseTotals = replicateM 256 parseWord32\n",
    "\n",
    "cumulativeTotals = parsed (parsePackIndexHeader *> parseTotals) packIndex\n",
    "cumulativeTotals"
   ]
  },
  {
   "cell_type": "code",
   "execution_count": 7,
   "metadata": {
    "collapsed": false,
    "deletable": true,
    "editable": true
   },
   "outputs": [
    {
     "data": {
      "text/plain": [
       "2186"
      ]
     },
     "metadata": {},
     "output_type": "display_data"
    }
   ],
   "source": [
    "total = last cumulativeTotals\n",
    "\n",
    "parseCRC32s :: Int -> Parser [Int]\n",
    "parseCRC32s n = replicateM n parseWord32\n",
    "\n",
    "crc32s = parsed (parsePackIndexHeader *> parseTotals *> parseCRC32s total) packIndex\n",
    "\n",
    "length crc32s"
   ]
  },
  {
   "cell_type": "code",
   "execution_count": 8,
   "metadata": {
    "collapsed": false,
    "deletable": true,
    "editable": true
   },
   "outputs": [
    {
     "data": {
      "text/plain": [
       "ecaf0f0c6ebf660a697ace32d1bed1b431a1426a"
      ]
     },
     "metadata": {},
     "output_type": "display_data"
    }
   ],
   "source": [
    "parseBinRefs :: Int -> Parser [Ref]\n",
    "parseBinRefs n = replicateM n parseBinRef\n",
    "\n",
    "refs = parsed (parsePackIndexHeader *> parseTotals *> parseCRC32s total *> parseBinRefs total) packIndex\n",
    "\n",
    "head refs"
   ]
  },
  {
   "cell_type": "code",
   "execution_count": 9,
   "metadata": {
    "collapsed": false,
    "deletable": true,
    "editable": true
   },
   "outputs": [
    {
     "data": {
      "text/plain": [
       "4322927"
      ]
     },
     "metadata": {},
     "output_type": "display_data"
    }
   ],
   "source": [
    "parseOffsets :: Int -> Parser [Int]\n",
    "parseOffsets n = replicateM n parseWord32\n",
    "\n",
    "offsets = parsed (parsePackIndexHeader *> parseTotals *> parseCRC32s total *> parseBinRefs total *> parseOffsets total) packIndex\n",
    "\n",
    "head offsets"
   ]
  },
  {
   "cell_type": "code",
   "execution_count": 10,
   "metadata": {
    "collapsed": false,
    "deletable": true,
    "editable": true
   },
   "outputs": [
    {
     "data": {
      "text/plain": [
       "[]"
      ]
     },
     "metadata": {},
     "output_type": "display_data"
    },
    {
     "data": {
      "text/plain": [
       "44abe4e456180e053619e0422cb92be7fe650af5"
      ]
     },
     "metadata": {},
     "output_type": "display_data"
    },
    {
     "data": {
      "text/plain": [
       "2295b2642e03cfc7557ecbddc4e757666d48a387"
      ]
     },
     "metadata": {},
     "output_type": "display_data"
    }
   ],
   "source": [
    "getFifthOffsets :: ByteString -> [Int]\n",
    "getFifthOffsets bs\n",
    "    | B.null bs = []\n",
    "    | otherwise = let (h, t) = B.splitAt 8 bs in fromIntegral (fromBytes h) : getFifthOffsets t\n",
    "    \n",
    "computeOffset :: [Int] -> Int -> Int\n",
    "computeOffset fifth offset = if offset < bit 31 then offset else fifth !! (offset - bit 31)\n",
    "\n",
    "remainder = parsed (parsePackIndexHeader *> parseTotals *> parseCRC32s total *> parseBinRefs total *> parseOffsets total *> A.takeByteString) packIndex\n",
    "\n",
    "getFifthOffsets $ B.take (B.length remainder - 40) remainder\n",
    "\n",
    "parsed parseBinRef remainder\n",
    "parsed (parseBinRef *> parseBinRef) remainder"
   ]
  },
  {
   "cell_type": "code",
   "execution_count": 11,
   "metadata": {
    "collapsed": false,
    "deletable": true,
    "editable": true
   },
   "outputs": [
    {
     "data": {
      "text/plain": [
       "PackIndexEntry 315724 \"ecaf0f0c6ebf660a697ace32d1bed1b431a1426a\" 4322927"
      ]
     },
     "metadata": {},
     "output_type": "display_data"
    }
   ],
   "source": [
    "data PackIndexEntry = PackIndexEntry Int Ref Int deriving (Eq, Show)\n",
    "\n",
    "parsePackIndex :: Parser [PackIndexEntry]\n",
    "parsePackIndex = do\n",
    "    parsePackIndexHeader\n",
    "    totals    <- parseTotals\n",
    "    let total = last totals\n",
    "    crc32s    <- parseCRC32s total\n",
    "    refs      <- parseBinRefs total\n",
    "    offsets'  <- parseOffsets total\n",
    "    remainder <- A.takeByteString\n",
    "    let (fifth, checksums) = B.splitAt (B.length remainder - 40) remainder\n",
    "    let fifthOffsets = getFifthOffsets fifth\n",
    "    let offsets = map (computeOffset fifthOffsets) offsets'\n",
    "    return $ zipWith3 PackIndexEntry crc32s refs offsets\n",
    "\n",
    "packIndexEntries = parsed parsePackIndex packIndex\n",
    "\n",
    "head packIndexEntries"
   ]
  }
 ],
 "metadata": {
  "kernelspec": {
   "display_name": "Haskell",
   "language": "haskell",
   "name": "haskell"
  },
  "language_info": {
   "codemirror_mode": "ihaskell",
   "file_extension": ".hs",
   "name": "haskell",
   "version": "8.0.2"
  }
 },
 "nbformat": 4,
 "nbformat_minor": 2
}
