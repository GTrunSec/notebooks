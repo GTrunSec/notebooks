{
 "cells": [
  {
   "cell_type": "code",
   "execution_count": 1,
   "metadata": {
    "collapsed": false
   },
   "outputs": [
    {
     "data": {
      "text/plain": [
       "pack-44abe4e456180e053619e0422cb92be7fe650af5.idx\n",
       "pack-44abe4e456180e053619e0422cb92be7fe650af5.pack"
      ]
     },
     "metadata": {},
     "output_type": "display_data"
    }
   ],
   "source": [
    "{-# LANGUAGE OverloadedStrings #-}\n",
    "\n",
    "-- :!if [ -d solarized/ ]; then rm -rf solarized; fi\n",
    "-- :!git clone https://github.com/altercation/solarized\n",
    ":!cd solarized\n",
    ":!ls .git/objects/pack"
   ]
  },
  {
   "cell_type": "code",
   "execution_count": 2,
   "metadata": {
    "collapsed": false
   },
   "outputs": [
    {
     "data": {
      "text/plain": [
       "[\".git/objects/pack/pack-44abe4e456180e053619e0422cb92be7fe650af5.idx\"]"
      ]
     },
     "metadata": {},
     "output_type": "display_data"
    }
   ],
   "source": [
    "import System.Directory (getDirectoryContents)\n",
    "import System.FilePath  ((</>), takeExtension)\n",
    "\n",
    "getPackIndices :: FilePath -> IO [FilePath]\n",
    "getPackIndices path = do\n",
    "    let packPath = path </> \"objects\" </> \"pack\"\n",
    "    files <- getDirectoryContents packPath\n",
    "    let indices = filter (\\f -> takeExtension f == \".idx\") files\n",
    "    return $ map (packPath </>) indices\n",
    "\n",
    "getPackIndices \".git\""
   ]
  },
  {
   "cell_type": "code",
   "execution_count": 3,
   "metadata": {
    "collapsed": true
   },
   "outputs": [],
   "source": [
    "import           Data.ByteString      (ByteString)\n",
    "import qualified Data.ByteString as B\n",
    "\n",
    "packIndex <- B.readFile . head =<< getPackIndices \".git\""
   ]
  },
  {
   "cell_type": "code",
   "execution_count": 4,
   "metadata": {
    "collapsed": true
   },
   "outputs": [],
   "source": [
    "import           Data.Attoparsec.ByteString            (Parser)\n",
    "import qualified Data.Attoparsec.ByteString.Char8 as A\n",
    "import qualified Data.Attoparsec.ByteString       as A (word8)\n",
    "\n",
    "parsed :: Parser a -> ByteString -> a\n",
    "parsed parser = either error id . A.parseOnly parser"
   ]
  },
  {
   "cell_type": "code",
   "execution_count": 5,
   "metadata": {
    "collapsed": false
   },
   "outputs": [
    {
     "data": {
      "text/plain": [
       "[0,0,0,2]"
      ]
     },
     "metadata": {},
     "output_type": "display_data"
    }
   ],
   "source": [
    "import Data.Word (Word8)\n",
    "\n",
    "parsePackIndexHeader :: Parser [Word8]\n",
    "parsePackIndexHeader = do\n",
    "    traverse A.word8 start\n",
    "    traverse A.word8 version\n",
    "    where\n",
    "        start   = [255, 116, 79, 99]\n",
    "        version = [0, 0, 0, 2]\n",
    "\n",
    "parsed parsePackIndexHeader packIndex"
   ]
  }
 ],
 "metadata": {
  "kernelspec": {
   "display_name": "Haskell",
   "language": "haskell",
   "name": "haskell"
  },
  "language_info": {
   "codemirror_mode": "ihaskell",
   "file_extension": ".hs",
   "name": "haskell",
   "version": "8.0.2"
  }
 },
 "nbformat": 4,
 "nbformat_minor": 2
}
