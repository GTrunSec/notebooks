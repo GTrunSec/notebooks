{
 "cells": [
  {
   "cell_type": "code",
   "execution_count": 1,
   "metadata": {
    "collapsed": true
   },
   "outputs": [],
   "source": [
    "{-# LANGUAGE InstanceSigs #-}\n",
    "\n",
    "import Control.Applicative (Alternative(..))\n",
    "import Control.Monad.Trans.State.Strict\n",
    "import Control.Monad (guard)\n",
    "import Data.Char (isSpace, isDigit, ord)"
   ]
  },
  {
   "cell_type": "code",
   "execution_count": 2,
   "metadata": {
    "collapsed": true
   },
   "outputs": [],
   "source": [
    "newtype Parser a = Parser { unParser :: StateT String Maybe a }\n",
    "runParser = runStateT . unParser"
   ]
  },
  {
   "cell_type": "code",
   "execution_count": 3,
   "metadata": {
    "collapsed": true
   },
   "outputs": [],
   "source": [
    "instance Functor Parser where\n",
    "    fmap :: (a -> b) -> Parser a -> Parser b\n",
    "    fmap f p = Parser $ f <$> unParser p"
   ]
  },
  {
   "cell_type": "code",
   "execution_count": 4,
   "metadata": {
    "collapsed": true
   },
   "outputs": [],
   "source": [
    "instance Applicative Parser where\n",
    "    pure :: a -> Parser a\n",
    "    pure a  = Parser $ pure a\n",
    "    (<*>) :: Parser (a -> b) -> Parser a -> Parser b\n",
    "    f <*> a = Parser $ unParser f <*> unParser a\n",
    "\n",
    "instance Alternative Parser where\n",
    "    empty :: Parser a\n",
    "    empty   = Parser empty\n",
    "    (<|>) :: Parser a -> Parser a -> Parser a\n",
    "    a <|> b = Parser $ unParser a <|> unParser b"
   ]
  },
  {
   "cell_type": "code",
   "execution_count": 5,
   "metadata": {
    "collapsed": true
   },
   "outputs": [],
   "source": [
    "instance Monad Parser where\n",
    "    (>>=) :: Parser a -> (a -> Parser b) -> Parser b\n",
    "    a >>= f = Parser $ StateT $ \\s -> do\n",
    "        (a', s') <- runParser a s\n",
    "        runParser (f a') s'"
   ]
  },
  {
   "cell_type": "code",
   "execution_count": 6,
   "metadata": {
    "collapsed": true
   },
   "outputs": [],
   "source": [
    "anyChar :: Parser Char\n",
    "anyChar = Parser . StateT $ \\s -> case s of\n",
    "    []     -> empty\n",
    "    (c:cs) -> pure (c, cs)\n",
    "\n",
    "satisfy :: (Char -> Bool) -> Parser Char\n",
    "satisfy pred = do\n",
    "    c <- anyChar\n",
    "    guard $ pred c\n",
    "    pure c\n",
    "\n",
    "char :: Char -> Parser Char\n",
    "char = satisfy . (==)\n",
    "\n",
    "string :: String -> Parser String\n",
    "string []     = pure []\n",
    "string (c:cs) = (:) <$> char c <*> string cs"
   ]
  },
  {
   "cell_type": "code",
   "execution_count": 7,
   "metadata": {
    "collapsed": true
   },
   "outputs": [],
   "source": [
    "sepBy :: Parser a -> Parser b -> Parser [a]\n",
    "sepBy p sep = (p `sepBy1` sep) <|> pure []\n",
    "\n",
    "sepBy1 :: Parser a -> Parser b -> Parser [a]\n",
    "sepBy1 p sep = (:) <$> p <*> many (sep *> p)"
   ]
  },
  {
   "cell_type": "code",
   "execution_count": 8,
   "metadata": {
    "collapsed": true
   },
   "outputs": [],
   "source": [
    "chainl :: Parser a -> Parser (a -> a -> a) -> a -> Parser a\n",
    "chainl p op a = (p `chainl1` op) <|> pure a\n",
    "\n",
    "chainl1 :: Parser a -> Parser (a -> a -> a) -> Parser a\n",
    "chainl1 p op = p >>= rest\n",
    "    where \n",
    "        rest a = (do\n",
    "            f <- op\n",
    "            b <- p\n",
    "            rest (f a b)) <|> pure a\n",
    "\n",
    "chainr :: Parser a -> Parser (a -> a -> a) -> a -> Parser a\n",
    "chainr p op a = (p `chainr1` op) <|> pure a\n",
    "\n",
    "chainr1 :: Parser a -> Parser (a -> a -> a) -> Parser a\n",
    "chainr1 p op = scan\n",
    "    where\n",
    "        scan   = p >>= rest\n",
    "        rest a = (do\n",
    "            f <- op\n",
    "            b <- scan\n",
    "            rest (f a b)) <|> pure a"
   ]
  },
  {
   "cell_type": "code",
   "execution_count": 9,
   "metadata": {
    "collapsed": true
   },
   "outputs": [],
   "source": [
    "space :: Parser String\n",
    "space = many (satisfy isSpace)\n",
    "\n",
    "token :: Parser a -> Parser a\n",
    "token p = p <* space\n",
    "\n",
    "symbol :: String -> Parser String\n",
    "symbol = token . string\n",
    "\n",
    "apply :: Parser a -> String -> Maybe (a, String)\n",
    "apply p = runParser (space *> p)"
   ]
  },
  {
   "cell_type": "code",
   "execution_count": 10,
   "metadata": {
    "collapsed": true
   },
   "outputs": [],
   "source": [
    "expr, term, factor, digit :: Parser Int\n",
    "expr   = term   `chainl1` addop\n",
    "term   = factor `chainl1` mulop\n",
    "factor = digit <|> (symbol \"(\" *> expr <* symbol \")\")\n",
    "digit  = subtract (ord '0') . ord <$> token (satisfy isDigit)\n",
    "\n",
    "addop, mulop :: Parser (Int -> Int -> Int)\n",
    "addop = (symbol \"+\" *> pure (+)) <|> (symbol \"-\" *> pure (-))\n",
    "mulop = (symbol \"*\" *> pure (*)) <|> (symbol \"/\" *> pure (div))"
   ]
  },
  {
   "cell_type": "code",
   "execution_count": 11,
   "metadata": {},
   "outputs": [
    {
     "data": {
      "text/plain": [
       "Just (8,\"\")"
      ]
     },
     "metadata": {},
     "output_type": "display_data"
    }
   ],
   "source": [
    "runParser expr \"(1 + 2 * 4) / 3 + 5\""
   ]
  }
 ],
 "metadata": {
  "kernelspec": {
   "display_name": "Haskell",
   "language": "haskell",
   "name": "haskell"
  },
  "language_info": {
   "codemirror_mode": "ihaskell",
   "file_extension": ".hs",
   "name": "haskell",
   "version": "8.0.2"
  }
 },
 "nbformat": 4,
 "nbformat_minor": 2
}
