{
 "cells": [
  {
   "cell_type": "markdown",
   "metadata": {},
   "source": [
    "--------------------------------------------------------------------------------\n",
    "title: Revisiting 'Monadic Parsing in Haskell'\n",
    "published: 2018-02-04\n",
    "tags: haskell, programming, monads\n",
    "--------------------------------------------------------------------------------"
   ]
  },
  {
   "cell_type": "markdown",
   "metadata": {},
   "source": [
    "_Translated to [Russian](http://clipartmag.com/ru-revisiting-monadic-parsing-haskell) by [Clipart Team](http://clipartmag.com/)_\n",
    "\n",
    "['Monadic Parsing in Haskell'](http://www.cs.nott.ac.uk/~pszgmh/pearl.pdf) is a short paper that laid the groundwork for libraries like Parsec and Attoparsec. Although it was published in 1998 (almost 20 years ago!) it has aged gracefully and the code samples will run with almost no changes. However, the state of the art has advanced since then and I think the use of modern Haskell can make this material simpler to follow and implement.\n",
    "\n",
    "Monadic parsing in Haskell is what sold me on all three. Before Haskell my experiences with parsing had involved buggy regexes for lexers and wrangling tools like `bison` and `flex`, and although I'd heard that Haskell was good for parsing I couldn't see how this could be the case when I couldn't find any robust regex libraries! An aside in some documentation pointed me to Attoparsec and when I saw the [example RFC2616 parser](https://github.com/bos/attoparsec/blob/master/examples/RFC2616.hs) it seemed like a magic trick. How could it be so small? After a few weeks of trying it myself I was convinced and I've never looked back. This was the first application of monads I encountered that actually made my life simpler, and I started to realise that there was more to monads than smugness and being inaccessible to newcomers.\n",
    "\n",
    "The first change I want to make is the type definition. The paper uses the type\n",
    "\n",
    "```haskell\n",
    "newtype Parser a = Parser (String -> [(a,String)])\n",
    "```\n",
    "\n",
    "and although this is a famous enough definition that it has [its own rhyme](http://www.willamette.edu/~fruehr/haskell/seuss.html), I think the flexibility of lists is wasted here. The authors don't use it, and instead define a 'deterministic choice' operator `(+++)` that gives at most one result and use that everywhere instead. There is already a perfectly good datatype in Haskell for lists of at most one element, `Maybe`, so I'll use that instead of `[]`:\n",
    "\n",
    "```haskell\n",
    "newtype Parser a = Parser (String -> Maybe (a, String))\n",
    "```\n",
    "\n",
    "If we rename `String` to `s` and `Maybe` to `m`,  a more interesting pattern is revealed:\n",
    "\n",
    "```haskell\n",
    "newtype Parser s m a = Parser (s -> m (a, s))\n",
    "```\n",
    "\n",
    "This is [`StateT`](https://hackage.haskell.org/package/transformers/docs/Control-Monad-Trans-State-Strict.html#t:StateT)! Recognising this pattern makes instance definitions much easier, so much easier in fact that GHC can do it for us automatically with `-XGeneralizedNewtypeDeriving`! For completeness I will resist the temptation to do this, but you can try it yourself with\n",
    "\n",
    "```haskell\n",
    "{-# LANGUAGE GeneralizedNewtypeDeriving #-}\n",
    "newtype Parser a = Parser (StateT String Maybe a) deriving (Functor, Applicative, Alternative, Monad)\n",
    "```\n",
    "\n",
    "The second change is also for completeness: the authors jump straight into the `Monad` instance without defining `Functor` and `Applicative` first. To be fair, the `Applicative` abstraction hadn't been [discovered](http://www.staff.city.ac.uk/~ross/papers/Applicative.html) yet, and this is also the reason why the authors define `mzero` and `mplus` (which they call `(++)`) instead of the more general `Alternative` methods `empty` and `(<|>)`. Because of our `Maybe` change, defining `Alternative` means I won't need to bother with their `(+++)`.\n",
    "\n",
    "Finally, I'll try to avoid do-notation where possible in favour of a more Applicative style using e.g. `<*>` (which can be pronounced 'splat' if you don't already have a name for it) because most of these parsers don't require it.\n",
    "\n",
    "Let's begin!"
   ]
  },
  {
   "cell_type": "code",
   "execution_count": 1,
   "metadata": {
    "collapsed": true
   },
   "outputs": [],
   "source": [
    "{-# LANGUAGE InstanceSigs #-}\n",
    "\n",
    "import Control.Applicative (Alternative(..))\n",
    "import Control.Monad.Trans.State.Strict\n",
    "import Control.Monad (guard)\n",
    "import Data.Char (isSpace, isDigit, ord)"
   ]
  },
  {
   "cell_type": "markdown",
   "metadata": {},
   "source": [
    "For convenience I've defined an `unParser` that unwraps a `Parser a` to its underlying `StateT String Maybe a`."
   ]
  },
  {
   "cell_type": "code",
   "execution_count": 2,
   "metadata": {
    "collapsed": true
   },
   "outputs": [],
   "source": [
    "newtype Parser a = Parser { unParser :: StateT String Maybe a }\n",
    "runParser = runStateT . unParser"
   ]
  },
  {
   "cell_type": "markdown",
   "metadata": {},
   "source": [
    "`fmap` is as simple as unwrapping the `Parser` and using the underlying `StateT`'s `fmap`."
   ]
  },
  {
   "cell_type": "code",
   "execution_count": 3,
   "metadata": {
    "collapsed": true
   },
   "outputs": [],
   "source": [
    "instance Functor Parser where\n",
    "    fmap :: (a -> b) -> Parser a -> Parser b\n",
    "    fmap f p = Parser $ f <$> unParser p"
   ]
  },
  {
   "cell_type": "markdown",
   "metadata": {},
   "source": [
    "More unwrapping for `Applicative` and `Alternative`.\n",
    "\n",
    "The [`Alternative`](https://hackage.haskell.org/package/base/docs/Control-Applicative.html#t:Alternative) typeclass allows us to express the idea of running one parser or another parser, resulting in the first successful parse. `empty` handles the case where both parsers fail, and `(<|>)` (which can be pronounced 'alt') performs the alternation. This is convenient enough on its own, but `Alternative` also provides `many` and `some` which correspond exactly to `many` and `many1` from the paper:\n",
    "\n",
    "```haskell\n",
    "-- many v = some v <|> pure []\n",
    "-- some v = (:) <$> v <*> many v\n",
    "```\n",
    "\n",
    "but only after replacing `[]` with `Maybe` like I've done here so that `(<|>)` corresponds to `(+++)`. "
   ]
  },
  {
   "cell_type": "code",
   "execution_count": 4,
   "metadata": {
    "collapsed": true
   },
   "outputs": [],
   "source": [
    "instance Applicative Parser where\n",
    "    pure :: a -> Parser a\n",
    "    pure a  = Parser $ pure a\n",
    "    (<*>) :: Parser (a -> b) -> Parser a -> Parser b\n",
    "    f <*> a = Parser $ unParser f <*> unParser a\n",
    "\n",
    "instance Alternative Parser where\n",
    "    empty :: Parser a\n",
    "    empty   = Parser empty\n",
    "    (<|>) :: Parser a -> Parser a -> Parser a\n",
    "    a <|> b = Parser $ unParser a <|> unParser b"
   ]
  },
  {
   "cell_type": "markdown",
   "metadata": {},
   "source": [
    "The `Monad` definition is slightly more interesting, because we have to manually construct the `StateT` value, but this also boils down to unwrapping and rewrapping."
   ]
  },
  {
   "cell_type": "code",
   "execution_count": 5,
   "metadata": {
    "collapsed": true
   },
   "outputs": [],
   "source": [
    "instance Monad Parser where\n",
    "    (>>=) :: Parser a -> (a -> Parser b) -> Parser b\n",
    "    a >>= f = Parser $ StateT $ \\s -> do\n",
    "        (a', s') <- runParser a s\n",
    "        runParser (f a') s'"
   ]
  },
  {
   "cell_type": "markdown",
   "metadata": {},
   "source": [
    "Notice that `anyChar` is the only function below that manually constructs a `Parser`, and `satisfy` is the only one that requires the `Monad` interface."
   ]
  },
  {
   "cell_type": "code",
   "execution_count": 6,
   "metadata": {
    "collapsed": true
   },
   "outputs": [],
   "source": [
    "anyChar :: Parser Char\n",
    "anyChar = Parser . StateT $ \\s -> case s of\n",
    "    []     -> empty\n",
    "    (c:cs) -> pure (c, cs)\n",
    "\n",
    "satisfy :: (Char -> Bool) -> Parser Char\n",
    "satisfy pred = do\n",
    "    c <- anyChar\n",
    "    guard $ pred c\n",
    "    pure c\n",
    "\n",
    "char :: Char -> Parser Char\n",
    "char = satisfy . (==)\n",
    "\n",
    "string :: String -> Parser String\n",
    "string []     = pure []\n",
    "string (c:cs) = (:) <$> char c <*> string cs"
   ]
  },
  {
   "cell_type": "markdown",
   "metadata": {},
   "source": [
    "Again, `many` and `many1` don't need to be defined because they are provided for free!"
   ]
  },
  {
   "cell_type": "code",
   "execution_count": 7,
   "metadata": {
    "collapsed": true
   },
   "outputs": [],
   "source": [
    "sepBy :: Parser a -> Parser b -> Parser [a]\n",
    "sepBy p sep = (p `sepBy1` sep) <|> pure []\n",
    "\n",
    "sepBy1 :: Parser a -> Parser b -> Parser [a]\n",
    "sepBy1 p sep = (:) <$> p <*> many (sep *> p)"
   ]
  },
  {
   "cell_type": "markdown",
   "metadata": {},
   "source": [
    "These are almost identical to the definitions in the paper. I've included `chainr` for completeness."
   ]
  },
  {
   "cell_type": "code",
   "execution_count": 8,
   "metadata": {
    "collapsed": true
   },
   "outputs": [],
   "source": [
    "chainl :: Parser a -> Parser (a -> a -> a) -> a -> Parser a\n",
    "chainl p op a = (p `chainl1` op) <|> pure a\n",
    "\n",
    "chainl1 :: Parser a -> Parser (a -> a -> a) -> Parser a\n",
    "chainl1 p op = p >>= rest\n",
    "    where \n",
    "        rest a = (do\n",
    "            f <- op\n",
    "            b <- p\n",
    "            rest (f a b)) <|> pure a\n",
    "\n",
    "chainr :: Parser a -> Parser (a -> a -> a) -> a -> Parser a\n",
    "chainr p op a = (p `chainr1` op) <|> pure a\n",
    "\n",
    "chainr1 :: Parser a -> Parser (a -> a -> a) -> Parser a\n",
    "chainr1 p op = scan\n",
    "    where\n",
    "        scan   = p >>= rest\n",
    "        rest a = (do\n",
    "            f <- op\n",
    "            b <- scan\n",
    "            rest (f a b)) <|> pure a"
   ]
  },
  {
   "cell_type": "markdown",
   "metadata": {},
   "source": [
    "The only difference here is the replacement of `(>>)` with `(*>)`. These have the same effect, except that the latter works on `Applicative`s and also comes with a counterpart `(<*)`. When writing parsers I find these especially useful because they allow me to combine multiple parsers together when I only care about the output of one of them, e.g. `ignored *> ignored *> value <* ignored`. The calculator example uses this in `factor`."
   ]
  },
  {
   "cell_type": "code",
   "execution_count": 9,
   "metadata": {
    "collapsed": true
   },
   "outputs": [],
   "source": [
    "space :: Parser String\n",
    "space = many (satisfy isSpace)\n",
    "\n",
    "token :: Parser a -> Parser a\n",
    "token p = p <* space\n",
    "\n",
    "symbol :: String -> Parser String\n",
    "symbol = token . string\n",
    "\n",
    "apply :: Parser a -> String -> Maybe (a, String)\n",
    "apply p = runParser (space *> p)"
   ]
  },
  {
   "cell_type": "markdown",
   "metadata": {},
   "source": [
    "The calculator example is almost unchanged."
   ]
  },
  {
   "cell_type": "code",
   "execution_count": 10,
   "metadata": {
    "collapsed": true
   },
   "outputs": [],
   "source": [
    "expr, term, factor, digit :: Parser Int\n",
    "expr   = term   `chainl1` addop\n",
    "term   = factor `chainl1` mulop\n",
    "factor = digit <|> (symbol \"(\" *> expr <* symbol \")\")\n",
    "digit  = subtract (ord '0') . ord <$> token (satisfy isDigit)\n",
    "\n",
    "addop, mulop :: Parser (Int -> Int -> Int)\n",
    "addop = (symbol \"+\" *> pure (+)) <|> (symbol \"-\" *> pure (-))\n",
    "mulop = (symbol \"*\" *> pure (*)) <|> (symbol \"/\" *> pure (div))"
   ]
  },
  {
   "cell_type": "markdown",
   "metadata": {},
   "source": [
    "Finally, the payoff!"
   ]
  },
  {
   "cell_type": "code",
   "execution_count": 11,
   "metadata": {},
   "outputs": [
    {
     "data": {
      "text/plain": [
       "Just (8,\"\")"
      ]
     },
     "metadata": {},
     "output_type": "display_data"
    }
   ],
   "source": [
    "runParser expr \"(1 + 2 * 4) / 3 + 5\""
   ]
  },
  {
   "cell_type": "markdown",
   "metadata": {},
   "source": [
    "What have we gained in 20 years? With only minor changes, the code is more composable and uses finer-grained abstractions. For example, if we change our minds about replacing `[]` with `Maybe`, we can switch it back and would only have to update the type signature of `apply`:\n",
    "\n",
    "```haskell\n",
    "apply :: Parser a -> String -> [(a, String)]\n",
    "apply p = runParser (space *> p) -- the implementation stays the same!\n",
    "```\n",
    "\n",
    "If we want better error messages, we could use a type such as `Either String` to keep track of locations and error messages. The [`yoctoparsec`](http://hackage.haskell.org/package/yoctoparsec) library takes this even further, allowing to you to choose your own stream type.\n",
    "\n",
    "Another big difference is the `Applicative` family of functions, which we can leverage whenever we don't have to branch on a previously parsed value (which turns out to be surprisingly often). I'm a huge fan of the `x <$> y <*> z` and the `ignored *> value <* ignored` idioms and I think it's useful to be able to parse this way.\n",
    "\n",
    "Otherwise, the code is largely the same and I think it's pretty incredible that so little has changed in 20 years! This code is available as an [IHaskell notebook](https://github.com/vaibhavsagar/notebooks/blob/master/revisiting-monadic-parsing-haskell/Parser.ipynb) if you would like to experiment with it yourself.\n",
    "\n",
    "_Edit: I just found ['From monoids to near-semirings: the essence of `MonadPlus` and `Alternative`'](https://lirias.kuleuven.be/bitstream/123456789/499951/1/main.pdf), which demonstrates how my `Maybe`-based parser doesn't strictly obey the `Alternative` laws. Something to keep in mind if you plan to use it or something like it!_\n",
    "\n",
    "Thanks to [Alan O'Donnell](https://github.com/cqfd), [Andrey Mokhov](https://blogs.ncl.ac.uk/andreymokhov/), [Annie Cherkaev](https://anniecherkaev.com/), [Julia Evans](https://jvns.ca/), and [Noah Luck Easterly](https://github.com/rampion/) for comments and feedback!"
   ]
  }
 ],
 "metadata": {
  "kernelspec": {
   "display_name": "Haskell",
   "language": "haskell",
   "name": "haskell"
  },
  "language_info": {
   "codemirror_mode": "ihaskell",
   "file_extension": ".hs",
   "name": "haskell",
   "version": "8.0.2"
  }
 },
 "nbformat": 4,
 "nbformat_minor": 2
}
