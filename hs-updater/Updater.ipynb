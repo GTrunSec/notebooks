{
 "cells": [
  {
   "cell_type": "code",
   "execution_count": 1,
   "metadata": {},
   "outputs": [],
   "source": [
    "{-# LANGUAGE OverloadedStrings #-}\n",
    "{-# LANGUAGE DeriveGeneric #-}\n",
    "\n",
    "import Data.ByteString.Lazy (readFile, writeFile)\n",
    "import Control.Lens hiding ((.=))\n",
    "import Data.Default.Class\n",
    "import Data.Aeson\n",
    "import Data.Aeson.Encode.Pretty\n",
    "import Data.Aeson.Lens\n",
    "import Data.Monoid ((<>))\n",
    "import Data.Text (Text, pack, unpack)\n",
    "import GHC.Generics\n",
    "import Network.HTTP.Req\n",
    "import Prelude hiding (readFile, writeFile)\n",
    "import System.Process"
   ]
  },
  {
   "cell_type": "code",
   "execution_count": 2,
   "metadata": {},
   "outputs": [],
   "source": [
    "data Project = Project\n",
    "    { owner  :: Text\n",
    "    , repo   :: Text\n",
    "    , rev    :: Text\n",
    "    , sha256 :: Text\n",
    "    } deriving (Show, Generic)\n",
    "\n",
    "instance FromJSON Project\n",
    "instance ToJSON Project"
   ]
  },
  {
   "cell_type": "code",
   "execution_count": 3,
   "metadata": {},
   "outputs": [],
   "source": [
    "extractProject :: Value -> Text -> Maybe Project\n",
    "extractProject versions name = do\n",
    "    prj <- versions ^? key name\n",
    "    case fromJSON prj of\n",
    "        Error _ -> Nothing\n",
    "        Success p -> Just p"
   ]
  },
  {
   "cell_type": "code",
   "execution_count": 4,
   "metadata": {},
   "outputs": [],
   "source": [
    "r :: (MonadHttp m, FromJSON a) => Project -> Text -> m (JsonResponse a)\n",
    "r project branch = req GET\n",
    "    (  https \"api.github.com\"\n",
    "    /: \"repos\"\n",
    "    /: owner project\n",
    "    /: repo project\n",
    "    /: \"branches\"\n",
    "    /: branch\n",
    "    ) NoReqBody jsonResponse (header \"User-Agent\" \"vaibhavsagar\")"
   ]
  },
  {
   "cell_type": "code",
   "execution_count": 5,
   "metadata": {},
   "outputs": [],
   "source": [
    "getRev :: Project -> Text -> IO (Maybe Text)\n",
    "getRev project branch = do\n",
    "    res <- responseBody <$> runReq def (r project branch) :: IO Value\n",
    "    return $ res ^? key \"commit\" . key \"sha\" . _String"
   ]
  },
  {
   "cell_type": "code",
   "execution_count": 6,
   "metadata": {},
   "outputs": [],
   "source": [
    "buildURL :: Project -> Text\n",
    "buildURL project\n",
    "    =  \"https://github.com/\"\n",
    "    <> owner project <> \"/\"\n",
    "    <> repo project  <> \"/\"\n",
    "    <> \"archive\"     <> \"/\"\n",
    "    <> rev project   <> \".tar.gz\" "
   ]
  },
  {
   "cell_type": "code",
   "execution_count": 7,
   "metadata": {},
   "outputs": [],
   "source": [
    "getSha256 :: Text -> Bool -> IO Text\n",
    "getSha256 url doUnpack = let\n",
    "    option = if doUnpack then [\"--unpack\"] else []\n",
    "    in pack . init <$> readProcess \"nix-prefetch-url\" (option ++ [unpack url]) \"\""
   ]
  },
  {
   "cell_type": "code",
   "execution_count": 8,
   "metadata": {},
   "outputs": [],
   "source": [
    "update :: FilePath -> Text -> Text -> Bool -> IO ()\n",
    "update filename projectName branchName doUnpack = do\n",
    "    Just versions <- decode <$> readFile filename :: IO (Maybe Value)\n",
    "    let (Just project) = extractProject versions projectName\n",
    "    Just latestRev <- getRev project branchName\n",
    "    latestSha256 <- getSha256 (buildURL project { rev = latestRev }) doUnpack\n",
    "    let project' = project { rev = latestRev, sha256 = latestSha256 }\n",
    "    let versions' = versions & key projectName .~ toJSON project'\n",
    "    writeFile filename (encodePretty' defConfig { confIndent = Spaces 2, confCompare = compare } versions')"
   ]
  },
  {
   "cell_type": "code",
   "execution_count": 9,
   "metadata": {},
   "outputs": [
    {
     "data": {
      "text/plain": []
     },
     "metadata": {},
     "output_type": "display_data"
    }
   ],
   "source": [
    "update \"versions.json\" \"nixpkgs\" \"nixos-18.03\" False"
   ]
  }
 ],
 "metadata": {
  "kernelspec": {
   "display_name": "Haskell",
   "language": "haskell",
   "name": "haskell"
  },
  "language_info": {
   "codemirror_mode": "ihaskell",
   "file_extension": ".hs",
   "name": "haskell",
   "pygments_lexer": "Haskell",
   "version": "8.2.2"
  }
 },
 "nbformat": 4,
 "nbformat_minor": 2
}
