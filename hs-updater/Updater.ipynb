{
 "cells": [
  {
   "cell_type": "code",
   "execution_count": 1,
   "metadata": {},
   "outputs": [],
   "source": [
    "{-# LANGUAGE OverloadedStrings #-}\n",
    "{-# LANGUAGE DeriveGeneric #-}\n",
    "{-# LANGUAGE TemplateHaskell #-}\n",
    "\n",
    "import Network.HTTP.Req\n",
    "import qualified Data.ByteString as B\n",
    "import qualified Data.ByteString.Lazy as BL\n",
    "import Control.Lens hiding ((.=))\n",
    "import Data.Default.Class\n",
    "import Data.Aeson\n",
    "import Data.Aeson.Lens\n",
    "import Data.Aeson.Text\n",
    "import Data.Attoparsec.Text\n",
    "import Data.Monoid ((<>), mconcat)\n",
    "import qualified Data.Text as T\n",
    "import qualified Data.Text.IO as T\n",
    "import Data.Traversable\n",
    "import Data.List (nub)\n",
    "import GHC.Generics"
   ]
  },
  {
   "cell_type": "code",
   "execution_count": 2,
   "metadata": {},
   "outputs": [],
   "source": [
    "data Project = Project\n",
    "    { owner  :: T.Text\n",
    "    , repo   :: T.Text\n",
    "    , rev    :: T.Text\n",
    "    , sha256 :: T.Text\n",
    "    } deriving (Show, Generic)\n",
    "\n",
    "instance FromJSON Project\n",
    "instance ToJSON Project"
   ]
  },
  {
   "cell_type": "code",
   "execution_count": 3,
   "metadata": {},
   "outputs": [],
   "source": [
    "versions <- BL.readFile \"versions.json\""
   ]
  },
  {
   "cell_type": "code",
   "execution_count": 4,
   "metadata": {},
   "outputs": [
    {
     "data": {
      "text/plain": [
       "Just (Project {owner = \"NixOS\", repo = \"nixpkgs-channels\", rev = \"89ff9f94b67db63d18cc0707f8fd74d1244516fb\", sha256 = \"1x6zk7vrnnv236n3cws70jsaxmb2aibb8m32jbrfv2ni5rfq3dgn\"})"
      ]
     },
     "metadata": {},
     "output_type": "display_data"
    },
    {
     "data": {
      "text/plain": [
       "Object (fromList [(\"owner\",String \"NixOS\"),(\"repo\",String \"nixpkgs-channels\"),(\"sha256\",String \"1x6zk7vrnnv236n3cws70jsaxmb2aibb8m32jbrfv2ni5rfq3dgn\"),(\"rev\",String \"89ff9f94b67db63d18cc0707f8fd74d1244516fb\")])"
      ]
     },
     "metadata": {},
     "output_type": "display_data"
    }
   ],
   "source": [
    "extractProject :: BL.ByteString -> T.Text -> Maybe Project\n",
    "extractProject versions name = do\n",
    "    prj <- versions ^? key name\n",
    "    case fromJSON prj of\n",
    "        Error _ -> Nothing\n",
    "        Success p -> Just p\n",
    "\n",
    "prj = extractProject versions \"nixpkgs\"\n",
    "prj\n",
    "toJSON prj"
   ]
  },
  {
   "cell_type": "code",
   "execution_count": 5,
   "metadata": {},
   "outputs": [
    {
     "data": {
      "text/plain": [
       "\"{\\\"nixpkgs\\\":{\\\"owner\\\":\\\"NixOS\\\",\\\"repo\\\":\\\"nixpkgs-channels\\\",\\\"sha256\\\":\\\"1x6zk7vrnnv236n3cws70jsaxmb2aibb8m32jbrfv2ni5rfq3dgn\\\",\\\"rev\\\":\\\"89ff9f94b67db63d18cc0707f8fd74d1244516fb\\\"},\\\"ihaskell\\\":{\\\"owner\\\":\\\"gibiansky\\\",\\\"repo\\\":\\\"IHaskell\\\",\\\"sha256\\\":\\\"041v7zlgvwf5bbvi52n2cp4kld0x7lcdij2fss7076bxkc8k0ayy\\\",\\\"rev\\\":\\\"0d454acc4d7752ce16bf7f321f308f602f6555ea\\\"}}\""
      ]
     },
     "metadata": {},
     "output_type": "display_data"
    }
   ],
   "source": [
    "versions & key \"nixpkgs\" .~ toJSON prj"
   ]
  }
 ],
 "metadata": {
  "kernelspec": {
   "display_name": "Haskell",
   "language": "haskell",
   "name": "haskell"
  },
  "language_info": {
   "codemirror_mode": "ihaskell",
   "file_extension": ".hs",
   "name": "haskell",
   "pygments_lexer": "Haskell",
   "version": "8.2.2"
  }
 },
 "nbformat": 4,
 "nbformat_minor": 2
}
