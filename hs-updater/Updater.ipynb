{
 "cells": [
  {
   "cell_type": "code",
   "execution_count": 1,
   "metadata": {},
   "outputs": [],
   "source": [
    "{-# LANGUAGE OverloadedStrings #-}\n",
    "{-# LANGUAGE DeriveGeneric #-}\n",
    "{-# LANGUAGE TemplateHaskell #-}\n",
    "\n",
    "import Network.HTTP.Req\n",
    "import qualified Data.ByteString as B\n",
    "import qualified Data.ByteString.Lazy as BL\n",
    "import Control.Lens hiding ((.=))\n",
    "import Data.Default.Class\n",
    "import Data.Aeson\n",
    "import Data.Aeson.Encode.Pretty\n",
    "import Data.Aeson.Lens\n",
    "import Data.Aeson.Text\n",
    "import Data.Attoparsec.Text\n",
    "import Data.Monoid ((<>), mconcat)\n",
    "import qualified Data.Text as T\n",
    "import qualified Data.Text.IO as T\n",
    "import Data.Traversable\n",
    "import Data.List (nub)\n",
    "import GHC.Generics\n",
    "import System.Process"
   ]
  },
  {
   "cell_type": "code",
   "execution_count": 2,
   "metadata": {},
   "outputs": [],
   "source": [
    "data Project = Project\n",
    "    { owner  :: T.Text\n",
    "    , repo   :: T.Text\n",
    "    , rev    :: T.Text\n",
    "    , sha256 :: T.Text\n",
    "    } deriving (Show, Generic)\n",
    "\n",
    "instance FromJSON Project\n",
    "instance ToJSON Project"
   ]
  },
  {
   "cell_type": "code",
   "execution_count": 3,
   "metadata": {},
   "outputs": [],
   "source": [
    "Just versions <- decode <$> BL.readFile \"versions.json\" :: IO (Maybe Value)"
   ]
  },
  {
   "cell_type": "code",
   "execution_count": 4,
   "metadata": {},
   "outputs": [
    {
     "data": {
      "text/plain": [
       "Just (Project {owner = \"NixOS\", repo = \"nixpkgs-channels\", rev = \"cd0cd946f37cbf94f4a7893a8ce3da61c4dc3de0\", sha256 = \"0lcfch1bmgx907444qdk0bka1wnsc2bgyrlgm93g2s4djl8j07s8\"})"
      ]
     },
     "metadata": {},
     "output_type": "display_data"
    },
    {
     "data": {
      "text/plain": [
       "Object (fromList [(\"owner\",String \"NixOS\"),(\"repo\",String \"nixpkgs-channels\"),(\"sha256\",String \"0lcfch1bmgx907444qdk0bka1wnsc2bgyrlgm93g2s4djl8j07s8\"),(\"rev\",String \"cd0cd946f37cbf94f4a7893a8ce3da61c4dc3de0\")])"
      ]
     },
     "metadata": {},
     "output_type": "display_data"
    }
   ],
   "source": [
    "extractProject :: Value -> T.Text -> Maybe Project\n",
    "extractProject versions name = do\n",
    "    prj <- versions ^? key name\n",
    "    case fromJSON prj of\n",
    "        Error _ -> Nothing\n",
    "        Success p -> Just p\n",
    "\n",
    "prj = extractProject versions \"nixpkgs\"\n",
    "prj\n",
    "toJSON prj"
   ]
  },
  {
   "cell_type": "code",
   "execution_count": 5,
   "metadata": {},
   "outputs": [
    {
     "data": {
      "text/plain": [
       "Object (fromList [(\"nixpkgs\",Object (fromList [(\"owner\",String \"NixOS\"),(\"repo\",String \"nixpkgs-channels\"),(\"sha256\",String \"0lcfch1bmgx907444qdk0bka1wnsc2bgyrlgm93g2s4djl8j07s8\"),(\"rev\",String \"cd0cd946f37cbf94f4a7893a8ce3da61c4dc3de0\")])),(\"ihaskell\",Object (fromList [(\"owner\",String \"gibiansky\"),(\"repo\",String \"IHaskell\"),(\"sha256\",String \"041v7zlgvwf5bbvi52n2cp4kld0x7lcdij2fss7076bxkc8k0ayy\"),(\"rev\",String \"0d454acc4d7752ce16bf7f321f308f602f6555ea\")]))])"
      ]
     },
     "metadata": {},
     "output_type": "display_data"
    }
   ],
   "source": [
    "versions & key \"nixpkgs\" .~ toJSON prj"
   ]
  },
  {
   "cell_type": "code",
   "execution_count": 6,
   "metadata": {},
   "outputs": [],
   "source": [
    "r :: (MonadHttp m, FromJSON a) => Project -> T.Text -> m (JsonResponse a)\n",
    "r project branch = req GET\n",
    "    (  https \"api.github.com\"\n",
    "    /: \"repos\"\n",
    "    /: owner project\n",
    "    /: repo project\n",
    "    /: \"branches\"\n",
    "    /: branch\n",
    "    ) NoReqBody jsonResponse (header \"User-Agent\" \"vaibhavsagar\")"
   ]
  },
  {
   "cell_type": "code",
   "execution_count": 7,
   "metadata": {},
   "outputs": [
    {
     "data": {
      "text/plain": []
     },
     "metadata": {},
     "output_type": "display_data"
    }
   ],
   "source": [
    "Just project = prj\n",
    "res <- responseBody <$> runReq def (r project \"nixos-18.03\") :: IO Value"
   ]
  },
  {
   "cell_type": "code",
   "execution_count": 8,
   "metadata": {},
   "outputs": [
    {
     "data": {
      "text/plain": [
       "Just \"cd0cd946f37cbf94f4a7893a8ce3da61c4dc3de0\""
      ]
     },
     "metadata": {},
     "output_type": "display_data"
    }
   ],
   "source": [
    "res ^? key \"commit\" . key \"sha\" . _String"
   ]
  },
  {
   "cell_type": "code",
   "execution_count": 9,
   "metadata": {},
   "outputs": [
    {
     "data": {
      "text/plain": [
       "Just \"cd0cd946f37cbf94f4a7893a8ce3da61c4dc3de0\""
      ]
     },
     "metadata": {},
     "output_type": "display_data"
    }
   ],
   "source": [
    "getRev :: Project -> T.Text -> IO (Maybe T.Text)\n",
    "getRev project branch = do\n",
    "    res <- responseBody <$> runReq def (r project branch) :: IO Value\n",
    "    return $ res ^? key \"commit\" . key \"sha\" . _String\n",
    "getRev project \"nixos-18.03\""
   ]
  },
  {
   "cell_type": "code",
   "execution_count": 10,
   "metadata": {},
   "outputs": [
    {
     "data": {
      "text/plain": [
       "\"1clfwc0yjcc3qb3zhakkcp0w17fxjzcf63f8bb5q8yghfqq7rajy\""
      ]
     },
     "metadata": {},
     "output_type": "display_data"
    }
   ],
   "source": [
    "buildURL :: Project -> T.Text\n",
    "buildURL project = \"https://github.com/\" <> owner project <> \"/\" <> repo project <> \"/\" <> \"archive\" <>\"/\" <> rev project <> \".tar.gz\" \n",
    "\n",
    "getSha256 :: T.Text -> Bool -> IO String\n",
    "getSha256 url unpack = let\n",
    "    option = if unpack then [\"--unpack\"] else []\n",
    "    in init <$> readProcess \"nix-prefetch-url\" (option ++ [T.unpack url]) \"\"\n",
    "\n",
    "getSha256 (buildURL project {rev = \"c1ef96ebdbd12fa5c9f0c6d241dd899137481350\"}) False"
   ]
  },
  {
   "cell_type": "code",
   "execution_count": 11,
   "metadata": {},
   "outputs": [],
   "source": [
    "update :: String -> String -> String -> Bool -> IO ()\n",
    "update filename projectName branchName unpack = do\n",
    "    Just versions <- decode <$> BL.readFile filename :: IO (Maybe Value)\n",
    "    let (Just project) = extractProject versions (T.pack projectName)\n",
    "    Just latestRev <- getRev project (T.pack branchName)\n",
    "    latestSha256 <- T.pack <$> getSha256 (buildURL project { rev = latestRev }) unpack\n",
    "    let project' = project { rev = latestRev, sha256 = latestSha256 }\n",
    "    let versions' = versions & key (T.pack projectName) .~ toJSON project'\n",
    "    BL.writeFile filename (encodePretty versions')"
   ]
  },
  {
   "cell_type": "code",
   "execution_count": 12,
   "metadata": {},
   "outputs": [
    {
     "data": {
      "text/plain": []
     },
     "metadata": {},
     "output_type": "display_data"
    }
   ],
   "source": [
    "update \"versions.json\" \"nixpkgs\" \"nixos-18.03\" False"
   ]
  }
 ],
 "metadata": {
  "kernelspec": {
   "display_name": "Haskell",
   "language": "haskell",
   "name": "haskell"
  },
  "language_info": {
   "codemirror_mode": "ihaskell",
   "file_extension": ".hs",
   "name": "haskell",
   "pygments_lexer": "Haskell",
   "version": "8.2.2"
  }
 },
 "nbformat": 4,
 "nbformat_minor": 2
}
