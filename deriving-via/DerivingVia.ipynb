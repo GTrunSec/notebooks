{
 "cells": [
  {
   "cell_type": "code",
   "execution_count": 1,
   "metadata": {},
   "outputs": [],
   "source": [
    "{-# LANGUAGE DerivingVia #-}\n",
    "{-# LANGUAGE DeriveFunctor #-}\n",
    "{-# LANGUAGE StandaloneDeriving #-}"
   ]
  },
  {
   "cell_type": "code",
   "execution_count": 2,
   "metadata": {},
   "outputs": [],
   "source": [
    "import Control.Applicative (liftA2)\n",
    "\n",
    "newtype App f a = App (f a)\n",
    "\n",
    "instance (Applicative f, Monoid a) => Monoid (App f a) where\n",
    "    mempty = App (pure mempty)\n",
    "    mappend (App f) (App g) = App (liftA2 mappend f g)\n",
    "\n",
    "instance (Applicative f, Semigroup a) => Semigroup (App f a) where\n",
    "    (App f) <> (App g) = App (liftA2 (<>) f g)"
   ]
  },
  {
   "cell_type": "code",
   "execution_count": 3,
   "metadata": {},
   "outputs": [],
   "source": [
    "data Option a = None | Some a\n",
    "    deriving (Functor, Show)\n",
    "\n",
    "instance Applicative Option where\n",
    "    pure = Some\n",
    "    f <*> a = case f of\n",
    "        Some f' -> case a of\n",
    "            Some a' -> Some (f' a')\n",
    "            None -> None\n",
    "        None -> None"
   ]
  },
  {
   "cell_type": "code",
   "execution_count": 4,
   "metadata": {},
   "outputs": [],
   "source": [
    "deriving via (App Option a) instance Semigroup a => Semigroup (Option a)\n",
    "deriving via (App Option a) instance Monoid a => Monoid (Option a)"
   ]
  },
  {
   "cell_type": "code",
   "execution_count": 5,
   "metadata": {},
   "outputs": [
    {
     "data": {
      "text/plain": [
       "Some [1,2,3,4]"
      ]
     },
     "metadata": {},
     "output_type": "display_data"
    },
    {
     "data": {
      "text/plain": [
       "None"
      ]
     },
     "metadata": {},
     "output_type": "display_data"
    }
   ],
   "source": [
    "Some [1,2] <> Some [3, 4]\n",
    "Some [1,2] <> None"
   ]
  }
 ],
 "metadata": {
  "kernelspec": {
   "display_name": "Haskell",
   "language": "haskell",
   "name": "haskell"
  },
  "language_info": {
   "codemirror_mode": "ihaskell",
   "file_extension": ".hs",
   "name": "haskell",
   "pygments_lexer": "Haskell",
   "version": "8.6.1.20180811"
  }
 },
 "nbformat": 4,
 "nbformat_minor": 2
}
