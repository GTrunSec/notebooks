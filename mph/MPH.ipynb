{
 "cells": [
  {
   "cell_type": "code",
   "execution_count": 1,
   "metadata": {},
   "outputs": [],
   "source": [
    "{-# LANGUAGE ScopedTypeVariables #-}\n",
    "\n",
    "import Data.Hashable\n",
    "import qualified Data.HashMap.Strict as HM\n",
    "\n",
    "import qualified Data.BitVector.LittleEndian as BV (rank, select)\n",
    "import Data.BitVector.LittleEndian hiding (rank, select)\n",
    "import Data.Bits\n",
    "\n",
    "import qualified Data.Vector as V\n",
    "import qualified Data.Vector.Mutable as MV\n",
    "\n",
    "import Control.Monad.ST\n",
    "import Data.Traversable\n",
    "import Data.Foldable\n",
    "import Data.STRef\n",
    "import Data.Maybe (fromJust)"
   ]
  },
  {
   "cell_type": "code",
   "execution_count": 2,
   "metadata": {},
   "outputs": [],
   "source": [
    "rank :: BitVector -> Word -> Word\n",
    "rank bv w = BV.rank bv (w + 1)\n",
    "\n",
    "select :: BitVector -> Word -> Maybe Word\n",
    "select bv w = BV.select bv (w - 1)"
   ]
  },
  {
   "cell_type": "code",
   "execution_count": 3,
   "metadata": {},
   "outputs": [
    {
     "data": {
      "text/plain": [
       "[6]50"
      ]
     },
     "metadata": {},
     "output_type": "display_data"
    },
    {
     "data": {
      "text/plain": [
       "6"
      ]
     },
     "metadata": {},
     "output_type": "display_data"
    }
   ],
   "source": [
    "foo = fromBits [False, True, False, False, True, True]\n",
    "foo\n",
    "\n",
    "dimension foo"
   ]
  },
  {
   "cell_type": "code",
   "execution_count": 4,
   "metadata": {},
   "outputs": [
    {
     "data": {
      "text/plain": [
       "2"
      ]
     },
     "metadata": {},
     "output_type": "display_data"
    },
    {
     "data": {
      "text/plain": [
       "Just 4"
      ]
     },
     "metadata": {},
     "output_type": "display_data"
    }
   ],
   "source": [
    "rank foo 4\n",
    "select foo 2"
   ]
  },
  {
   "cell_type": "code",
   "execution_count": 5,
   "metadata": {},
   "outputs": [
    {
     "data": {
      "text/plain": [
       "4018608059442784853"
      ]
     },
     "metadata": {},
     "output_type": "display_data"
    }
   ],
   "source": [
    "hashWithSalt 2 \"foo\""
   ]
  },
  {
   "cell_type": "code",
   "execution_count": 6,
   "metadata": {},
   "outputs": [
    {
     "data": {
      "text/plain": [
       "[1,2,3,4,5]"
      ]
     },
     "metadata": {},
     "output_type": "display_data"
    },
    {
     "data": {
      "text/plain": [
       "[1,2,3,4,5]"
      ]
     },
     "metadata": {},
     "output_type": "display_data"
    }
   ],
   "source": [
    "enumFromTo 1 5\n",
    "V.enumFromN 1 5"
   ]
  },
  {
   "cell_type": "code",
   "execution_count": 7,
   "metadata": {},
   "outputs": [],
   "source": [
    "getIndices :: BitVector -> V.Vector Word\n",
    "getIndices bv = let\n",
    "    count = popCount bv\n",
    "    range = V.enumFromN 1 count\n",
    "    Just is = traverse (select bv . fromIntegral) range\n",
    "    in is\n",
    "\n",
    "-- Takes a source vector and a vector of indices and\n",
    "-- copies the values at those indices to a new vector\n",
    "extract :: V.Vector a -> V.Vector Word -> V.Vector a\n",
    "extract vector = V.map ((vector V.!) . fromIntegral)\n",
    "\n",
    "pluck :: (Hashable k, Eq k) => HM.HashMap k v -> V.Vector k -> HM.HashMap k v\n",
    "pluck = foldr HM.delete"
   ]
  },
  {
   "cell_type": "code",
   "execution_count": 8,
   "metadata": {},
   "outputs": [
    {
     "data": {
      "text/plain": [
       "[1,4,5]"
      ]
     },
     "metadata": {},
     "output_type": "display_data"
    }
   ],
   "source": [
    "getIndices foo"
   ]
  },
  {
   "cell_type": "code",
   "execution_count": 9,
   "metadata": {},
   "outputs": [],
   "source": [
    "step :: (Hashable k, Eq k) => HM.HashMap k v -> Int -> Double -> (BitVector, V.Vector v, HM.HashMap k v)\n",
    "step hashmap level gamma = runST $ do\n",
    "    let vectorSize = floor $ fromIntegral (HM.size hashmap) * gamma\n",
    "    hashVector <- MV.replicate vectorSize False\n",
    "    collisionVector <- MV.replicate vectorSize False\n",
    "    keysVector <- MV.replicate vectorSize (undefined :: k)\n",
    "    for_ (HM.keys hashmap) $ \\key -> do\n",
    "        let position = hashWithSalt level key `mod` vectorSize\n",
    "        present <- MV.read hashVector position\n",
    "        collision <- MV.read collisionVector position\n",
    "        case (present, collision) of\n",
    "            (False, False) -> do\n",
    "                MV.write hashVector position True\n",
    "                MV.write keysVector position key\n",
    "            (True, False) -> do\n",
    "                MV.write hashVector position False\n",
    "                MV.write collisionVector position True\n",
    "                -- MV.write keysVector position undefined\n",
    "            (False, True) -> pure ()\n",
    "            (True, True) -> error \"this should never happen\"\n",
    "    bitVector <- fromBits <$> V.freeze hashVector\n",
    "    finalKeys <- V.freeze keysVector\n",
    "    let uniqueKeys = extract finalKeys (getIndices bitVector)\n",
    "    let valuesVector = V.map (hashmap HM.!) uniqueKeys\n",
    "    let leftover = pluck hashmap uniqueKeys\n",
    "    pure (bitVector, valuesVector, leftover)\n",
    "\n",
    "finalise :: (Hashable k, Eq k) => HM.HashMap k v -> (HM.HashMap k Int, V.Vector v)\n",
    "finalise hashmap = let\n",
    "    pairs = HM.toList hashmap\n",
    "    valuesVector = V.fromList $ map snd pairs\n",
    "    indices = HM.fromList $ zipWith (\\(k,_) i -> (k,i)) pairs [1..]\n",
    "    in (indices, valuesVector)"
   ]
  },
  {
   "cell_type": "code",
   "execution_count": 10,
   "metadata": {},
   "outputs": [
    {
     "data": {
      "text/plain": [
       "(fromList [(\"b\",1),(\"f\",2)],[\"bar\",\"foo\"])"
      ]
     },
     "metadata": {},
     "output_type": "display_data"
    }
   ],
   "source": [
    "finalise $ HM.fromList [(\"f\", \"foo\"), (\"b\", \"bar\")]"
   ]
  },
  {
   "cell_type": "code",
   "execution_count": 11,
   "metadata": {},
   "outputs": [],
   "source": [
    "data MinimalPerfectHash k\n",
    "    = MinimalPerfectHash\n",
    "    { mphBitVectors :: V.Vector BitVector\n",
    "    , mphLeftovers :: Maybe (HM.HashMap k Int)\n",
    "    } deriving (Eq, Show)\n",
    "\n",
    "generate :: (Hashable k, Eq k) => HM.HashMap k v -> Int -> Double -> (MinimalPerfectHash k, V.Vector v)\n",
    "generate hashmap maxLevel gamma = generate' hashmap maxLevel gamma 0 [] []\n",
    "\n",
    "generate' ::\n",
    "       (Hashable k, Eq k) => HM.HashMap k v -> Int -> Double -> Int\n",
    "    -> [BitVector] -> [V.Vector v] -> (MinimalPerfectHash k, V.Vector v)\n",
    "generate' hashmap maxLevel gamma currentLevel accBitVector accValues\n",
    "    | HM.null hashmap = let\n",
    "        mphBVs = V.fromList accBitVector\n",
    "        values = V.concat accValues\n",
    "        in (MinimalPerfectHash mphBVs Nothing, values)\n",
    "    | currentLevel >= maxLevel = let\n",
    "        (leftoverIndices, leftoverValues) = finalise hashmap\n",
    "        mphBVs = V.fromList accBitVector\n",
    "        values = V.concat (accValues ++ [leftoverValues])\n",
    "        in (MinimalPerfectHash mphBVs (Just leftoverIndices), values)\n",
    "    | otherwise = let\n",
    "        (bitVector, values, remaining) = step hashmap currentLevel gamma\n",
    "        accBitVector' = accBitVector ++ [bitVector]\n",
    "        accValues' = accValues ++ [values]\n",
    "        in generate' remaining maxLevel gamma (currentLevel + 1) accBitVector' accValues'"
   ]
  },
  {
   "cell_type": "code",
   "execution_count": 12,
   "metadata": {},
   "outputs": [],
   "source": [
    "query :: (Hashable k, Eq k) => MinimalPerfectHash k -> V.Vector v -> k -> v\n",
    "query mph values key = query' mph values key 0 0\n",
    "\n",
    "query' :: (Hashable k, Eq k) => MinimalPerfectHash k -> V.Vector v -> k -> Int -> Int -> v\n",
    "query' mph values key currentLevel currentRank\n",
    "    | currentLevel >= V.length (mphBitVectors mph) = case mphLeftovers mph of\n",
    "        Just leftovers -> let\n",
    "            ranked = leftovers HM.! key\n",
    "            in values V.! (currentRank + ranked - 1)\n",
    "        Nothing -> error \"key not in table\"\n",
    "    | otherwise = let\n",
    "        bitVector = mphBitVectors mph V.! currentLevel\n",
    "        hashed = hashWithSalt currentLevel key `mod` fromIntegral (dimension bitVector)\n",
    "        present = testBit bitVector hashed\n",
    "        in if present\n",
    "            then let\n",
    "                ranked = rank bitVector (fromIntegral hashed)\n",
    "                in values V.! (currentRank + fromIntegral ranked - 1)\n",
    "            else\n",
    "                query' mph values key (currentLevel+1) (currentRank+ popCount bitVector)"
   ]
  },
  {
   "cell_type": "code",
   "execution_count": 13,
   "metadata": {},
   "outputs": [],
   "source": [
    "example = HM.fromList [(\"f\", \"foo\"), (\"b\", \"bar\"), (\"q\", \"quux\")]\n",
    "(mph, values) = generate example 2 1"
   ]
  },
  {
   "cell_type": "code",
   "execution_count": 14,
   "metadata": {},
   "outputs": [
    {
     "data": {
      "text/plain": [
       "\"quux\""
      ]
     },
     "metadata": {},
     "output_type": "display_data"
    }
   ],
   "source": [
    "query mph values \"q\""
   ]
  }
 ],
 "metadata": {
  "kernelspec": {
   "display_name": "Haskell",
   "language": "haskell",
   "name": "haskell"
  },
  "language_info": {
   "codemirror_mode": "ihaskell",
   "file_extension": ".hs",
   "name": "haskell",
   "pygments_lexer": "Haskell",
   "version": "8.6.5"
  }
 },
 "nbformat": 4,
 "nbformat_minor": 4
}
