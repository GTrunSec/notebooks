{
 "cells": [
  {
   "cell_type": "code",
   "execution_count": 1,
   "metadata": {},
   "outputs": [],
   "source": [
    "{-# LANGUAGE ScopedTypeVariables #-}\n",
    "\n",
    "import Data.Hashable\n",
    "import qualified Data.HashMap.Strict as HM\n",
    "\n",
    "import qualified Data.BitVector.LittleEndian as BV (rank, select)\n",
    "import Data.BitVector.LittleEndian hiding (rank, select)\n",
    "import Data.Bits\n",
    "\n",
    "import qualified Data.Vector as V\n",
    "import qualified Data.Vector.Mutable as MV\n",
    "\n",
    "import Control.Monad.ST\n",
    "import Data.Traversable\n",
    "import Data.Foldable\n",
    "import Data.STRef\n",
    "import Data.Maybe (fromJust)"
   ]
  },
  {
   "cell_type": "code",
   "execution_count": 2,
   "metadata": {},
   "outputs": [],
   "source": [
    "rank :: BitVector -> Word -> Word\n",
    "rank bv w = BV.rank bv (w + 1)\n",
    "\n",
    "select :: BitVector -> Word -> Maybe Word\n",
    "select bv w = BV.select bv (w - 1)"
   ]
  },
  {
   "cell_type": "code",
   "execution_count": 3,
   "metadata": {},
   "outputs": [
    {
     "data": {
      "text/plain": [
       "[6]50"
      ]
     },
     "metadata": {},
     "output_type": "display_data"
    }
   ],
   "source": [
    "foo = fromBits [False, True, False, False, True, True]\n",
    "foo"
   ]
  },
  {
   "cell_type": "code",
   "execution_count": 4,
   "metadata": {},
   "outputs": [
    {
     "data": {
      "text/plain": [
       "2"
      ]
     },
     "metadata": {},
     "output_type": "display_data"
    },
    {
     "data": {
      "text/plain": [
       "Just 4"
      ]
     },
     "metadata": {},
     "output_type": "display_data"
    }
   ],
   "source": [
    "rank foo 4\n",
    "select foo 2"
   ]
  },
  {
   "cell_type": "code",
   "execution_count": 5,
   "metadata": {},
   "outputs": [
    {
     "data": {
      "text/plain": [
       "4018608059442784853"
      ]
     },
     "metadata": {},
     "output_type": "display_data"
    }
   ],
   "source": [
    "hashWithSalt 2 \"foo\""
   ]
  },
  {
   "cell_type": "code",
   "execution_count": 6,
   "metadata": {},
   "outputs": [],
   "source": [
    "getIndices :: BitVector -> [Word]\n",
    "getIndices bv = let\n",
    "    count = popCount bv\n",
    "    range = enumFromTo 1 count\n",
    "    Just is = traverse (select bv . fromIntegral) range\n",
    "    in is\n",
    "\n",
    "-- Takes a source vector and a list of indices and\n",
    "-- copies the values at those indices to a new vector\n",
    "extract :: V.Vector a -> [Word] -> V.Vector a\n",
    "extract vector indices = V.fromList $ map ((vector V.!) . fromIntegral) indices\n",
    "\n",
    "pluck :: (Hashable k, Eq k) => HM.HashMap k v -> V.Vector k -> HM.HashMap k v\n",
    "pluck = foldr HM.delete"
   ]
  },
  {
   "cell_type": "code",
   "execution_count": 7,
   "metadata": {},
   "outputs": [],
   "source": [
    "step :: (Hashable k, Eq k) => HM.HashMap k v -> Int -> Double -> (BitVector, V.Vector v, HM.HashMap k v)\n",
    "step hashmap level gamma = runST $ do\n",
    "    let vectorSize = floor $ fromIntegral (HM.size hashmap) * gamma\n",
    "    hashVector <- MV.replicate vectorSize False\n",
    "    collisionVector <- MV.replicate vectorSize False\n",
    "    keysVector <- MV.replicate vectorSize (undefined :: k)\n",
    "    for_ (HM.keys hashmap) $ \\key -> do\n",
    "        let position = hashWithSalt level key `mod` vectorSize\n",
    "        present <- MV.read hashVector position\n",
    "        collision <- MV.read collisionVector position\n",
    "        case (present, collision) of\n",
    "            (False, False) -> do\n",
    "                MV.write hashVector position True\n",
    "                MV.write keysVector position key\n",
    "            (True, False) -> do\n",
    "                MV.write hashVector position False\n",
    "                MV.write collisionVector position True\n",
    "                -- MV.write keysVector position Nothing\n",
    "            (False, True) -> pure ()\n",
    "    bitVector <- fromBits <$> V.freeze hashVector\n",
    "    finalKeys <- V.freeze keysVector\n",
    "    let uniqueKeys = extract finalKeys (getIndices bitVector)\n",
    "    let valuesVector = V.map (hashmap HM.!) uniqueKeys\n",
    "    let hashmap' = pluck hashmap uniqueKeys\n",
    "    pure (bitVector, valuesVector, hashmap')"
   ]
  }
 ],
 "metadata": {
  "kernelspec": {
   "display_name": "Haskell",
   "language": "haskell",
   "name": "haskell"
  },
  "language_info": {
   "codemirror_mode": "ihaskell",
   "file_extension": ".hs",
   "name": "haskell",
   "pygments_lexer": "Haskell",
   "version": "8.6.5"
  }
 },
 "nbformat": 4,
 "nbformat_minor": 4
}
