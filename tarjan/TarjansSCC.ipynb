{
 "cells": [
  {
   "cell_type": "code",
   "execution_count": 1,
   "metadata": {
    "collapsed": true
   },
   "outputs": [],
   "source": [
    "import           Control.Monad.Trans.State.Strict\n",
    "import qualified Data.IntMap.Strict  as M\n",
    "import qualified Data.Vector         as V\n",
    "\n",
    "import           Control.Monad (forM_, when)\n",
    "import           Data.Maybe (isNothing, fromJust)\n",
    "import           Prelude hiding (lookup)"
   ]
  },
  {
   "cell_type": "code",
   "execution_count": 2,
   "metadata": {
    "collapsed": true
   },
   "outputs": [],
   "source": [
    "graph = M.fromList\n",
    "    [ (1, [2])\n",
    "    , (2, [3])\n",
    "    , (3, [1])\n",
    "    , (4, [2, 3, 5])\n",
    "    , (5, [4, 6])\n",
    "    , (6, [7, 3])\n",
    "    , (7, [6])\n",
    "    , (8, [5, 7, 8])\n",
    "    ]"
   ]
  },
  {
   "cell_type": "code",
   "execution_count": 3,
   "metadata": {},
   "outputs": [],
   "source": [
    "data TState = TState\n",
    "  { index    :: Int\n",
    "  , stack    :: [Int]\n",
    "  , stackSet :: V.Vector Bool\n",
    "  , indices  :: V.Vector (Maybe Int)\n",
    "  , lowlinks :: V.Vector (Maybe Int)\n",
    "  , output   :: [[Int]]\n",
    "  } deriving (Eq, Show)"
   ]
  },
  {
   "cell_type": "code",
   "execution_count": 4,
   "metadata": {},
   "outputs": [],
   "source": [
    "tarjan :: M.IntMap [Int] -> [[Int]] \n",
    "tarjan graph = output $ flip execState (TState 0 [] newVector' newVector newVector []) $ do\n",
    "    forM_ (M.keys graph) $ \\v -> do\n",
    "        is <- gets indices\n",
    "        when (isNothing (is V.! v)) $ strongConnect v graph\n",
    "     where \n",
    "        size = (fst $ M.findMax graph) + 1\n",
    "        newVector  = V.replicate size Nothing :: V.Vector (Maybe Int)\n",
    "        newVector' = V.replicate size False\n",
    "\n",
    "insert :: V.Vector a -> Int -> a -> V.Vector a\n",
    "insert vector index value = vector V.// [(index, value)]\n",
    "\n",
    "strongConnect :: Int -> M.IntMap [Int] -> State TState ()\n",
    "strongConnect v graph = do\n",
    "    modify' $ \\s -> let i  = index s in s\n",
    "        { index    = i + 1\n",
    "        , indices  = insert (indices  s) v (Just i)\n",
    "        , lowlinks = insert (lowlinks s) v (Just i)\n",
    "        , stack    = v:(stack s)\n",
    "        , stackSet = insert (stackSet s) v True\n",
    "        }\n",
    "    forM_ (graph M.! v) $ \\w -> do\n",
    "        is <- gets indices\n",
    "        case is V.! w of\n",
    "            Nothing -> do\n",
    "                strongConnect w graph\n",
    "                ls <- gets lowlinks\n",
    "                let vLowlink = fromJust (ls V.! v)\n",
    "                let wLowlink = fromJust (ls V.! w)\n",
    "                modify' $ \\s ->\n",
    "                    s { lowlinks = insert (lowlinks s) v (Just (min vLowlink wLowlink)) }\n",
    "            Just wIndex -> do\n",
    "                sSet <- gets stackSet\n",
    "                when (sSet V.! w) $ do\n",
    "                    ls <- gets lowlinks\n",
    "                    let vLowlink = fromJust (ls V.! v)\n",
    "                    modify' $ \\s ->\n",
    "                        s { lowlinks = insert (lowlinks s) v (Just (min vLowlink wIndex)) }\n",
    "    s <- get\n",
    "    let vLowlink = fromJust (lowlinks s V.! v)\n",
    "    let vIndex   = fromJust (indices s V.! v)\n",
    "    when (vLowlink == vIndex) $ do\n",
    "        scc <- addSCC v []\n",
    "        modify' $ \\s -> s\n",
    "            { output = output s ++ [scc] }\n",
    "\n",
    "addSCC :: Int -> [Int] -> State TState [Int]\n",
    "addSCC v scc = do\n",
    "    w <- pop\n",
    "    let scc' = w:scc\n",
    "    if w == v\n",
    "        then return scc'\n",
    "        else addSCC v scc'\n",
    "    where\n",
    "        pop = do\n",
    "            s <- get\n",
    "            let e = head (stack s)\n",
    "            let stack' = tail $ stack s\n",
    "            let stackSet' = insert (stackSet s) e False\n",
    "            put s { stack = stack', stackSet = stackSet' }\n",
    "            return e"
   ]
  },
  {
   "cell_type": "code",
   "execution_count": 5,
   "metadata": {},
   "outputs": [
    {
     "data": {
      "text/plain": [
       "[[1,2,3],[6,7],[4,5],[8]]"
      ]
     },
     "metadata": {},
     "output_type": "display_data"
    }
   ],
   "source": [
    "tarjan graph"
   ]
  }
 ],
 "metadata": {
  "kernelspec": {
   "display_name": "Haskell",
   "language": "haskell",
   "name": "haskell"
  },
  "language_info": {
   "codemirror_mode": "ihaskell",
   "file_extension": ".hs",
   "name": "haskell",
   "version": "8.0.2"
  }
 },
 "nbformat": 4,
 "nbformat_minor": 2
}
