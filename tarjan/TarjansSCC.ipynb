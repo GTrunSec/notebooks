{
 "cells": [
  {
   "cell_type": "code",
   "execution_count": 1,
   "metadata": {
    "collapsed": true
   },
   "outputs": [],
   "source": [
    "import           Control.Monad.Trans.State.Strict\n",
    "import qualified Data.IntMap.Strict  as M\n",
    "import qualified Data.Vector         as V\n",
    "\n",
    "import           Control.Monad (forM_, when)\n",
    "import           Data.Maybe (isNothing, fromJust)\n",
    "import           Prelude hiding (lookup)"
   ]
  },
  {
   "cell_type": "code",
   "execution_count": 2,
   "metadata": {
    "collapsed": true
   },
   "outputs": [],
   "source": [
    "graph = M.fromList\n",
    "    [ (1, [2])\n",
    "    , (2, [3])\n",
    "    , (3, [1])\n",
    "    , (4, [2, 3, 5])\n",
    "    , (5, [4, 6])\n",
    "    , (6, [7, 3])\n",
    "    , (7, [6])\n",
    "    , (8, [5, 7, 8])\n",
    "    ]"
   ]
  },
  {
   "cell_type": "code",
   "execution_count": 3,
   "metadata": {},
   "outputs": [],
   "source": [
    "data TState = TState\n",
    "    { index    :: Int\n",
    "    , stack    :: [Int]\n",
    "    , stackSet :: V.Vector Bool\n",
    "    , stackTop :: Maybe Int\n",
    "    , indices  :: V.Vector (Maybe Int)\n",
    "    , lowlinks :: V.Vector (Maybe Int)\n",
    "    , output   :: [[Int]]\n",
    "    } deriving (Eq, Show)\n",
    "  \n",
    "data Event\n",
    "    = IncrementIndex\n",
    "    | InsertIndex   Int Int\n",
    "    | InsertLowlink Int Int\n",
    "    | Push Int\n",
    "    | Pop\n",
    "    | OutputSCC [Int]\n",
    "    deriving (Eq, Show)\n",
    "\n",
    "data EState = EState\n",
    "    { current :: TState\n",
    "    , history :: [Event]\n",
    "    } deriving (Eq, Show)\n",
    "\n",
    "insert :: V.Vector a -> Int -> a -> V.Vector a\n",
    "insert vector index value = vector V.// [(index, value)]\n",
    "\n",
    "apply :: Event -> TState -> TState\n",
    "apply event state = case event of\n",
    "    IncrementIndex    -> state { index    = index state + 1}\n",
    "    InsertIndex k v   -> state { indices  = insert (indices state) k (Just v) }\n",
    "    InsertLowlink k v -> state { lowlinks = insert (lowlinks state) k (Just v) }\n",
    "    Push i            -> state\n",
    "        { stack    = i : (stack state) \n",
    "        , stackSet = insert (stackSet state) i True\n",
    "        }\n",
    "    Pop               -> let i = head (stack state) in state\n",
    "        { stack    = tail (stack state)\n",
    "        , stackSet = insert (stackSet state) i False\n",
    "        , stackTop = Just i\n",
    "        }\n",
    "    OutputSCC scc     -> state { output = output state ++ [scc]}\n",
    "\n",
    "initial = TState 0 [] newVector' Nothing newVector newVector []\n",
    "     where \n",
    "        size = (fst $ M.findMax graph) + 1\n",
    "        newVector  = V.replicate size Nothing :: V.Vector (Maybe Int)\n",
    "        newVector' = V.replicate size False\n",
    "\n",
    "emit :: Event -> State EState TState\n",
    "emit event = do\n",
    "    modify' $ \\s -> s\n",
    "        { current = apply event (current s) \n",
    "        , history = event : (history s)\n",
    "        }\n",
    "    gets current"
   ]
  },
  {
   "cell_type": "code",
   "execution_count": 4,
   "metadata": {},
   "outputs": [],
   "source": [
    "tarjan :: M.IntMap [Int] -> ([[Int]], EState)\n",
    "tarjan graph = flip runState (EState initial []) $ do\n",
    "    forM_ (M.keys graph) $ \\v -> do\n",
    "        is <- indices <$> gets current\n",
    "        when (isNothing (is V.! v)) $ strongConnect v graph\n",
    "    output <$> gets current\n",
    "\n",
    "strongConnect :: Int -> M.IntMap [Int] -> State EState ()\n",
    "strongConnect v graph = do\n",
    "    emit IncrementIndex\n",
    "    i <- index <$> gets current\n",
    "    emit $ InsertIndex   v i\n",
    "    emit $ InsertLowlink v i\n",
    "    emit $ Push v\n",
    "    forM_ (graph M.! v) $ \\w -> do\n",
    "        is <- indices <$> gets current\n",
    "        case is V.! w of\n",
    "            Nothing -> do\n",
    "                strongConnect w graph\n",
    "                ls <- lowlinks <$> gets current\n",
    "                let vLowlink = fromJust (ls V.! v)\n",
    "                let wLowlink = fromJust (ls V.! w)\n",
    "                emit $ InsertLowlink v (min vLowlink wLowlink)\n",
    "                pure ()\n",
    "            Just wIndex -> do\n",
    "                sSet <- stackSet <$> gets current\n",
    "                when (sSet V.! w) $ do\n",
    "                    ls <- lowlinks <$> gets current\n",
    "                    let vLowlink = fromJust (ls V.! v)\n",
    "                    emit $ InsertLowlink v (min vLowlink wIndex)\n",
    "                    pure ()\n",
    "    s <- gets current\n",
    "    let vLowlink = fromJust (lowlinks s V.! v)\n",
    "    let vIndex   = fromJust (indices s V.! v)\n",
    "    when (vLowlink == vIndex) $ do\n",
    "        scc <- addSCC v []\n",
    "        emit $ OutputSCC scc\n",
    "        pure ()\n",
    "\n",
    "addSCC :: Int -> [Int] -> State EState [Int]\n",
    "addSCC v scc = do\n",
    "    emit Pop\n",
    "    w <- fromJust . stackTop <$> gets current\n",
    "    let scc' = w:scc\n",
    "    if w == v\n",
    "        then return scc'\n",
    "        else addSCC v scc'"
   ]
  },
  {
   "cell_type": "code",
   "execution_count": 5,
   "metadata": {},
   "outputs": [
    {
     "data": {
      "text/plain": [
       "([[1,2,3],[6,7],[4,5],[8]],EState {current = TState {index = 8, stack = [], stackSet = [False,False,False,False,False,False,False,False,False], stackTop = Just 8, indices = [Nothing,Just 1,Just 2,Just 3,Just 4,Just 5,Just 6,Just 7,Just 8], lowlinks = [Nothing,Just 1,Just 1,Just 1,Just 4,Just 4,Just 6,Just 6,Just 8], output = [[1,2,3],[6,7],[4,5],[8]]}, history = [OutputSCC [8],Pop,InsertLowlink 8 8,Push 8,InsertLowlink 8 8,InsertIndex 8 8,IncrementIndex,OutputSCC [4,5],Pop,Pop,InsertLowlink 4 4,InsertLowlink 5 4,OutputSCC [6,7],Pop,Pop,InsertLowlink 6 6,InsertLowlink 7 6,Push 7,InsertLowlink 7 7,InsertIndex 7 7,IncrementIndex,Push 6,InsertLowlink 6 6,InsertIndex 6 6,IncrementIndex,InsertLowlink 5 4,Push 5,InsertLowlink 5 5,InsertIndex 5 5,IncrementIndex,Push 4,InsertLowlink 4 4,InsertIndex 4 4,IncrementIndex,OutputSCC [1,2,3],Pop,Pop,Pop,InsertLowlink 1 1,InsertLowlink 2 1,InsertLowlink 3 1,Push 3,InsertLowlink 3 3,InsertIndex 3 3,IncrementIndex,Push 2,InsertLowlink 2 2,InsertIndex 2 2,IncrementIndex,Push 1,InsertLowlink 1 1,InsertIndex 1 1,IncrementIndex]})"
      ]
     },
     "metadata": {},
     "output_type": "display_data"
    }
   ],
   "source": [
    "tarjan graph"
   ]
  }
 ],
 "metadata": {
  "kernelspec": {
   "display_name": "Haskell",
   "language": "haskell",
   "name": "haskell"
  },
  "language_info": {
   "codemirror_mode": "ihaskell",
   "file_extension": ".hs",
   "name": "haskell",
   "version": "8.0.2"
  }
 },
 "nbformat": 4,
 "nbformat_minor": 2
}
