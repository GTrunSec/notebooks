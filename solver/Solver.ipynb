{
 "cells": [
  {
   "cell_type": "code",
   "execution_count": 1,
   "metadata": {},
   "outputs": [],
   "source": [
    "-- http://www.cse.chalmers.se/~algehed/blogpostsHTML/SAT.html\n",
    "\n",
    "type Literal = Int\n",
    "type Clause = [Literal]\n",
    "type Problem = [Clause]\n",
    "type Assignment = [Literal]"
   ]
  },
  {
   "cell_type": "code",
   "execution_count": 2,
   "metadata": {},
   "outputs": [],
   "source": [
    "propagate :: Literal -> Problem -> Problem\n",
    "propagate l p = [ filter (/= negate l) c | c <- p, l `notElem` c ]"
   ]
  },
  {
   "cell_type": "code",
   "execution_count": 3,
   "metadata": {},
   "outputs": [],
   "source": [
    "example :: Problem\n",
    "example = [[1, 2], [-2, 3]]"
   ]
  },
  {
   "cell_type": "code",
   "execution_count": 4,
   "metadata": {},
   "outputs": [],
   "source": [
    "solve :: Problem -> Maybe Assignment\n",
    "solve []        = Just []\n",
    "solve ([]:p)    = Nothing\n",
    "solve ((l:c):p) = \n",
    "  case solve (propagate l p) of\n",
    "    Just assignment -> Just (l:assignment)\n",
    "    Nothing         -> case solve (propagate (negate l) (c:p)) of\n",
    "      Just assignment -> Just (negate l:assignment)\n",
    "      Nothing         -> Nothing"
   ]
  },
  {
   "cell_type": "code",
   "execution_count": 5,
   "metadata": {},
   "outputs": [
    {
     "data": {
      "text/plain": [
       "Just [1,-2]"
      ]
     },
     "metadata": {},
     "output_type": "display_data"
    }
   ],
   "source": [
    "solve example"
   ]
  },
  {
   "cell_type": "code",
   "execution_count": 6,
   "metadata": {},
   "outputs": [],
   "source": [
    "solve :: Problem -> [Assignment]\n",
    "solve []        = [[]]\n",
    "solve ([]:p)    = []\n",
    "solve ((l:c):p) =\n",
    "     [ l:assignment        | assignment <- solve (propagate l p) ]\n",
    "  ++ [ negate l:assignment | assignment <- solve (propagate (negate l) (c:p)) ]"
   ]
  },
  {
   "cell_type": "code",
   "execution_count": 7,
   "metadata": {},
   "outputs": [
    {
     "data": {
      "text/plain": [
       "[[1,-2],[1,2,3],[-1,2,3]]"
      ]
     },
     "metadata": {},
     "output_type": "display_data"
    }
   ],
   "source": [
    "solve example"
   ]
  },
  {
   "cell_type": "code",
   "execution_count": 8,
   "metadata": {},
   "outputs": [],
   "source": [
    "solve :: Problem -> [Assignment]\n",
    "solve []    = [[]]\n",
    "solve (c:p) = do\n",
    "  (l:c) <- [c]\n",
    "  ([l:as | as <- solve (propagate l p)] ++ [negate l:as | as <- solve (propagate (negate l) (c:p))])"
   ]
  },
  {
   "cell_type": "code",
   "execution_count": 9,
   "metadata": {},
   "outputs": [
    {
     "data": {
      "text/plain": [
       "[[1,-2],[1,2,3],[-1,2,3]]"
      ]
     },
     "metadata": {},
     "output_type": "display_data"
    }
   ],
   "source": [
    "solve example"
   ]
  },
  {
   "cell_type": "code",
   "execution_count": 10,
   "metadata": {},
   "outputs": [],
   "source": [
    "solve :: Problem -> [Assignment]\n",
    "solve []    = [[]]\n",
    "solve (c:p) = do\n",
    "  (l:c)  <- [c]\n",
    "  (l, p) <- [(l, p), (negate l, c:p)]\n",
    "  map (l:) (solve (propagate l p))"
   ]
  },
  {
   "cell_type": "code",
   "execution_count": 11,
   "metadata": {},
   "outputs": [
    {
     "data": {
      "text/plain": [
       "[[1,-2],[1,2,3],[-1,2,3]]"
      ]
     },
     "metadata": {},
     "output_type": "display_data"
    }
   ],
   "source": [
    "solve example"
   ]
  },
  {
   "cell_type": "code",
   "execution_count": 12,
   "metadata": {},
   "outputs": [],
   "source": [
    "f=filter\n",
    "s[]=[[]]\n",
    "s(c:p)=do(l:c)<-[c];(l,p)<-[(l,p),(-l,c:p)];(l:)<$>s(f(/=0-l)<$>f(notElem l)p)"
   ]
  },
  {
   "cell_type": "code",
   "execution_count": 13,
   "metadata": {},
   "outputs": [
    {
     "data": {
      "text/plain": [
       "[[1,-2],[1,2,3],[-1,2,3]]"
      ]
     },
     "metadata": {},
     "output_type": "display_data"
    }
   ],
   "source": [
    "s example"
   ]
  }
 ],
 "metadata": {
  "kernelspec": {
   "display_name": "Haskell",
   "language": "haskell",
   "name": "haskell"
  },
  "language_info": {
   "codemirror_mode": "ihaskell",
   "file_extension": ".hs",
   "name": "haskell",
   "pygments_lexer": "Haskell",
   "version": "8.2.2"
  }
 },
 "nbformat": 4,
 "nbformat_minor": 2
}
