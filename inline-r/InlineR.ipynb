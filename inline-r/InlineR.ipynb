{
 "cells": [
  {
   "cell_type": "code",
   "execution_count": 1,
   "metadata": {},
   "outputs": [],
   "source": [
    "{-# LANGUAGE TemplateHaskell #-}\n",
    "{-# LANGUAGE QuasiQuotes #-}\n",
    "\n",
    "import qualified Language.R as R\n",
    "import Language.R.QQ"
   ]
  },
  {
   "cell_type": "code",
   "execution_count": 2,
   "metadata": {},
   "outputs": [
    {
     "data": {
      "text/plain": [
       "[1] \"compiler\"  \"graphics\"  \"utils\"     \"grDevices\" \"stats\"     \"datasets\" \n",
       "[7] \"methods\"   \"base\""
      ]
     },
     "metadata": {},
     "output_type": "display_data"
    }
   ],
   "source": [
    "R.runRegion $ do x <- [r| loadedNamespaces() |]; [r| print(x_hs) |]; return ()"
   ]
  },
  {
   "cell_type": "code",
   "execution_count": 3,
   "metadata": {},
   "outputs": [
    {
     "data": {
      "text/plain": [
       "/nix/store/v9hqh1m5jnn7bwvdf02n4xf38m0pbyzw-r-ggplot2-3.1.0/library:/nix/store/m33plcvvyjr4gswpn9wcbxl5xz9ha0ac-r-digest-0.6.18/library:/nix/store/aw4xs4anv6bz1kmqkpwla345z97iv8sn-r-gtable-0.2.0/library:/nix/store/sn9wiwa17rmw59iiibv1avywvjm4qsj1-r-lazyeval-0.2.1/library:/nix/store/8a4njlj2kgbxlh0fij504r07f92r3rdb-r-MASS-7.3-51.1/library:/nix/store/vx6x62g1xamfcwrr97s8ngv59ys1c995-r-mgcv-1.8-27/library:/nix/store/kc9swww31yr7z52cpknm7i5ww79c0c5w-r-Matrix-1.2-15/library:/nix/store/l1dm3r7v9lql2v2rad48z0c2gkzxmzqy-r-lattice-0.20-38/library:/nix/store/8wky5a5xfppnxs7g8s2cxk79pr07f8kp-r-nlme-3.1-137/library:/nix/store/xlb0w6rxhhszwgg75g4al98cpcrhmxwc-r-plyr-1.8.4/library:/nix/store/6yiv2w8i6bxmclamvaqbk8p6fwih888g-r-Rcpp-1.0.0/library:/nix/store/gd10v68s9xr37fxn7qqbbiz7811wby0p-r-reshape2-1.4.3/library:/nix/store/jg21218lr06sfsdbcs49z886x6rx307p-r-stringr-1.3.1/library:/nix/store/azb40h0saf73f49yywz9254k1r744m2j-r-glue-1.3.0/library:/nix/store/xj7p1g79pxcs4lj47h7fpqrsnwhmjflb-r-magrittr-1.5/library:/nix/store/47d5anr02bdfwavx5dh7jbq2ivisn66s-r-stringi-1.2.4/library:/nix/store/0dx5lh8vfjgxl9l7b0zhaisqgyxc7pzi-r-rlang-0.3.1/library:/nix/store/bvkp79yf09d5bi6yddg2kp54vym2am25-r-scales-1.0.0/library:/nix/store/aj99nrpjzq8hfbdicb37gl5r3q7dqkpb-r-labeling-0.3/library:/nix/store/nmwa54rki5md6x1a6v1n3f0xwagb2gn2-r-munsell-0.5.0/library:/nix/store/fy5waa42iivp1hyd3562cxzd2g69iss5-r-colorspace-1.4-0/library:/nix/store/0nqjhrjwf9njv90cmpnykygjbd22zbva-r-R6-2.3.0/library:/nix/store/wv2hiyfxhfdka4p0xlgjrz8qynakipkk-r-RColorBrewer-1.1-2/library:/nix/store/jj55xzd8fxklrd6jdm772018x87nazgf-r-viridisLite-0.3.0/library:/nix/store/a5kz9m1claz6z68l4ll7f3zq1qc5yrma-r-tibble-2.0.1/library:/nix/store/50rxa8kh3zzapsjhpgrfshcllpv8p8c5-r-cli-1.0.1/library:/nix/store/0slc2wdn9h6nb84in45gkdrq1kcyfqj0-r-assertthat-0.2.0/library:/nix/store/n0iqv0lwg2ys27g5zlfan78m2cgv1dq8-r-crayon-1.3.4/library:/nix/store/rb6mc3sil0gjjnyg9yvq72lfn4h4372d-r-fansi-0.4.0/library:/nix/store/krhrmch54i7p98x4x0z6zzwiaarvj3y9-r-pillar-1.3.1/library:/nix/store/np0y7dv54fgh6mkr00vhgpr1m1b5s6c1-r-utf8-1.1.4/library:/nix/store/kg3pq026hv0yzw9gl6xvq4rcsgi7ippw-r-pkgconfig-2.0.2/library:/nix/store/yacapfr8kzplz326klr2cmdfba0knq8d-r-withr-2.1.2/library:/nix/store/aaxh22nyvcvcklb7fbbmlr53m5xz1niz-r-dplyr-0.7.8/library:/nix/store/ic95ml875l5m1c0z4x3zh1kr6zzfmqhs-r-BH-1.69.0-1/library:/nix/store/gy2wwv024drd6mpmivd8f3yqcviqfqss-r-bindrcpp-0.2.2/library:/nix/store/z0aimy2ihfl2fd61k4ljzvcws8vf4qw2-r-bindr-0.1.1/library:/nix/store/yj4669y6dx5ncibq687lgjs8iz1dgsyr-r-plogr-0.2.0/library:/nix/store/hik8237n1fdljsd4xskf1k62cvmw4mcg-r-tidyselect-0.2.5/library:/nix/store/7abxacfx003mjc94xq42ail8755rfdk3-r-purrr-0.3.0/library:/nix/store/gkja52ki6958w1drrl8jxhrirwkiwdpk-r-xts-0.11-2/library:/nix/store/p4rvxcqz71w5r47v83af32vp3krd6fra-r-zoo-1.8-4/library"
      ]
     },
     "metadata": {},
     "output_type": "display_data"
    }
   ],
   "source": [
    ":!echo $R_LIBS_SITE"
   ]
  },
  {
   "cell_type": "code",
   "execution_count": 4,
   "metadata": {},
   "outputs": [
    {
     "data": {
      "text/plain": [
       "\n",
       "Attaching package: ‘dplyr’\n",
       "\n",
       "The following objects are masked from ‘package:stats’:\n",
       "\n",
       "    filter, lag\n",
       "\n",
       "The following objects are masked from ‘package:base’:\n",
       "\n",
       "    intersect, setdiff, setequal, union\n",
       "\n",
       "[1] \"dplyr\"     \"stats\"     \"graphics\"  \"grDevices\" \"utils\"     \"datasets\" \n",
       "[7] \"methods\"   \"base\""
      ]
     },
     "metadata": {},
     "output_type": "display_data"
    }
   ],
   "source": [
    "R.runRegion $ do x <- [r| library(dplyr) |]; [r| print(x_hs) |]; return ()"
   ]
  }
 ],
 "metadata": {
  "kernelspec": {
   "display_name": "Haskell",
   "language": "haskell",
   "name": "haskell"
  },
  "language_info": {
   "codemirror_mode": "ihaskell",
   "file_extension": ".hs",
   "name": "haskell",
   "pygments_lexer": "Haskell",
   "version": "8.6.4"
  }
 },
 "nbformat": 4,
 "nbformat_minor": 2
}
