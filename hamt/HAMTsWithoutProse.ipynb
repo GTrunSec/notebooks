{
 "cells": [
  {
   "cell_type": "code",
   "execution_count": null,
   "metadata": {},
   "outputs": [],
   "source": [
    "import Data.Bits             (Bits (bit, complement, popCount, shiftR, (.&.), (.|.)),\n",
    "                              FiniteBits (finiteBitSize))\n",
    "import Data.ByteArray.Hash   (FnvHash32 (..), fnv1Hash)\n",
    "import Data.ByteString.Char8 (pack)\n",
    "import Data.Char             (intToDigit)\n",
    "import Data.Semigroup        ((<>))\n",
    "import Data.Vector           (Vector, drop, singleton, take, (!), (//))\n",
    "import Data.Word             (Word16, Word32)\n",
    "import Numeric               (showIntAtBase)\n",
    "import Prelude               hiding (drop, lookup, take)\n",
    "import System.TimeIt         (timeIt)\n",
    "import Text.Show.Pretty      (pPrint)"
   ]
  },
  {
   "cell_type": "code",
   "execution_count": null,
   "metadata": {},
   "outputs": [],
   "source": [
    "{-# LANGUAGE GeneralizedNewtypeDeriving #-}\n",
    "\n",
    "newtype Binary a = Binary a\n",
    "    deriving (Enum, Ord, Real, Integral, Eq, Num, Bits, FiniteBits)\n",
    "\n",
    "instance (FiniteBits a, Show a, Integral a) => Show (Binary a) where\n",
    "    show (Binary n) = let\n",
    "        str = showIntAtBase 2 intToDigit n \"\"\n",
    "        size = finiteBitSize $ undefined `asTypeOf` n\n",
    "        in replicate (size - length str) '0' <> str"
   ]
  },
  {
   "cell_type": "code",
   "execution_count": null,
   "metadata": {},
   "outputs": [],
   "source": [
    "24732 :: Word16"
   ]
  },
  {
   "cell_type": "code",
   "execution_count": null,
   "metadata": {},
   "outputs": [],
   "source": [
    "24732 :: Binary Word16"
   ]
  },
  {
   "cell_type": "code",
   "execution_count": null,
   "metadata": {},
   "outputs": [],
   "source": [
    "type Hash = Binary Word32\n",
    "type Bitmap = Binary Word16"
   ]
  },
  {
   "cell_type": "code",
   "execution_count": null,
   "metadata": {},
   "outputs": [],
   "source": [
    "bitsPerSubkey :: Int\n",
    "bitsPerSubkey = 4"
   ]
  },
  {
   "cell_type": "code",
   "execution_count": null,
   "metadata": {},
   "outputs": [],
   "source": [
    "type Shift = Int"
   ]
  },
  {
   "cell_type": "code",
   "execution_count": null,
   "metadata": {},
   "outputs": [],
   "source": [
    "class Hashable a where\n",
    "    hash :: a -> Hash"
   ]
  },
  {
   "cell_type": "code",
   "execution_count": null,
   "metadata": {},
   "outputs": [],
   "source": [
    "{-# LANGUAGE TypeSynonymInstances #-}\n",
    "{-# LANGUAGE FlexibleInstances #-}\n",
    "\n",
    "instance Hashable String where\n",
    "    hash s = let\n",
    "        FnvHash32 h = fnv1Hash (pack s)\n",
    "        in Binary h"
   ]
  },
  {
   "cell_type": "code",
   "execution_count": null,
   "metadata": {},
   "outputs": [],
   "source": [
    "hash \"1\" :: Binary Word32"
   ]
  },
  {
   "cell_type": "code",
   "execution_count": null,
   "metadata": {},
   "outputs": [],
   "source": [
    "data HAMT key value\n",
    "    = None\n",
    "    | Leaf Hash key value\n",
    "    | Many Bitmap (Vector (HAMT key value))\n",
    "    deriving (Show)\n",
    "\n",
    "empty :: HAMT k v\n",
    "empty = None"
   ]
  },
  {
   "cell_type": "code",
   "execution_count": null,
   "metadata": {},
   "outputs": [],
   "source": [
    "insertAt :: Vector a -> Int -> a -> Vector a\n",
    "insertAt vector index a = take index vector <> singleton a <> drop index vector\n",
    "\n",
    "updateAt :: Vector a -> Int -> a -> Vector a\n",
    "updateAt vector index a = vector // [(index, a)]\n",
    "\n",
    "deleteAt :: Vector a -> Int -> Vector a\n",
    "deleteAt vector index = take index vector <> drop (index+1) vector"
   ]
  },
  {
   "cell_type": "code",
   "execution_count": null,
   "metadata": {},
   "outputs": [],
   "source": [
    "h = hash \"1\"\n",
    "leaf = Leaf h \"1\" 1\n",
    "\n",
    "leaf"
   ]
  },
  {
   "cell_type": "code",
   "execution_count": null,
   "metadata": {},
   "outputs": [],
   "source": [
    "subkeyMask :: Bitmap\n",
    "subkeyMask = (bit bitsPerSubkey) - 1\n",
    "\n",
    "subkeyMask"
   ]
  },
  {
   "cell_type": "code",
   "execution_count": null,
   "metadata": {},
   "outputs": [],
   "source": [
    "--     0101110100101110\n",
    "-- .&. 0000000000001111\n",
    "-----------------------\n",
    "--     0000000000001110\n",
    "\n",
    "fragment = fromIntegral h .&. subkeyMask\n",
    "\n",
    "fragment"
   ]
  },
  {
   "cell_type": "code",
   "execution_count": null,
   "metadata": {},
   "outputs": [],
   "source": [
    "Binary position = fragment\n",
    "\n",
    "position"
   ]
  },
  {
   "cell_type": "code",
   "execution_count": null,
   "metadata": {},
   "outputs": [],
   "source": [
    "someBitmap :: Bitmap\n",
    "someBitmap = Binary $ bit $ fromIntegral position\n",
    "\n",
    "someBitmap"
   ]
  },
  {
   "cell_type": "code",
   "execution_count": null,
   "metadata": {},
   "outputs": [],
   "source": [
    "bitMask_ :: Hash -> Bitmap\n",
    "bitMask_ hash = let\n",
    "    fragment = fromIntegral hash .&. subkeyMask\n",
    "    Binary position = fragment\n",
    "    in Binary (bit (fromIntegral position))"
   ]
  },
  {
   "cell_type": "code",
   "execution_count": null,
   "metadata": {},
   "outputs": [],
   "source": [
    "mask = bitMask_ (hash \"10\")\n",
    "\n",
    "mask"
   ]
  },
  {
   "cell_type": "code",
   "execution_count": null,
   "metadata": {},
   "outputs": [],
   "source": [
    "mask - 1"
   ]
  },
  {
   "cell_type": "code",
   "execution_count": null,
   "metadata": {},
   "outputs": [],
   "source": [
    "--     0100000000000000\n",
    "-- .&. 0000001111111111\n",
    "-----------------------\n",
    "--     0000000000000000\n",
    "\n",
    "masked = someBitmap .&. (mask - 1)\n",
    "\n",
    "masked"
   ]
  },
  {
   "cell_type": "code",
   "execution_count": null,
   "metadata": {},
   "outputs": [],
   "source": [
    "index = popCount masked\n",
    "\n",
    "index"
   ]
  },
  {
   "cell_type": "code",
   "execution_count": null,
   "metadata": {},
   "outputs": [],
   "source": [
    "maskIndex :: Bitmap -> Bitmap -> Int\n",
    "maskIndex bitmap mask = popCount (bitmap .&. (mask - 1))"
   ]
  },
  {
   "cell_type": "code",
   "execution_count": null,
   "metadata": {},
   "outputs": [],
   "source": [
    "subkeyMask :: Bitmap\n",
    "subkeyMask = (bit bitsPerSubkey) - 1\n",
    "\n",
    "maskIndex :: Bitmap -> Bitmap -> Int\n",
    "maskIndex bitmap mask = popCount (bitmap .&. (mask - 1))\n",
    "\n",
    "subkey :: Hash -> Shift -> Int\n",
    "subkey hash shift = fromIntegral $ (fromIntegral $ shiftR hash shift) .&. subkeyMask\n",
    "\n",
    "bitMask :: Hash -> Shift -> Bitmap\n",
    "bitMask hash shift = bit (subkey hash shift)"
   ]
  },
  {
   "cell_type": "code",
   "execution_count": null,
   "metadata": {},
   "outputs": [],
   "source": [
    "insert :: Hashable key => key -> value -> HAMT key value -> HAMT key value\n",
    "insert key value hamt = insert' 0 (hash key) key value hamt\n",
    "\n",
    "insert' :: Shift -> Hash -> key -> value -> HAMT key value -> HAMT key value\n",
    "insert' shift hash key value None = Leaf hash key value\n",
    "\n",
    "insert' shift hash key value leaf@(Leaf leafHash leafKey leafValue)\n",
    "    | hash == leafHash = Leaf hash key value\n",
    "    | otherwise = insert' shift hash key value (Many (bitMask leafHash shift) (singleton leaf))\n",
    "\n",
    "insert' shift hash key value (Many bitmap vector)\n",
    "    | bitmap .&. mask == 0 = let\n",
    "        leaf = Leaf hash key value\n",
    "        vector' = insertAt vector index leaf\n",
    "        bitmap' = bitmap .|. mask\n",
    "        in Many bitmap' vector'\n",
    "    | otherwise = let\n",
    "        subtree = vector ! index\n",
    "        subtree' = insert' (shift+bitsPerSubkey) hash key value subtree\n",
    "        vector' = updateAt vector index subtree'\n",
    "        in Many bitmap vector'\n",
    "    where\n",
    "        mask = bitMask hash shift\n",
    "        index = maskIndex bitmap mask"
   ]
  },
  {
   "cell_type": "code",
   "execution_count": null,
   "metadata": {},
   "outputs": [],
   "source": [
    "fromList :: Hashable key => [(key, value)] -> HAMT key value\n",
    "fromList = foldr (uncurry insert) empty\n",
    "\n",
    "example = fromList [(\"1\", 1), (\"10\", 2), (\"100\", 3), (\"1000\", 4)]\n",
    "\n",
    "pPrint example"
   ]
  },
  {
   "cell_type": "code",
   "execution_count": null,
   "metadata": {},
   "outputs": [],
   "source": [
    "lookup :: Hashable key => key -> HAMT key value -> Maybe value\n",
    "lookup key hamt = lookup' 0 (hash key) hamt\n",
    "\n",
    "lookup' :: Shift -> Hash -> HAMT key value -> Maybe value\n",
    "lookup' shift hash None = Nothing\n",
    "\n",
    "lookup' shift hash (Leaf leafHash leafKey leafValue)\n",
    "    | hash == leafHash = Just leafValue\n",
    "    | otherwise = Nothing\n",
    "\n",
    "lookup' shift hash (Many bitmap vector)\n",
    "    | bitmap .&. mask == 0 = Nothing\n",
    "    | otherwise = lookup' (shift+bitsPerSubkey) hash (vector ! index)\n",
    "    where\n",
    "        mask = bitMask hash shift\n",
    "        index = maskIndex bitmap mask"
   ]
  },
  {
   "cell_type": "code",
   "execution_count": null,
   "metadata": {},
   "outputs": [],
   "source": [
    "lookup \"100\" example"
   ]
  },
  {
   "cell_type": "code",
   "execution_count": null,
   "metadata": {},
   "outputs": [],
   "source": [
    "fib :: Int -> Int\n",
    "fib 0 = 1\n",
    "fib 1 = 1\n",
    "fib n = fib (n-1) + fib (n-2)\n",
    "\n",
    "timeIt $ print $ fib 30"
   ]
  },
  {
   "cell_type": "code",
   "execution_count": null,
   "metadata": {},
   "outputs": [],
   "source": [
    "instance Hashable Int where\n",
    "    hash int = Binary (fromIntegral int)\n",
    "\n",
    "fib' :: HAMT Int Int -> Int -> (Int, HAMT Int Int)\n",
    "fib' table 0 = (1, insert 0 1 table)\n",
    "fib' table 1 = (1, insert 1 1 table)\n",
    "fib' table n = case lookup n table of\n",
    "    Just i -> (i, table)\n",
    "    Nothing -> let\n",
    "        (i1, table')  = fib' table  (n-1)\n",
    "        (i2, table'') = fib' table' (n-2)\n",
    "        in (i1 + i2, insert n (i1 + i2) table'')\n",
    "\n",
    "fib :: Int -> Int\n",
    "fib n = fst $ fib' empty n\n",
    "\n",
    "timeIt $ print $ fib 30"
   ]
  },
  {
   "cell_type": "code",
   "execution_count": null,
   "metadata": {},
   "outputs": [],
   "source": [
    "delete :: Hashable key => key -> HAMT key value -> HAMT key value\n",
    "delete key hamt = delete' 0 (hash key) hamt\n",
    "\n",
    "delete' :: Shift -> Hash -> HAMT key value -> HAMT key value\n",
    "delete' shift hash None = None\n",
    "\n",
    "delete' shift hash leaf@(Leaf leafHash leafKey leafValue)\n",
    "    | hash == leafHash = None\n",
    "    | otherwise = leaf\n",
    "\n",
    "delete' shift hash many@(Many bitmap vector)\n",
    "    | bitmap .&. mask == 0 = many\n",
    "    | otherwise = let\n",
    "        subtree = vector ! index\n",
    "        subtree' = delete' (shift+bitsPerSubkey) hash subtree\n",
    "        in case subtree' of\n",
    "            None -> if length vector == 1\n",
    "                then None\n",
    "                else Many (bitmap .&. complement mask) (deleteAt vector index)\n",
    "            Leaf{} -> if length vector == 1\n",
    "                then subtree'\n",
    "                else  Many bitmap (updateAt vector index subtree')\n",
    "            Many{} -> Many bitmap (updateAt vector index subtree')\n",
    "    where\n",
    "        mask = bitMask hash shift\n",
    "        index = maskIndex bitmap mask"
   ]
  },
  {
   "cell_type": "code",
   "execution_count": null,
   "metadata": {},
   "outputs": [],
   "source": [
    "pPrint $ delete \"1000\" example"
   ]
  },
  {
   "cell_type": "code",
   "execution_count": null,
   "metadata": {},
   "outputs": [],
   "source": [
    "pPrint $ delete \"10\" $ delete \"1000\" example"
   ]
  }
 ],
 "metadata": {
  "kernelspec": {
   "display_name": "Haskell",
   "language": "haskell",
   "name": "haskell"
  },
  "language_info": {
   "codemirror_mode": "ihaskell",
   "file_extension": ".hs",
   "name": "haskell",
   "pygments_lexer": "Haskell",
   "version": "8.2.2"
  }
 },
 "nbformat": 4,
 "nbformat_minor": 2
}
