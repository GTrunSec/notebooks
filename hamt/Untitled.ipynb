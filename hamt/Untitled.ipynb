{
 "cells": [
  {
   "cell_type": "code",
   "execution_count": 1,
   "metadata": {},
   "outputs": [],
   "source": [
    "{-# LANGUAGE GeneralizedNewtypeDeriving #-}\n",
    "\n",
    "import Data.Bits\n",
    "import Data.Word\n",
    "import Numeric\n",
    "import Data.Char\n",
    "\n",
    "newtype Binary a = Binary a deriving (Num, Eq, Ord, Bits, FiniteBits, Integral, Real, Enum)\n",
    "\n",
    "instance (FiniteBits a, Integral a, Show a) => Show (Binary a) where\n",
    "    show (Binary a) = let\n",
    "        str = showIntAtBase 2 intToDigit a \"\"\n",
    "        size = finiteBitSize (undefined `asTypeOf` a)\n",
    "        in replicate (size - length str) '0' ++ str"
   ]
  },
  {
   "cell_type": "code",
   "execution_count": 2,
   "metadata": {},
   "outputs": [],
   "source": [
    "type Bitmap = Binary Word16\n",
    "type Hash = Binary Word32\n",
    "type Shift = Int\n",
    "\n",
    "bitsPerSubhash :: Int\n",
    "bitsPerSubhash = 4\n",
    "\n",
    "class Hashable a where\n",
    "    hash :: a -> Hash"
   ]
  },
  {
   "cell_type": "code",
   "execution_count": 3,
   "metadata": {},
   "outputs": [],
   "source": [
    "{-# LANGUAGE FlexibleInstances #-}\n",
    "{-# LANGUAGE TypeSynonymInstances #-}\n",
    "\n",
    "import Data.ByteArray.Hash\n",
    "import Data.ByteString.Char8 (pack)\n",
    "\n",
    "instance Hashable String where\n",
    "    hash str = let\n",
    "        FnvHash32 h = fnv1Hash (pack str)\n",
    "        in Binary h"
   ]
  },
  {
   "cell_type": "code",
   "execution_count": 4,
   "metadata": {},
   "outputs": [],
   "source": [
    "import Data.Vector (Vector)\n",
    "import qualified Data.Vector as V\n",
    "\n",
    "data HAMT key value\n",
    "    = None\n",
    "    | Leaf Hash key value\n",
    "    | Many Bitmap (Vector (HAMT key value))\n",
    "    deriving (Show)\n",
    "\n",
    "empty = None"
   ]
  },
  {
   "cell_type": "code",
   "execution_count": 22,
   "metadata": {},
   "outputs": [],
   "source": [
    "insertAt :: Vector a -> Int -> a -> Vector a\n",
    "insertAt vector index a = V.take index vector V.++ V.singleton a V.++ V.drop index vector\n",
    "\n",
    "updateAt :: Vector a -> Int -> a -> Vector a\n",
    "updateAt vector index a = vector V.// [(index, a)]\n",
    "\n",
    "deleteAt :: Vector a -> Int -> Vector a\n",
    "deleteAt vector index = V.take index vector V.++ V.drop (index+1) vector"
   ]
  },
  {
   "cell_type": "code",
   "execution_count": 6,
   "metadata": {},
   "outputs": [],
   "source": [
    "subHashMask :: Bitmap\n",
    "subHashMask = bit (bitsPerSubhash) - 1"
   ]
  },
  {
   "cell_type": "code",
   "execution_count": 16,
   "metadata": {},
   "outputs": [],
   "source": [
    "import Debug.Trace\n",
    "\n",
    "insert_ :: Shift -> Hash -> key -> value -> HAMT key value -> HAMT key value\n",
    "\n",
    "hashBitmap :: Hash -> Shift -> Bitmap\n",
    "hashBitmap hash shift = let\n",
    "    fragment = fromIntegral (hash `shiftR` shift) .&. subHashMask\n",
    "    Binary position = fragment\n",
    "    bitmap = Binary $ bit $ fromIntegral position\n",
    "    in bitmap\n",
    "\n",
    "hashIndex :: Hash -> Shift -> Bitmap -> Int\n",
    "hashIndex hash shift bitmap = let\n",
    "    fragment = fromIntegral (hash `shiftR` shift) .&. subHashMask\n",
    "    mask = bit (fromIntegral fragment) - 1 :: Bitmap\n",
    "    index = popCount (bitmap .&. mask)\n",
    "    in index\n",
    "\n",
    "insert_ shift hash key value None = Leaf hash key value\n",
    "\n",
    "insert_ shift hash key value leaf@(Leaf leafHash leafKey leafValue)\n",
    "    | hash == leafHash = Leaf hash key value\n",
    "    | otherwise = insert_ shift hash key value $ Many (hashBitmap leafHash shift) (V.singleton leaf)\n",
    "\n",
    "insert_ shift hash key value (Many bitmap vector)\n",
    "    | bitmap .&. mask == 0 = let\n",
    "        leaf = Leaf hash key value\n",
    "        bitmap' = bitmap .|. mask\n",
    "        vector' = insertAt vector index leaf\n",
    "        in Many bitmap' vector'\n",
    "    | otherwise = let\n",
    "        subtree = vector V.! index\n",
    "        subtree' = insert_ (shift + bitsPerSubhash) hash key value subtree\n",
    "        in Many bitmap (updateAt vector index subtree')\n",
    "    where \n",
    "        index = hashIndex hash shift bitmap\n",
    "        mask  = hashBitmap hash shift\n",
    "\n",
    "insert :: Hashable key => key -> value -> HAMT key value -> HAMT key value\n",
    "insert key = insert_ 0 (hash key) key"
   ]
  },
  {
   "cell_type": "code",
   "execution_count": 8,
   "metadata": {},
   "outputs": [
    {
     "data": {
      "text/plain": [
       "Leaf 00000101000011000101110100101110 \"1\" 1"
      ]
     },
     "metadata": {},
     "output_type": "display_data"
    }
   ],
   "source": [
    "leaf = insert_ 0 (hash \"1\") \"1\" 1 empty\n",
    "leaf"
   ]
  },
  {
   "cell_type": "code",
   "execution_count": 21,
   "metadata": {},
   "outputs": [
    {
     "data": {
      "text/plain": [
       "Many\n",
       "  0100010000000000\n",
       "  [ Leaf 00100000011101101010111101011010 \"10\" 2\n",
       "  , Many\n",
       "      0000001000000100\n",
       "      [ Leaf 00000101000011000101110100101110 \"1\" 1\n",
       "      , Leaf 01110100110101100000101010011110 \"100\" 3\n",
       "      ]\n",
       "  ]"
      ]
     },
     "metadata": {},
     "output_type": "display_data"
    }
   ],
   "source": [
    "import Text.Show.Pretty\n",
    "many = insert_ 0 (hash \"10\") \"10\" 2 leaf\n",
    "many' = insert_ 0 (hash \"100\") \"100\" 3 many\n",
    "pPrint many'"
   ]
  },
  {
   "cell_type": "code",
   "execution_count": 20,
   "metadata": {},
   "outputs": [
    {
     "data": {
      "text/plain": [
       "Just 1"
      ]
     },
     "metadata": {},
     "output_type": "display_data"
    }
   ],
   "source": [
    "import Prelude hiding (lookup)\n",
    "\n",
    "lookup_ :: Shift -> Hash -> HAMT key value -> Maybe value\n",
    "lookup_ shift hash None = Nothing\n",
    "\n",
    "lookup_ shift hash (Leaf leafHash leafKey leafValue)\n",
    "    | hash == leafHash = Just leafValue\n",
    "    | otherwise = Nothing\n",
    "\n",
    "lookup_ shift hash (Many bitmap vector)\n",
    "    | bitmap .&. mask == 0 = Nothing\n",
    "    | otherwise = let\n",
    "        child = vector V.! index\n",
    "        in lookup_ (shift+bitsPerSubhash) hash child\n",
    "    where\n",
    "        index = hashIndex hash shift bitmap\n",
    "        mask  = hashBitmap hash shift\n",
    "\n",
    "\n",
    "lookup :: Hashable key => key -> HAMT key value -> Maybe value\n",
    "lookup key = lookup_ 0 (hash key)\n",
    "\n",
    "lookup \"1\" many'"
   ]
  },
  {
   "cell_type": "code",
   "execution_count": 25,
   "metadata": {},
   "outputs": [],
   "source": [
    "delete_ :: Shift -> Hash -> HAMT key value -> HAMT key value\n",
    "\n",
    "delete_ shift hash None = None\n",
    "\n",
    "delete_ shift hash leaf@(Leaf leafHash leafKey leafValue)\n",
    "    | hash == leafHash = None\n",
    "    | otherwise = leaf\n",
    "\n",
    "delete_ shift hash many@(Many bitmap vector)\n",
    "    | bitmap .&. mask == 0 = many\n",
    "    | otherwise = let\n",
    "        subtree = vector V.! index\n",
    "        subtree' = delete_ (shift+bitsPerSubhash) hash subtree\n",
    "        in case subtree' of\n",
    "            None -> if V.length vector == 1\n",
    "                then None\n",
    "                else Many (bitmap .&. (complement mask)) (deleteAt vector index)\n",
    "            Leaf{} -> if V.length vector == 1\n",
    "                then subtree'\n",
    "                else  Many bitmap (updateAt vector index subtree')\n",
    "            Many{} -> Many bitmap (updateAt vector index subtree')\n",
    "    where\n",
    "        index = hashIndex hash shift bitmap\n",
    "        mask  = hashBitmap hash shift\n",
    "\n",
    "delete :: Hashable key => key -> HAMT key value -> HAMT key value\n",
    "delete key = delete_ 0 (hash key)"
   ]
  },
  {
   "cell_type": "code",
   "execution_count": 28,
   "metadata": {},
   "outputs": [
    {
     "data": {
      "text/plain": [
       "Many\n",
       "  0000010000000000 [ Leaf 00100000011101101010111101011010 \"10\" 2 ]"
      ]
     },
     "metadata": {},
     "output_type": "display_data"
    }
   ],
   "source": [
    "pPrint $ delete \"100\" $ delete \"1\" many'"
   ]
  }
 ],
 "metadata": {
  "kernelspec": {
   "display_name": "Haskell",
   "language": "haskell",
   "name": "haskell"
  },
  "language_info": {
   "codemirror_mode": "ihaskell",
   "file_extension": ".hs",
   "name": "haskell",
   "pygments_lexer": "Haskell",
   "version": "8.2.2"
  }
 },
 "nbformat": 4,
 "nbformat_minor": 2
}
