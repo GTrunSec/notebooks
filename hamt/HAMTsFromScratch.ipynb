{
 "cells": [
  {
   "cell_type": "markdown",
   "metadata": {},
   "source": [
    "--------------------------------------------------------------------------------\n",
    "title: HAMTs from Scratch\n",
    "published: 2018-07-27\n",
    "tags: programming, haskell\n",
    "--------------------------------------------------------------------------------"
   ]
  },
  {
   "cell_type": "markdown",
   "metadata": {},
   "source": [
    "_This blog post is available as an [IHaskell notebook](https://github.com/vaibhavsagar/notebooks/blob/master/hamt/HAMTsFromScratch.ipynb) if you would like to try it yourself._\n",
    "\n",
    "I wanted an explanation for HAMTs (Hash Array Mapped Tries) that was more detailed than [Marek Majkowski's introduction](https://idea.popcount.org/2012-07-25-introduction-to-hamt/) and more approachable than [_Ideal Hash Trees_ by Phil Bagwell](https://lampwww.epfl.ch/papers/idealhashtrees.pdf), the paper that introduced them. HAMTs form the backbone of the [`unordered-containers`](http://hackage.haskell.org/package/unordered-containers) library but the [implementation has been lovingly optimised](https://github.com/tibbe/unordered-containers/blob/efa43a2ab09dc6eb72893d12676a8e188cb4ca63/Data/HashMap/Base.hs) to the point where I think it's too complex to make sense of if you don't already have a good grasp of the underlying concepts. Finally I found [Edward Z. Yang's implementation](https://github.com/ezyang/hamt/blob/a43559795630980eb16ab832a003d8e6acd21cf6/HAMT.hs) and after adapting it I think I'm in a good place to attempt this explanation.\n",
    "\n",
    "Let's start with a few imports!"
   ]
  },
  {
   "cell_type": "code",
   "execution_count": 1,
   "metadata": {},
   "outputs": [],
   "source": [
    "import Data.Bits\n",
    "import Data.ByteArray.Hash\n",
    "import Data.ByteString.Char8 (pack)\n",
    "import Data.Char\n",
    "import Data.Vector (Vector)\n",
    "import qualified Data.Vector as V\n",
    "import Data.Word\n",
    "import Numeric\n",
    "import Prelude hiding (lookup)\n",
    "import Text.Show.Pretty"
   ]
  },
  {
   "cell_type": "markdown",
   "metadata": {},
   "source": [
    "We're going to be doing some bit twiddling, so to make things easier I'm going to define a `newtype` that behaves exactly the same as whatever it's wrapping except that its `Show` instance displays the binary representation instead of the decimal one."
   ]
  },
  {
   "cell_type": "code",
   "execution_count": 2,
   "metadata": {},
   "outputs": [],
   "source": [
    "{-# LANGUAGE GeneralizedNewtypeDeriving #-}\n",
    "\n",
    "newtype Binary a = Binary a deriving (Enum, Ord, Real, Integral, Eq, Num, Bits, FiniteBits)\n",
    "\n",
    "instance (FiniteBits a, Show a, Integral a) => Show (Binary a) where\n",
    "    show (Binary a) = let\n",
    "        str = showIntAtBase 2 intToDigit a \"\"\n",
    "        size = finiteBitSize $ undefined `asTypeOf` a\n",
    "        in replicate (size - length str) '0' ++ str"
   ]
  },
  {
   "cell_type": "markdown",
   "metadata": {},
   "source": [
    "I'm going to use 32-bit hashes (because they're more convenient to display than 64-bit ones) and 16-bit bitmaps. The width of bitmaps is $2^n$ where $n$ is the number of bits of the hash that we use at each level of the tree (more on this below). I'm setting $n=4$ which is what `unordered-containers` uses (as of this writing), but we could e.g. set $n=5$ and use 32-bit bitmaps if we wanted. `Shift` is a multiple of $n$ that we will use to focus on the correct part of the hash.\n",
    "\n",
    "I'm also going to define a `Hashable` class to decouple the choice of a hash function from the implementation of `HAMT`."
   ]
  },
  {
   "cell_type": "code",
   "execution_count": 3,
   "metadata": {},
   "outputs": [],
   "source": [
    "type Hash = Binary Word32\n",
    "type Bitmap = Binary Word16\n",
    "\n",
    "bitsPerSubkey :: Int\n",
    "bitsPerSubkey = 4\n",
    "\n",
    "type Shift = Int\n",
    "\n",
    "class Hashable a where\n",
    "    hash :: a -> Hash"
   ]
  },
  {
   "cell_type": "markdown",
   "metadata": {},
   "source": [
    "For convenience, we'll use the FNV-1 hash function with strings."
   ]
  },
  {
   "cell_type": "code",
   "execution_count": 4,
   "metadata": {},
   "outputs": [],
   "source": [
    "{-# LANGUAGE TypeSynonymInstances #-}\n",
    "{-# LANGUAGE FlexibleInstances #-}\n",
    "\n",
    "instance Hashable String where\n",
    "    hash s = let\n",
    "        FnvHash32 h = fnv1Hash (pack s)\n",
    "        in Binary h"
   ]
  },
  {
   "cell_type": "markdown",
   "metadata": {},
   "source": [
    "Here's what it looks like in practice."
   ]
  },
  {
   "cell_type": "code",
   "execution_count": 5,
   "metadata": {},
   "outputs": [
    {
     "data": {
      "text/plain": [
       "00000101000011000101110100101110"
      ]
     },
     "metadata": {},
     "output_type": "display_data"
    }
   ],
   "source": [
    "hash \"1\" :: Binary Word32"
   ]
  },
  {
   "cell_type": "markdown",
   "metadata": {},
   "source": [
    "A HAMT can be either empty (`None`), a leaf node with the hash, the key, and the value (`Leaf`), or a node with a bitmap and a (non-empty) vector of child HAMTs (`Many`). I've chosen to ignore the possibility of collisions, but we could handle them by adding an extra constructor, e.g. `Colliding` with a hash and a vector of key-value pairs and updating our functions accordingly."
   ]
  },
  {
   "cell_type": "code",
   "execution_count": 6,
   "metadata": {},
   "outputs": [],
   "source": [
    "data HAMT key value\n",
    "    = None\n",
    "    | Leaf Hash key value\n",
    "    | Many Bitmap (Vector (HAMT key value))\n",
    "    deriving (Show)\n",
    "\n",
    "empty :: HAMT k v\n",
    "empty = None"
   ]
  },
  {
   "cell_type": "markdown",
   "metadata": {},
   "source": [
    "We'll need some helper functions for vectors. `insertAt` inserts an element at a specified index, shifting elements to the right forwards. `updateAt` replaces an element at a specified index with a new element, and `deleteAt` removes an element at an index, shifting elements to the right backwards."
   ]
  },
  {
   "cell_type": "code",
   "execution_count": 7,
   "metadata": {},
   "outputs": [],
   "source": [
    "insertAt :: Vector a -> Int -> a -> Vector a\n",
    "insertAt vector index a = V.take index vector V.++ V.singleton a V.++ V.drop index vector\n",
    "\n",
    "updateAt :: Vector a -> Int -> a -> Vector a\n",
    "updateAt vector index a = vector V.// [(index, a)]\n",
    "\n",
    "deleteAt :: Vector a -> Int -> Vector a\n",
    "deleteAt vector index = (V.take index vector V.++ V.drop (index+1) vector)"
   ]
  },
  {
   "cell_type": "markdown",
   "metadata": {},
   "source": [
    "I think the bit manipulation functions are crucial to understanding what's going on, and I definitely had to stare at them for quite a while before they started making sense, so before introducing them I'm going to discuss `insert`. My initial definition won't be quite right so I'll call it `insert_` to differentiate it from the correct `insert'` function I present later. The type signature for `insert_` is\n",
    "\n",
    "```haskell\n",
    "insert_ :: Hash -> key -> value -> HAMT key value -> HAMT key value\n",
    "```\n",
    "\n",
    "Inserting a key-value pair into an empty HAMT gives us a single leaf node:\n",
    "\n",
    "```haskell\n",
    "insert_ hash key value None = Leaf hash key value\n",
    "```\n",
    "\n",
    "Inserting a key-value pair into a single leaf node where the hashes match gives us an updated leaf node (because we're pretending collisions don't exist):\n",
    "\n",
    "```haskell\n",
    "insert_ hash key value (Leaf leafHash leafKey leafValue)\n",
    "    | hash == leafHash = Leaf hash key value\n",
    "```\n",
    "\n",
    "Inserting into a HAMT consisting of a single leaf node where the hashes don't match upgrades that leaf node to a `Many` node and inserts the key-value pair into that `Many` node:\n",
    "\n",
    "```haskell\n",
    "insert_ hash key value leaf@(Leaf leafHash leafKey leafValue)\n",
    "    | hash /= leafHash = insert_ key value (Many someBitmap (V.singleton leaf))\n",
    "    where someBitmap = undefined\n",
    "```\n",
    "\n",
    "Where does `someBitmap` come from? Time for an example! Let's start with a `Leaf (hash \"1\") \"1\" 1`:"
   ]
  },
  {
   "cell_type": "code",
   "execution_count": 8,
   "metadata": {},
   "outputs": [
    {
     "data": {
      "text/plain": [
       "Leaf 00000101000011000101110100101110 \"1\" 1"
      ]
     },
     "metadata": {},
     "output_type": "display_data"
    }
   ],
   "source": [
    "h = hash \"1\"\n",
    "leaf = Leaf h \"1\" 1\n",
    "leaf"
   ]
  },
  {
   "cell_type": "markdown",
   "metadata": {},
   "source": [
    "`someBitMap` is a 16-bit bitmap where the number of bits set (the `popCount`) is the length of the vector, which in this case is $1$. We want to set one bit, but which bit? We carve off the last $n$ bits using a mask:"
   ]
  },
  {
   "cell_type": "code",
   "execution_count": 9,
   "metadata": {},
   "outputs": [
    {
     "data": {
      "text/plain": [
       "0000000000001111"
      ]
     },
     "metadata": {},
     "output_type": "display_data"
    }
   ],
   "source": [
    "subkeyMask :: Bitmap\n",
    "subkeyMask = (bit bitsPerSubkey) - 1\n",
    "subkeyMask"
   ]
  },
  {
   "cell_type": "code",
   "execution_count": 10,
   "metadata": {},
   "outputs": [
    {
     "data": {
      "text/plain": [
       "0000000000001110"
      ]
     },
     "metadata": {},
     "output_type": "display_data"
    }
   ],
   "source": [
    "--     0101110100101110\n",
    "-- .&. 0000000000001111\n",
    "-----------------------\n",
    "--     0000000000001110\n",
    "fragment = fromIntegral h .&. subkeyMask\n",
    "fragment"
   ]
  },
  {
   "cell_type": "markdown",
   "metadata": {},
   "source": [
    "Then we interpret that fragment as a number:"
   ]
  },
  {
   "cell_type": "code",
   "execution_count": 11,
   "metadata": {},
   "outputs": [
    {
     "data": {
      "text/plain": [
       "14"
      ]
     },
     "metadata": {},
     "output_type": "display_data"
    }
   ],
   "source": [
    "Binary position = fragment\n",
    "position"
   ]
  },
  {
   "cell_type": "markdown",
   "metadata": {},
   "source": [
    "Finally, we set that bit and we have our bitmap:"
   ]
  },
  {
   "cell_type": "code",
   "execution_count": 12,
   "metadata": {},
   "outputs": [
    {
     "data": {
      "text/plain": [
       "0100000000000000"
      ]
     },
     "metadata": {},
     "output_type": "display_data"
    }
   ],
   "source": [
    "someBitmap :: Bitmap\n",
    "someBitmap = Binary $ bit $ fromIntegral position\n",
    "someBitmap"
   ]
  },
  {
   "cell_type": "markdown",
   "metadata": {},
   "source": [
    "We're going to be doing this a lot, so I'll define this as `bitMask_`. The extra `_` is because it isn't quite right for the same reason as `insert_`:"
   ]
  },
  {
   "cell_type": "code",
   "execution_count": 13,
   "metadata": {},
   "outputs": [],
   "source": [
    "bitMask_ :: Hash -> Bitmap\n",
    "bitMask_ hash = let\n",
    "    fragment = fromIntegral hash .&. subkeyMask\n",
    "    Binary position = fragment\n",
    "    in Binary (bit (fromIntegral position))"
   ]
  },
  {
   "cell_type": "markdown",
   "metadata": {},
   "source": [
    "Let's look at the `Many` case. If we try inserting into a node where the bit in the bitmap corresponding to the hash of the key is `0`, then we can insert a leaf node into the vector and set the corresponding bit to `1`:\n",
    "\n",
    "```haskell\n",
    "insert_ hash key value (Many bitmap vector)\n",
    "    | bitmap .&. mask == 0 = let\n",
    "        leaf = Leaf (hash key) key value\n",
    "        vector' = insertAt vector index leaf\n",
    "        bitmap' = bitmap .|. hashBitmap\n",
    "        in Many bitmap' vector'\n",
    "    where\n",
    "        mask = bitMask_ hash\n",
    "        index = undefined\n",
    "```\n",
    "\n",
    "What `index` do we use? This is where `popCount` makes an appearance. Let's demonstrate by inserting `(\"10\", 2)` into our example. We first get the mask corresponding to `hash \"10\"`:"
   ]
  },
  {
   "cell_type": "code",
   "execution_count": 14,
   "metadata": {},
   "outputs": [],
   "source": [
    "mask = bitMask_ (hash \"10\")"
   ]
  },
  {
   "cell_type": "markdown",
   "metadata": {},
   "source": [
    "Next we want to find the number of lower bits that have been set, so we use `mask - 1` as a mask and get the `popCount`:"
   ]
  },
  {
   "cell_type": "code",
   "execution_count": 15,
   "metadata": {},
   "outputs": [
    {
     "data": {
      "text/plain": [
       "0"
      ]
     },
     "metadata": {},
     "output_type": "display_data"
    }
   ],
   "source": [
    "index = popCount (someBitmap .&. (mask - 1))\n",
    "index"
   ]
  },
  {
   "cell_type": "markdown",
   "metadata": {},
   "source": [
    "And this is the index we need to insert at! We'll call this `maskIndex`:"
   ]
  },
  {
   "cell_type": "code",
   "execution_count": 16,
   "metadata": {},
   "outputs": [],
   "source": [
    "maskIndex :: Bitmap -> Bitmap -> Int\n",
    "maskIndex bitmap mask = popCount (bitmap .&. (mask - 1))"
   ]
  },
  {
   "cell_type": "markdown",
   "metadata": {},
   "source": [
    "The final case is where the bit in the bitmap is already set, and we need to recursively update the HAMT at the corresponding index:\n",
    "\n",
    "```haskell\n",
    "insert_ hash key value (Many bitmap vector)\n",
    "    | bitmap .&. mask == 1 = let\n",
    "        subtree' = insert_ hash key value (vector V.! index)\n",
    "        vector' = updateAt vector index subtree'\n",
    "        in Many bitmap vector'\n",
    "    where\n",
    "        mask = bitMask_ hash\n",
    "        index = maskIndex bitmap mask\n",
    "```\n",
    "\n",
    "But instead of carving off the last $n$ bits of `hash`, we want to recursively carve off the next $n$ bits. This is what's missing from our definition, a `shift` parameter corresponding to how far up the `hash` we're looking. Taking this extra parameter into account, our bit manipulation functions now become:"
   ]
  },
  {
   "cell_type": "code",
   "execution_count": 17,
   "metadata": {},
   "outputs": [],
   "source": [
    "subkeyMask :: Bitmap\n",
    "subkeyMask = (bit bitsPerSubkey) - 1\n",
    "\n",
    "maskIndex :: Bitmap -> Bitmap -> Int\n",
    "maskIndex bitmap mask = popCount (bitmap .&. (mask - 1))\n",
    "\n",
    "subkey :: Hash -> Shift -> Int\n",
    "subkey hash shift = fromIntegral $ (fromIntegral $ shiftR hash shift) .&. subkeyMask\n",
    "\n",
    "bitMask :: Hash -> Shift -> Bitmap\n",
    "bitMask hash shift = bit (subkey hash shift)"
   ]
  },
  {
   "cell_type": "markdown",
   "metadata": {},
   "source": [
    "And we plumb through this `shift` parameter, only modifying it in the final case, to give us the correct definitions of `insert'` and `insert`:"
   ]
  },
  {
   "cell_type": "code",
   "execution_count": 18,
   "metadata": {},
   "outputs": [],
   "source": [
    "insert :: Hashable key => key -> value -> HAMT key value -> HAMT key value\n",
    "insert key value hamt = insert' 0 (hash key) key value hamt\n",
    "\n",
    "insert' :: Shift -> Hash -> key -> value -> HAMT key value -> HAMT key value\n",
    "insert' shift hash key value None = Leaf hash key value\n",
    "\n",
    "insert' shift hash key value leaf@(Leaf leafHash leafKey leafValue)\n",
    "    | hash == leafHash = Leaf hash key value\n",
    "    | otherwise = insert' shift hash key value (Many (bitMask leafHash shift) (V.singleton leaf))\n",
    "\n",
    "insert' shift hash key value (Many bitmap vector)\n",
    "    | bitmap .&. mask == 0 = let\n",
    "        leaf = Leaf hash key value\n",
    "        vector' = insertAt vector index leaf\n",
    "        bitmap' = bitmap .|. mask\n",
    "        in Many bitmap' vector'\n",
    "    | otherwise = let\n",
    "        subtree = vector V.! index\n",
    "        subtree' = insert' (shift+bitsPerSubkey) hash key value subtree\n",
    "        vector' = updateAt vector index subtree'\n",
    "        in Many bitmap vector'\n",
    "    where\n",
    "        mask = bitMask hash shift\n",
    "        index = maskIndex bitmap mask"
   ]
  },
  {
   "cell_type": "markdown",
   "metadata": {},
   "source": [
    "Now we can construct HAMTs and inspect them! I'll define a `fromList` function to make things easier and use `pPrint` from `pretty-show` to highlight the tree structure:"
   ]
  },
  {
   "cell_type": "code",
   "execution_count": 19,
   "metadata": {},
   "outputs": [
    {
     "data": {
      "text/plain": [
       "Many\n",
       "  0100010000000000\n",
       "  [ Many\n",
       "      0000000100100000\n",
       "      [ Leaf 00100000011101101010111101011010 \"10\" 2\n",
       "      , Leaf 10001010111100101011011010001010 \"1000\" 4\n",
       "      ]\n",
       "  , Many\n",
       "      0000001000000100\n",
       "      [ Leaf 00000101000011000101110100101110 \"1\" 1\n",
       "      , Leaf 01110100110101100000101010011110 \"100\" 3\n",
       "      ]\n",
       "  ]"
      ]
     },
     "metadata": {},
     "output_type": "display_data"
    }
   ],
   "source": [
    "fromList :: Hashable key => [(key, value)] -> HAMT key value\n",
    "fromList = foldr (uncurry insert) empty\n",
    "\n",
    "example = fromList [(\"1\", 1), (\"10\", 2), (\"100\", 3), (\"1000\", 4)]\n",
    "\n",
    "pPrint example"
   ]
  },
  {
   "cell_type": "markdown",
   "metadata": {},
   "source": [
    "Compared to `insert`, `lookup` is a walk in the park. It's implemented like we would expect on empty trees and leaf nodes, and it recurses exactly like `insert`, using the bitmap to check possible membership."
   ]
  },
  {
   "cell_type": "code",
   "execution_count": 20,
   "metadata": {},
   "outputs": [],
   "source": [
    "lookup :: Hashable key => key -> HAMT key value -> Maybe value\n",
    "lookup key hamt = lookup' 0 (hash key) hamt\n",
    "\n",
    "lookup' :: Shift -> Hash -> HAMT key value -> Maybe value\n",
    "lookup' shift hash None = Nothing\n",
    "\n",
    "lookup' shift hash (Leaf leafHash leafKey leafValue)\n",
    "    | hash == leafHash = Just leafValue\n",
    "    | otherwise = Nothing\n",
    "\n",
    "lookup' shift hash (Many bitmap vector)\n",
    "    | bitmap .&. mask == 0 = Nothing\n",
    "    | otherwise = lookup' (shift+bitsPerSubkey) hash (vector V.! index)\n",
    "    where\n",
    "        mask = bitMask hash shift\n",
    "        index = maskIndex bitmap mask"
   ]
  },
  {
   "cell_type": "markdown",
   "metadata": {},
   "source": [
    "Let's quickly confirm that it works."
   ]
  },
  {
   "cell_type": "code",
   "execution_count": 21,
   "metadata": {},
   "outputs": [
    {
     "data": {
      "text/plain": [
       "Just 3"
      ]
     },
     "metadata": {},
     "output_type": "display_data"
    }
   ],
   "source": [
    "lookup \"100\" example"
   ]
  },
  {
   "cell_type": "markdown",
   "metadata": {},
   "source": [
    "Finally we come to `delete`, which is only a little more complex. It needs to make sure that there are no `None` nodes in the tree, so if a deletion results in a `None` node, it will unset the bit in the bitmap if there are any sibling nodes, and if it was the only child of a `Many` node, it will replace the `Many` node with itself. `Leaf` nodes similarly replace their parents if they are the only child."
   ]
  },
  {
   "cell_type": "code",
   "execution_count": 22,
   "metadata": {},
   "outputs": [],
   "source": [
    "delete :: Hashable key => key -> HAMT key value -> HAMT key value\n",
    "delete key hamt = delete' 0 (hash key) hamt\n",
    "\n",
    "delete' :: Shift -> Hash -> HAMT key value -> HAMT key value\n",
    "delete' shift hash None = None\n",
    "\n",
    "delete' shift hash leaf@(Leaf leafHash leafKey leafValue)\n",
    "    | hash == leafHash = None\n",
    "    | otherwise = leaf\n",
    "\n",
    "delete' shift hash many@(Many bitmap vector)\n",
    "    | bitmap .&. mask == 0 = many\n",
    "    | otherwise = let\n",
    "        subtree = vector V.! index\n",
    "        subtree' = delete' (shift+bitsPerSubkey) hash subtree\n",
    "        in case subtree' of\n",
    "            None -> if V.length vector == 1\n",
    "                then None\n",
    "                else Many (bitmap .&. complement mask) (deleteAt vector index)\n",
    "            Leaf{} -> if V.length vector == 1\n",
    "                then subtree'\n",
    "                else  Many bitmap (updateAt vector index subtree')\n",
    "            Many{} -> Many bitmap (updateAt vector index subtree')\n",
    "    where\n",
    "        mask = bitMask hash shift\n",
    "        index = maskIndex bitmap mask"
   ]
  },
  {
   "cell_type": "markdown",
   "metadata": {},
   "source": [
    "Let's see this in action."
   ]
  },
  {
   "cell_type": "code",
   "execution_count": 23,
   "metadata": {},
   "outputs": [
    {
     "data": {
      "text/plain": [
       "Many\n",
       "  0100010000000000\n",
       "  [ Many\n",
       "      0000000000100000 [ Leaf 00100000011101101010111101011010 \"10\" 2 ]\n",
       "  , Many\n",
       "      0000001000000100\n",
       "      [ Leaf 00000101000011000101110100101110 \"1\" 1\n",
       "      , Leaf 01110100110101100000101010011110 \"100\" 3\n",
       "      ]\n",
       "  ]"
      ]
     },
     "metadata": {},
     "output_type": "display_data"
    }
   ],
   "source": [
    "pPrint $ delete \"1000\" example"
   ]
  },
  {
   "cell_type": "markdown",
   "metadata": {},
   "source": [
    "Note that it's possible to have a situation where we have a `Many` node with only one child, because our replacement behaviour checks the length of the vector before any elements are removed from it. However, removing the last leaf will correctly delete the parent node as well."
   ]
  },
  {
   "cell_type": "code",
   "execution_count": 24,
   "metadata": {},
   "outputs": [
    {
     "data": {
      "text/plain": [
       "Many\n",
       "  0100000000000000\n",
       "  [ Many\n",
       "      0000001000000100\n",
       "      [ Leaf 00000101000011000101110100101110 \"1\" 1\n",
       "      , Leaf 01110100110101100000101010011110 \"100\" 3\n",
       "      ]\n",
       "  ]"
      ]
     },
     "metadata": {},
     "output_type": "display_data"
    }
   ],
   "source": [
    "pPrint $ delete \"10\" $ delete \"1000\" example"
   ]
  },
  {
   "cell_type": "markdown",
   "metadata": {},
   "source": [
    "And we're done!\n",
    "\n",
    "If you want to use this for something other than educational purposes, I would recommend adding logic to deal with hash collisions, which I intentionally omitted (as I mentioned above). There's also some low-hanging fruit in terms of performance optimisations. The first thing that comes to mind is an additional `Full` constructor for the case where all bits in the bitmap are set, and the next thing is the use of unsafe vector functions that omit bounds checking.\n",
    "\n",
    "I hope you understand HAMTs better than when you started reading this!"
   ]
  }
 ],
 "metadata": {
  "kernelspec": {
   "display_name": "Haskell",
   "language": "haskell",
   "name": "haskell"
  },
  "language_info": {
   "codemirror_mode": "ihaskell",
   "file_extension": ".hs",
   "name": "haskell",
   "pygments_lexer": "Haskell",
   "version": "8.2.2"
  }
 },
 "nbformat": 4,
 "nbformat_minor": 2
}
