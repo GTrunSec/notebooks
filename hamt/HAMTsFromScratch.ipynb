{
 "cells": [
  {
   "cell_type": "markdown",
   "metadata": {},
   "source": [
    "--------------------------------------------------------------------------------\n",
    "title: HAMTs from Scratch\n",
    "published: 2018-07-29\n",
    "tags: programming, haskell\n",
    "--------------------------------------------------------------------------------"
   ]
  },
  {
   "cell_type": "markdown",
   "metadata": {},
   "source": [
    "_This blog post is also an [IHaskell notebook](https://github.com/vaibhavsagar/notebooks/blob/master/hamt/HAMTsFromScratch.ipynb) and the source is available [separately](https://github.com/vaibhavsagar/notebooks/tree/master/hamt/hamt)._\n",
    "\n",
    "I wanted an explanation for HAMTs (Hash Array Mapped Tries) that was more detailed than [Marek Majkowski's introduction](https://idea.popcount.org/2012-07-25-introduction-to-hamt/) and more approachable than [_Ideal Hash Trees_ by Phil Bagwell](https://lampwww.epfl.ch/papers/idealhashtrees.pdf), the paper that introduced them. If you haven't heard of them before, HAMTs are a way of efficiently representing a hashtable as a [trie](https://en.wikipedia.org/wiki/Trie), and although they were first envisioned as a mutable data structure they are easily adapted to work as a [persistent data structure](https://en.wikipedia.org/wiki/Persistent_data_structure). They form the backbone of the [`unordered-containers`](http://hackage.haskell.org/package/unordered-containers) library but the [implementation has been lovingly optimised](https://github.com/tibbe/unordered-containers/blob/efa43a2ab09dc6eb72893d12676a8e188cb4ca63/Data/HashMap/Base.hs) to the point where I found it impenetrable. [Edward Z. Yang's implementation](https://github.com/ezyang/hamt/blob/a43559795630980eb16ab832a003d8e6acd21cf6/HAMT.hs) is much easier to follow and after adapting it I think I'm in a good place to provide my own take on them.\n",
    "\n",
    "Let's start with a few imports! I'll be using these packages:\n",
    "\n",
    "- [`base`](http://hackage.haskell.org/package/base)\n",
    "- [`bytestring`](http://hackage.haskell.org/package/bytestring)\n",
    "- [`memory`](http://hackage.haskell.org/package/memory)\n",
    "- [`pretty-show`](http://hackage.haskell.org/package/pretty-show)\n",
    "- [`timeit`](http://hackage.haskell.org/package/timeit)\n",
    "- [`vector`](http://hackage.haskell.org/package/vector)"
   ]
  },
  {
   "cell_type": "code",
   "execution_count": 1,
   "metadata": {},
   "outputs": [],
   "source": [
    "import Data.Bits             (Bits (bit, complement, popCount, shiftR, (.&.), (.|.)),\n",
    "                              FiniteBits (finiteBitSize))\n",
    "import Data.ByteArray.Hash   (FnvHash32 (..), fnv1Hash)\n",
    "import Data.ByteString.Char8 (pack)\n",
    "import Data.Char             (intToDigit)\n",
    "import Data.Semigroup        ((<>))\n",
    "import Data.Vector           (Vector, drop, singleton, take, (!), (//))\n",
    "import Data.Word             (Word16, Word32)\n",
    "import Numeric               (showIntAtBase)\n",
    "import Prelude               hiding (drop, lookup, take)\n",
    "import System.TimeIt         (timeIt)\n",
    "import Text.Show.Pretty      (pPrint)"
   ]
  },
  {
   "cell_type": "markdown",
   "metadata": {},
   "source": [
    "We're going to be doing some bit twiddling. To make this easier to follow I'm going to define a `newtype` whose `Show` instance displays the binary representation."
   ]
  },
  {
   "cell_type": "code",
   "execution_count": 2,
   "metadata": {},
   "outputs": [],
   "source": [
    "{-# LANGUAGE GeneralizedNewtypeDeriving #-}\n",
    "\n",
    "newtype Binary a = Binary a\n",
    "    deriving (Enum, Ord, Real, Integral, Eq, Num, Bits, FiniteBits)\n",
    "\n",
    "instance (FiniteBits a, Show a, Integral a) => Show (Binary a) where\n",
    "    show (Binary n) = let\n",
    "        str = showIntAtBase 2 intToDigit n \"\"\n",
    "        size = finiteBitSize $ undefined `asTypeOf` n\n",
    "        in replicate (size - length str) '0' <> str"
   ]
  },
  {
   "cell_type": "markdown",
   "metadata": {},
   "source": [
    "Using this `newtype` we can turn this:"
   ]
  },
  {
   "cell_type": "code",
   "execution_count": 3,
   "metadata": {},
   "outputs": [
    {
     "data": {
      "text/plain": [
       "24732"
      ]
     },
     "metadata": {},
     "output_type": "display_data"
    }
   ],
   "source": [
    "24732 :: Word16"
   ]
  },
  {
   "cell_type": "markdown",
   "metadata": {},
   "source": [
    "into this:"
   ]
  },
  {
   "cell_type": "code",
   "execution_count": 4,
   "metadata": {},
   "outputs": [
    {
     "data": {
      "text/plain": [
       "0110000010011100"
      ]
     },
     "metadata": {},
     "output_type": "display_data"
    }
   ],
   "source": [
    "24732 :: Binary Word16"
   ]
  },
  {
   "cell_type": "markdown",
   "metadata": {},
   "source": [
    "I'm going to use 32-bit hashes (because they're more convenient to display than 64-bit ones) and 16-bit bitmaps. "
   ]
  },
  {
   "cell_type": "code",
   "execution_count": 5,
   "metadata": {},
   "outputs": [],
   "source": [
    "type Hash = Binary Word32\n",
    "type Bitmap = Binary Word16"
   ]
  },
  {
   "cell_type": "markdown",
   "metadata": {},
   "source": [
    "The width of bitmaps is $2^n$ where $n$ is the number of bits of the hash that we use at each level of the tree (more on this below). I'm setting $n=4$ which is what `unordered-containers` uses (as of this writing), but we could e.g. set $n=5$ and use 32-bit bitmaps if we wanted. "
   ]
  },
  {
   "cell_type": "code",
   "execution_count": 6,
   "metadata": {},
   "outputs": [],
   "source": [
    "bitsPerSubkey :: Int\n",
    "bitsPerSubkey = 4"
   ]
  },
  {
   "cell_type": "markdown",
   "metadata": {},
   "source": [
    "`Shift` is a multiple of $n$ that we will use to focus on the correct part of the hash."
   ]
  },
  {
   "cell_type": "code",
   "execution_count": 7,
   "metadata": {},
   "outputs": [],
   "source": [
    "type Shift = Int"
   ]
  },
  {
   "cell_type": "markdown",
   "metadata": {},
   "source": [
    "I'm also going to define a `Hashable` class to decouple the choice of a hash function from the implementation of `HAMT`."
   ]
  },
  {
   "cell_type": "code",
   "execution_count": 8,
   "metadata": {},
   "outputs": [],
   "source": [
    "class Hashable a where\n",
    "    hash :: a -> Hash"
   ]
  },
  {
   "cell_type": "markdown",
   "metadata": {},
   "source": [
    "For convenience, we'll use the FNV-1 hash function with strings."
   ]
  },
  {
   "cell_type": "code",
   "execution_count": 9,
   "metadata": {},
   "outputs": [],
   "source": [
    "{-# LANGUAGE TypeSynonymInstances #-}\n",
    "{-# LANGUAGE FlexibleInstances #-}\n",
    "\n",
    "instance Hashable String where\n",
    "    hash s = let\n",
    "        FnvHash32 h = fnv1Hash (pack s)\n",
    "        in Binary h"
   ]
  },
  {
   "cell_type": "markdown",
   "metadata": {},
   "source": [
    "Here's what it looks like in practice."
   ]
  },
  {
   "cell_type": "code",
   "execution_count": 10,
   "metadata": {},
   "outputs": [
    {
     "data": {
      "text/plain": [
       "00000101000011000101110100101110"
      ]
     },
     "metadata": {},
     "output_type": "display_data"
    }
   ],
   "source": [
    "hash \"1\" :: Binary Word32"
   ]
  },
  {
   "cell_type": "markdown",
   "metadata": {},
   "source": [
    "A HAMT can be\n",
    "\n",
    "- empty (`None`)\n",
    "- a leaf node with the hash, the key, and the value (`Leaf`)\n",
    "- a node with a bitmap and a (non-empty) vector of child HAMTs (`Many`)\n",
    "\n",
    "I've chosen to ignore the possibility of collisions, but we could handle them by adding an extra constructor, e.g. `Colliding` with a hash and a vector of key-value pairs."
   ]
  },
  {
   "cell_type": "code",
   "execution_count": 11,
   "metadata": {},
   "outputs": [],
   "source": [
    "data HAMT key value\n",
    "    = None\n",
    "    | Leaf Hash key value\n",
    "    | Many Bitmap (Vector (HAMT key value))\n",
    "    deriving (Show)\n",
    "\n",
    "empty :: HAMT k v\n",
    "empty = None"
   ]
  },
  {
   "cell_type": "markdown",
   "metadata": {},
   "source": [
    "We'll need some helper functions for vectors:\n",
    "\n",
    "- `insertAt` inserts an element at a specified index, shifting elements to the right forwards\n",
    "- `updateAt` replaces an element at a specified index with a new element\n",
    "- `deleteAt` removes an element at an index, shifting elements to the right backwards"
   ]
  },
  {
   "cell_type": "code",
   "execution_count": 12,
   "metadata": {},
   "outputs": [],
   "source": [
    "insertAt :: Vector a -> Int -> a -> Vector a\n",
    "insertAt vector index a = take index vector <> singleton a <> drop index vector\n",
    "\n",
    "updateAt :: Vector a -> Int -> a -> Vector a\n",
    "updateAt vector index a = vector // [(index, a)]\n",
    "\n",
    "deleteAt :: Vector a -> Int -> Vector a\n",
    "deleteAt vector index = take index vector <> drop (index+1) vector"
   ]
  },
  {
   "cell_type": "markdown",
   "metadata": {},
   "source": [
    "### Insert"
   ]
  },
  {
   "cell_type": "markdown",
   "metadata": {},
   "source": [
    "I think the bit manipulation functions are crucial to understanding what's going on, so I'm going to motivate them by trying to define `insert` without them and coming up with them as they are needed. This initial definition won't be quite right so I'll call it `insert_` to differentiate it from the correct `insert'` function I present later. The type signature for `insert_` is\n",
    "\n",
    "```haskell\n",
    "insert_ :: Hash -> key -> value -> HAMT key value -> HAMT key value\n",
    "```\n",
    "\n",
    "Inserting a key-value pair into an empty HAMT gives us a single leaf node:\n",
    "\n",
    "```haskell\n",
    "insert_ hash key value None = Leaf hash key value\n",
    "```\n",
    "\n",
    "Inserting a key-value pair into a single leaf node where the hashes match gives us an updated leaf node (because we're pretending collisions don't exist):\n",
    "\n",
    "```haskell\n",
    "insert_ hash key value (Leaf leafHash leafKey leafValue)\n",
    "    | hash == leafHash = Leaf hash key value\n",
    "```\n",
    "\n",
    "Inserting into a HAMT consisting of a single leaf node where the hashes don't match upgrades that leaf node to a `Many` node and inserts the key-value pair into that `Many` node:\n",
    "\n",
    "```haskell\n",
    "insert_ hash key value leaf@(Leaf leafHash leafKey leafValue)\n",
    "    | hash /= leafHash = insert_ key value (Many someBitmap (singleton leaf))\n",
    "    where someBitmap = undefined\n",
    "```"
   ]
  },
  {
   "cell_type": "markdown",
   "metadata": {},
   "source": [
    "#### Bit Masking"
   ]
  },
  {
   "cell_type": "markdown",
   "metadata": {},
   "source": [
    "Where does `someBitmap` come from? Time for an example! Let's start with a `Leaf (hash \"1\") \"1\" 1`:"
   ]
  },
  {
   "cell_type": "code",
   "execution_count": 13,
   "metadata": {},
   "outputs": [
    {
     "data": {
      "text/plain": [
       "Leaf 00000101000011000101110100101110 \"1\" 1"
      ]
     },
     "metadata": {},
     "output_type": "display_data"
    }
   ],
   "source": [
    "h = hash \"1\"\n",
    "leaf = Leaf h \"1\" 1\n",
    "\n",
    "leaf"
   ]
  },
  {
   "cell_type": "markdown",
   "metadata": {},
   "source": [
    "`someBitMap` is a 16-bit bitmap where the number of bits set (the `popCount`) is the length of the vector, which in this case is $1$. We want to set one bit, but which bit? We carve off the last $n$ bits using a mask:"
   ]
  },
  {
   "cell_type": "code",
   "execution_count": 14,
   "metadata": {},
   "outputs": [
    {
     "data": {
      "text/plain": [
       "0000000000001111"
      ]
     },
     "metadata": {},
     "output_type": "display_data"
    }
   ],
   "source": [
    "subkeyMask :: Bitmap\n",
    "subkeyMask = (bit bitsPerSubkey) - 1\n",
    "\n",
    "subkeyMask"
   ]
  },
  {
   "cell_type": "code",
   "execution_count": 15,
   "metadata": {},
   "outputs": [
    {
     "data": {
      "text/plain": [
       "0000000000001110"
      ]
     },
     "metadata": {},
     "output_type": "display_data"
    }
   ],
   "source": [
    "--     0101110100101110\n",
    "-- .&. 0000000000001111\n",
    "-----------------------\n",
    "--     0000000000001110\n",
    "\n",
    "fragment = fromIntegral h .&. subkeyMask\n",
    "\n",
    "fragment"
   ]
  },
  {
   "cell_type": "markdown",
   "metadata": {},
   "source": [
    "Then we interpret that fragment as a number:"
   ]
  },
  {
   "cell_type": "code",
   "execution_count": 16,
   "metadata": {},
   "outputs": [
    {
     "data": {
      "text/plain": [
       "14"
      ]
     },
     "metadata": {},
     "output_type": "display_data"
    }
   ],
   "source": [
    "Binary position = fragment\n",
    "\n",
    "position"
   ]
  },
  {
   "cell_type": "markdown",
   "metadata": {},
   "source": [
    "Finally, we set that bit and we have our bitmap:"
   ]
  },
  {
   "cell_type": "code",
   "execution_count": 17,
   "metadata": {},
   "outputs": [
    {
     "data": {
      "text/plain": [
       "0100000000000000"
      ]
     },
     "metadata": {},
     "output_type": "display_data"
    }
   ],
   "source": [
    "someBitmap :: Bitmap\n",
    "someBitmap = Binary $ bit $ fromIntegral position\n",
    "\n",
    "someBitmap"
   ]
  },
  {
   "cell_type": "markdown",
   "metadata": {},
   "source": [
    "We're going to be doing this a lot, so I'll define this as `bitMask_`. The extra `_` is because it isn't quite right for the same reason as `insert_`:"
   ]
  },
  {
   "cell_type": "code",
   "execution_count": 18,
   "metadata": {},
   "outputs": [],
   "source": [
    "bitMask_ :: Hash -> Bitmap\n",
    "bitMask_ hash = let\n",
    "    fragment = fromIntegral hash .&. subkeyMask\n",
    "    Binary position = fragment\n",
    "    in Binary (bit (fromIntegral position))"
   ]
  },
  {
   "cell_type": "markdown",
   "metadata": {},
   "source": [
    "Let's look at the `Many` case. If we try inserting into a node where the bit in the bitmap corresponding to the mask is `0`, this means that there is an empty slot in the vector. We can insert a leaf node into this slot and set the corresponding bit in the bitmap to `1`:\n",
    "\n",
    "```haskell\n",
    "insert_ hash key value (Many bitmap vector)\n",
    "    | bitmap .&. mask == 0 = let\n",
    "        leaf = Leaf (hash key) key value\n",
    "        vector' = insertAt vector index leaf\n",
    "        bitmap' = bitmap .|. mask\n",
    "        in Many bitmap' vector'\n",
    "    where\n",
    "        mask = bitMask_ hash\n",
    "        index = undefined\n",
    "```"
   ]
  },
  {
   "cell_type": "markdown",
   "metadata": {},
   "source": [
    "#### Mask Indexing"
   ]
  },
  {
   "cell_type": "markdown",
   "metadata": {},
   "source": [
    "What `index` do we use? This is where `popCount` makes an appearance. Let's demonstrate by inserting `(\"10\", 2)` into our example. First we get the mask corresponding to `hash \"10\"`:"
   ]
  },
  {
   "cell_type": "code",
   "execution_count": 19,
   "metadata": {},
   "outputs": [
    {
     "data": {
      "text/plain": [
       "0000010000000000"
      ]
     },
     "metadata": {},
     "output_type": "display_data"
    }
   ],
   "source": [
    "mask = bitMask_ (hash \"10\")\n",
    "\n",
    "mask"
   ]
  },
  {
   "cell_type": "markdown",
   "metadata": {},
   "source": [
    "Next we want to find the number of lower bits that have been set. We use `mask - 1` as a mask:"
   ]
  },
  {
   "cell_type": "code",
   "execution_count": 20,
   "metadata": {},
   "outputs": [
    {
     "data": {
      "text/plain": [
       "0000001111111111"
      ]
     },
     "metadata": {},
     "output_type": "display_data"
    }
   ],
   "source": [
    "mask - 1"
   ]
  },
  {
   "cell_type": "code",
   "execution_count": 21,
   "metadata": {},
   "outputs": [
    {
     "data": {
      "text/plain": [
       "0000000000000000"
      ]
     },
     "metadata": {},
     "output_type": "display_data"
    }
   ],
   "source": [
    "--     0100000000000000\n",
    "-- .&. 0000001111111111\n",
    "-----------------------\n",
    "--     0000000000000000\n",
    "\n",
    "masked = someBitmap .&. (mask - 1)\n",
    "\n",
    "masked"
   ]
  },
  {
   "cell_type": "markdown",
   "metadata": {},
   "source": [
    "Then we count the number of bits set with `popCount`:"
   ]
  },
  {
   "cell_type": "code",
   "execution_count": 22,
   "metadata": {},
   "outputs": [
    {
     "data": {
      "text/plain": [
       "0"
      ]
     },
     "metadata": {},
     "output_type": "display_data"
    }
   ],
   "source": [
    "index = popCount masked\n",
    "\n",
    "index"
   ]
  },
  {
   "cell_type": "markdown",
   "metadata": {},
   "source": [
    "And this is the index we need to insert at! We'll call this `maskIndex`:"
   ]
  },
  {
   "cell_type": "code",
   "execution_count": 23,
   "metadata": {},
   "outputs": [],
   "source": [
    "maskIndex :: Bitmap -> Bitmap -> Int\n",
    "maskIndex bitmap mask = popCount (bitmap .&. (mask - 1))"
   ]
  },
  {
   "cell_type": "markdown",
   "metadata": {},
   "source": [
    "The final case is where the bit in the bitmap is already set. We need to recursively update the HAMT at the corresponding index:\n",
    "\n",
    "```haskell\n",
    "insert_ hash key value (Many bitmap vector)\n",
    "    | bitmap .&. mask == 1 = let\n",
    "        subtree' = insert_ hash key value (vector ! index) -- WRONG!\n",
    "        vector' = updateAt vector index subtree'\n",
    "        in Many bitmap vector'\n",
    "    where\n",
    "        mask = bitMask_ hash\n",
    "        index = maskIndex bitmap mask\n",
    "```\n",
    "\n",
    "But this definition is wrong, because instead of carving off the last $n$ bits of `hash`, we want to recursively carve off the next $n$ bits!"
   ]
  },
  {
   "cell_type": "markdown",
   "metadata": {},
   "source": [
    "#### Shifting"
   ]
  },
  {
   "cell_type": "markdown",
   "metadata": {},
   "source": [
    "This is what's missing from our definition, a `shift` parameter corresponding to how far up the `hash` we're looking. This is why we defined `Shift` above. Taking this extra parameter into account, our bit manipulation functions now become:"
   ]
  },
  {
   "cell_type": "code",
   "execution_count": 24,
   "metadata": {},
   "outputs": [],
   "source": [
    "subkeyMask :: Bitmap\n",
    "subkeyMask = (bit bitsPerSubkey) - 1\n",
    "\n",
    "maskIndex :: Bitmap -> Bitmap -> Int\n",
    "maskIndex bitmap mask = popCount (bitmap .&. (mask - 1))\n",
    "\n",
    "subkey :: Hash -> Shift -> Int\n",
    "subkey hash shift = fromIntegral $ (fromIntegral $ shiftR hash shift) .&. subkeyMask\n",
    "\n",
    "bitMask :: Hash -> Shift -> Bitmap\n",
    "bitMask hash shift = bit (subkey hash shift)"
   ]
  },
  {
   "cell_type": "markdown",
   "metadata": {},
   "source": [
    "We plumb through this `shift` parameter, only modifying it in the final case, to give us the correct definitions of `insert'` and `insert`:"
   ]
  },
  {
   "cell_type": "code",
   "execution_count": 25,
   "metadata": {},
   "outputs": [],
   "source": [
    "insert :: Hashable key => key -> value -> HAMT key value -> HAMT key value\n",
    "insert key value hamt = insert' 0 (hash key) key value hamt\n",
    "\n",
    "insert' :: Shift -> Hash -> key -> value -> HAMT key value -> HAMT key value\n",
    "insert' shift hash key value None = Leaf hash key value\n",
    "\n",
    "insert' shift hash key value leaf@(Leaf leafHash leafKey leafValue)\n",
    "    | hash == leafHash = Leaf hash key value\n",
    "    | otherwise = insert' shift hash key value (Many (bitMask leafHash shift) (singleton leaf))\n",
    "\n",
    "insert' shift hash key value (Many bitmap vector)\n",
    "    | bitmap .&. mask == 0 = let\n",
    "        leaf = Leaf hash key value\n",
    "        vector' = insertAt vector index leaf\n",
    "        bitmap' = bitmap .|. mask\n",
    "        in Many bitmap' vector'\n",
    "    | otherwise = let\n",
    "        subtree = vector ! index\n",
    "        subtree' = insert' (shift+bitsPerSubkey) hash key value subtree\n",
    "        vector' = updateAt vector index subtree'\n",
    "        in Many bitmap vector'\n",
    "    where\n",
    "        mask = bitMask hash shift\n",
    "        index = maskIndex bitmap mask"
   ]
  },
  {
   "cell_type": "markdown",
   "metadata": {},
   "source": [
    "Now we can construct HAMTs and inspect them! I'll define a `fromList` function and use `pPrint` from `pretty-show` to highlight the tree structure:"
   ]
  },
  {
   "cell_type": "code",
   "execution_count": 26,
   "metadata": {},
   "outputs": [
    {
     "data": {
      "text/plain": [
       "Many\n",
       "  0100010000000000\n",
       "  [ Many\n",
       "      0000000100100000\n",
       "      [ Leaf 00100000011101101010111101011010 \"10\" 2\n",
       "      , Leaf 10001010111100101011011010001010 \"1000\" 4\n",
       "      ]\n",
       "  , Many\n",
       "      0000001000000100\n",
       "      [ Leaf 00000101000011000101110100101110 \"1\" 1\n",
       "      , Leaf 01110100110101100000101010011110 \"100\" 3\n",
       "      ]\n",
       "  ]"
      ]
     },
     "metadata": {},
     "output_type": "display_data"
    }
   ],
   "source": [
    "fromList :: Hashable key => [(key, value)] -> HAMT key value\n",
    "fromList = foldr (uncurry insert) empty\n",
    "\n",
    "example = fromList [(\"1\", 1), (\"10\", 2), (\"100\", 3), (\"1000\", 4)]\n",
    "\n",
    "pPrint example"
   ]
  },
  {
   "cell_type": "markdown",
   "metadata": {},
   "source": [
    "### Lookup"
   ]
  },
  {
   "cell_type": "markdown",
   "metadata": {},
   "source": [
    "Compared to `insert`, `lookup` is a walk in the park. It's implemented along the same lines as `insert`:\n",
    "\n",
    "- on `None` nodes, it fails\n",
    "- on `Leaf` nodes, it succeeds if the hashes match\n",
    "- on `Many` nodes, it fails if the bit isn't set, and recurses into the child node otherwise"
   ]
  },
  {
   "cell_type": "code",
   "execution_count": 27,
   "metadata": {},
   "outputs": [],
   "source": [
    "lookup :: Hashable key => key -> HAMT key value -> Maybe value\n",
    "lookup key hamt = lookup' 0 (hash key) hamt\n",
    "\n",
    "lookup' :: Shift -> Hash -> HAMT key value -> Maybe value\n",
    "lookup' shift hash None = Nothing\n",
    "\n",
    "lookup' shift hash (Leaf leafHash leafKey leafValue)\n",
    "    | hash == leafHash = Just leafValue\n",
    "    | otherwise = Nothing\n",
    "\n",
    "lookup' shift hash (Many bitmap vector)\n",
    "    | bitmap .&. mask == 0 = Nothing\n",
    "    | otherwise = lookup' (shift+bitsPerSubkey) hash (vector ! index)\n",
    "    where\n",
    "        mask = bitMask hash shift\n",
    "        index = maskIndex bitmap mask"
   ]
  },
  {
   "cell_type": "markdown",
   "metadata": {},
   "source": [
    "Let's quickly confirm that it works."
   ]
  },
  {
   "cell_type": "code",
   "execution_count": 28,
   "metadata": {},
   "outputs": [
    {
     "data": {
      "text/plain": [
       "Just 3"
      ]
     },
     "metadata": {},
     "output_type": "display_data"
    }
   ],
   "source": [
    "lookup \"100\" example"
   ]
  },
  {
   "cell_type": "markdown",
   "metadata": {},
   "source": [
    "#### Memoising Fibonacci"
   ]
  },
  {
   "cell_type": "markdown",
   "metadata": {},
   "source": [
    "We now have enough of an API to use this as a hashtable! Let's use it to memoise the calculation of the Fibonacci sequence. The naive implementation does a lot of unnecessary recomputation:"
   ]
  },
  {
   "cell_type": "code",
   "execution_count": 29,
   "metadata": {},
   "outputs": [
    {
     "data": {
      "text/plain": [
       "1346269\n",
       "CPU time:   1.28s"
      ]
     },
     "metadata": {},
     "output_type": "display_data"
    }
   ],
   "source": [
    "fib :: Int -> Int\n",
    "fib 0 = 1\n",
    "fib 1 = 1\n",
    "fib n = fib (n-1) + fib (n-2)\n",
    "\n",
    "timeIt $ print $ fib 30"
   ]
  },
  {
   "cell_type": "markdown",
   "metadata": {},
   "source": [
    "We can memoise it by storing previously calculated results and using them if they are available:"
   ]
  },
  {
   "cell_type": "code",
   "execution_count": 30,
   "metadata": {},
   "outputs": [
    {
     "data": {
      "text/plain": [
       "1346269\n",
       "CPU time:   0.00s"
      ]
     },
     "metadata": {},
     "output_type": "display_data"
    }
   ],
   "source": [
    "instance Hashable Int where\n",
    "    hash int = Binary (fromIntegral int)\n",
    "\n",
    "fib' :: HAMT Int Int -> Int -> (Int, HAMT Int Int)\n",
    "fib' table 0 = (1, insert 0 1 table)\n",
    "fib' table 1 = (1, insert 1 1 table)\n",
    "fib' table n = case lookup n table of\n",
    "    Just i -> (i, table)\n",
    "    Nothing -> let\n",
    "        (i1, table')  = fib' table  (n-1)\n",
    "        (i2, table'') = fib' table' (n-2)\n",
    "        in (i1 + i2, insert n (i1 + i2) table'')\n",
    "\n",
    "fib :: Int -> Int\n",
    "fib n = fst $ fib' empty n\n",
    "\n",
    "timeIt $ print $ fib 30"
   ]
  },
  {
   "cell_type": "markdown",
   "metadata": {},
   "source": [
    "### Delete"
   ]
  },
  {
   "cell_type": "markdown",
   "metadata": {},
   "source": [
    "Finally we come to `delete`, which is only a little more complex than `lookup`. It needs to make sure that no `Many` node has a child `None` node, so if a `None` node:\n",
    "\n",
    "- is an only child, it will replace the parent node\n",
    "- has any sibling nodes, it will be removed from the parent node's bitmap and vector\n",
    "\n",
    "\n",
    "`Leaf` nodes similarly replace their parents if they are the only child."
   ]
  },
  {
   "cell_type": "code",
   "execution_count": 31,
   "metadata": {},
   "outputs": [],
   "source": [
    "delete :: Hashable key => key -> HAMT key value -> HAMT key value\n",
    "delete key hamt = delete' 0 (hash key) hamt\n",
    "\n",
    "delete' :: Shift -> Hash -> HAMT key value -> HAMT key value\n",
    "delete' shift hash None = None\n",
    "\n",
    "delete' shift hash leaf@(Leaf leafHash leafKey leafValue)\n",
    "    | hash == leafHash = None\n",
    "    | otherwise = leaf\n",
    "\n",
    "delete' shift hash many@(Many bitmap vector)\n",
    "    | bitmap .&. mask == 0 = many\n",
    "    | otherwise = let\n",
    "        subtree = vector ! index\n",
    "        subtree' = delete' (shift+bitsPerSubkey) hash subtree\n",
    "        in case subtree' of\n",
    "            None -> if length vector == 1\n",
    "                then None\n",
    "                else Many (bitmap .&. complement mask) (deleteAt vector index)\n",
    "            Leaf{} -> if length vector == 1\n",
    "                then subtree'\n",
    "                else  Many bitmap (updateAt vector index subtree')\n",
    "            Many{} -> Many bitmap (updateAt vector index subtree')\n",
    "    where\n",
    "        mask = bitMask hash shift\n",
    "        index = maskIndex bitmap mask"
   ]
  },
  {
   "cell_type": "markdown",
   "metadata": {},
   "source": [
    "Let's see this in action."
   ]
  },
  {
   "cell_type": "code",
   "execution_count": 32,
   "metadata": {},
   "outputs": [
    {
     "data": {
      "text/plain": [
       "Many\n",
       "  0100010000000000\n",
       "  [ Many\n",
       "      0000000000100000 [ Leaf 00100000011101101010111101011010 \"10\" 2 ]\n",
       "  , Many\n",
       "      0000001000000100\n",
       "      [ Leaf 00000101000011000101110100101110 \"1\" 1\n",
       "      , Leaf 01110100110101100000101010011110 \"100\" 3\n",
       "      ]\n",
       "  ]"
      ]
     },
     "metadata": {},
     "output_type": "display_data"
    }
   ],
   "source": [
    "pPrint $ delete \"1000\" example"
   ]
  },
  {
   "cell_type": "markdown",
   "metadata": {},
   "source": [
    "It's possible to have a situation where we have a `Many` node with only one child, because our replacement behaviour checks the length of the vector before any elements are removed from it. However, removing the last leaf will correctly delete the parent node."
   ]
  },
  {
   "cell_type": "code",
   "execution_count": 33,
   "metadata": {},
   "outputs": [
    {
     "data": {
      "text/plain": [
       "Many\n",
       "  0100000000000000\n",
       "  [ Many\n",
       "      0000001000000100\n",
       "      [ Leaf 00000101000011000101110100101110 \"1\" 1\n",
       "      , Leaf 01110100110101100000101010011110 \"100\" 3\n",
       "      ]\n",
       "  ]"
      ]
     },
     "metadata": {},
     "output_type": "display_data"
    }
   ],
   "source": [
    "pPrint $ delete \"10\" $ delete \"1000\" example"
   ]
  },
  {
   "cell_type": "markdown",
   "metadata": {},
   "source": [
    "And we're done! I hope you understand HAMTs better than when you started reading this.\n",
    "\n",
    "If you want to use this for something other than educational purposes, I would recommend adding logic to deal with hash collisions, which I intentionally omitted. There's also some low-hanging fruit in terms of performance optimisations. The first thing that comes to mind is an additional `Full` constructor for the case where all bits in the bitmap are set, and the next thing is the use of unsafe vector functions that omit bounds checking.\n",
    "\n",
    "Thanks to [Evan Borden](https://twitter.com/evanborden), [Javier Candeira](https://twitter.com/candeira), [Jean Niklas L'orange](https://hypirion.com/), [Mark Hopkins](http://mjhopkins.github.io/), and [Tim Humphries](https://teh.id.au/) for comments and feedback."
   ]
  }
 ],
 "metadata": {
  "kernelspec": {
   "display_name": "Haskell",
   "language": "haskell",
   "name": "haskell"
  },
  "language_info": {
   "codemirror_mode": "ihaskell",
   "file_extension": ".hs",
   "name": "haskell",
   "pygments_lexer": "Haskell",
   "version": "8.2.2"
  }
 },
 "nbformat": 4,
 "nbformat_minor": 2
}
