{
 "cells": [
  {
   "cell_type": "code",
   "execution_count": 1,
   "metadata": {},
   "outputs": [],
   "source": [
    "import Data.Bits\n",
    "import Data.Vector (Vector)\n",
    "import qualified Data.Vector as V\n",
    "import Data.Word\n",
    "import Prelude hiding (lookup)\n",
    "\n",
    "type Hash = Word64\n",
    "type Bitmap = Word64\n",
    "type Shift = Int\n",
    "\n",
    "class Hashable a where\n",
    "    hash :: a -> Hash\n",
    "\n",
    "data HAMT key value\n",
    "    = None\n",
    "    | Leaf Hash key value\n",
    "    | Many Bitmap (Vector (HAMT key value))\n",
    "    deriving (Show)"
   ]
  },
  {
   "cell_type": "code",
   "execution_count": 2,
   "metadata": {},
   "outputs": [],
   "source": [
    "bitsPerSubkey :: Int\n",
    "bitsPerSubkey = 4\n",
    "\n",
    "subkeyMask :: Bitmap\n",
    "subkeyMask = 1 `shiftL` bitsPerSubkey - 1\n",
    "\n",
    "subkey :: Hash -> Shift -> Int\n",
    "subkey hash shift = fromIntegral $ shiftR hash shift .&. subkeyMask\n",
    "\n",
    "maskIndex :: Bitmap -> Bitmap -> Int\n",
    "maskIndex bitmap mask = popCount (bitmap .&. (mask - 1))\n",
    "\n",
    "bitMask :: Hash -> Shift -> Bitmap\n",
    "bitMask hash shift = 1 `shiftL` (subkey hash shift)"
   ]
  },
  {
   "cell_type": "code",
   "execution_count": 3,
   "metadata": {},
   "outputs": [],
   "source": [
    "insertAt :: Vector a -> Int -> a -> Vector a\n",
    "insertAt vector index a = V.take index vector V.++ V.singleton a V.++ V.drop index vector\n",
    "\n",
    "updateAt :: Vector a -> Int -> a -> Vector a\n",
    "updateAt vector index a = vector V.// [(index, a)]\n",
    "\n",
    "deleteAt :: Vector a -> Int -> Vector a\n",
    "deleteAt vector index = (V.take index vector V.++ V.drop (index+1) vector)"
   ]
  },
  {
   "cell_type": "code",
   "execution_count": 4,
   "metadata": {},
   "outputs": [],
   "source": [
    "lookup :: Hashable key => key -> HAMT key value -> Maybe value\n",
    "lookup key hamt = lookup' 0 (hash key) hamt\n",
    "\n",
    "lookup' :: Shift -> Hash -> HAMT key value -> Maybe value\n",
    "lookup' shift hash hamt = case hamt of\n",
    "    None -> Nothing\n",
    "    Leaf leafHash leafKey leafValue -> if hash == leafHash\n",
    "        then Just leafValue\n",
    "        else Nothing\n",
    "    Many bitmap vector -> let\n",
    "        mask = bitMask hash shift\n",
    "        in if bitmap .&. mask == 0\n",
    "            then Nothing\n",
    "            else lookup' (shift+bitsPerSubkey) hash (vector V.! (maskIndex bitmap mask))"
   ]
  },
  {
   "cell_type": "code",
   "execution_count": 5,
   "metadata": {},
   "outputs": [],
   "source": [
    "insert :: Hashable key => key -> value -> HAMT key value -> HAMT key value\n",
    "insert key value hamt = insert' 0 (hash key) key value hamt\n",
    "\n",
    "insert' :: Shift -> Hash -> key -> value -> HAMT key value -> HAMT key value\n",
    "insert' shift hash key value hamt = case hamt of\n",
    "    None -> Leaf hash key value\n",
    "    Leaf leafHash leafKey leafValue -> if hash == leafHash\n",
    "        then Leaf hash key value\n",
    "        else insert' shift hash key value (Many (bitMask leafHash shift) (V.singleton hamt))\n",
    "    Many bitmap vector -> let\n",
    "        mask = bitMask hash shift\n",
    "        index = maskIndex bitmap mask\n",
    "        in if bitmap .&. mask == 0\n",
    "            then let\n",
    "                leaf = Leaf hash key value\n",
    "                vector' = insertAt vector index leaf\n",
    "                bitmap' = bitmap .|. mask\n",
    "                in Many bitmap' vector'\n",
    "            else let\n",
    "                subtree = vector V.! index\n",
    "                subtree' = insert' (shift+bitsPerSubkey) hash key value subtree\n",
    "                vector' = updateAt vector index subtree'\n",
    "                in Many bitmap vector'"
   ]
  },
  {
   "cell_type": "code",
   "execution_count": 6,
   "metadata": {},
   "outputs": [],
   "source": [
    "delete :: Hashable key => key -> HAMT key value -> HAMT key value\n",
    "delete key hamt = delete' 0 (hash key) hamt\n",
    "\n",
    "delete' :: Shift -> Hash -> HAMT key value -> HAMT key value\n",
    "delete' shift hash hamt = case hamt of\n",
    "    None -> None\n",
    "    Leaf leafHash leafKey leafValue -> if hash == leafHash\n",
    "        then None\n",
    "        else hamt\n",
    "    Many bitmap vector -> let\n",
    "        mask = bitMask hash shift\n",
    "        index = maskIndex bitmap mask\n",
    "        in if bitmap .&. mask == 0\n",
    "            then hamt\n",
    "            else let\n",
    "                subtree = vector V.! index\n",
    "                subtree' = delete' (shift+bitsPerSubkey) hash subtree\n",
    "                in case subtree' of\n",
    "                    None -> if V.length vector == 1\n",
    "                        then None\n",
    "                        else Many (bitmap .&. complement mask) (deleteAt vector index)\n",
    "                    Leaf{} -> if V.length vector == 1\n",
    "                        then subtree'\n",
    "                        else Many bitmap (updateAt vector index subtree')\n",
    "                    _ ->     Many bitmap (updateAt vector index subtree')"
   ]
  },
  {
   "cell_type": "code",
   "execution_count": 9,
   "metadata": {},
   "outputs": [
    {
     "data": {
      "text/plain": [
       "Just 1"
      ]
     },
     "metadata": {},
     "output_type": "display_data"
    },
    {
     "data": {
      "text/plain": [
       "Many 4096 [Leaf 12638153115695167468 \"3\" 3]"
      ]
     },
     "metadata": {},
     "output_type": "display_data"
    }
   ],
   "source": [
    "{-# LANGUAGE OverloadedStrings #-}\n",
    "\n",
    "import Numeric\n",
    "import Data.Char\n",
    "\n",
    "import qualified Data.ByteString as B\n",
    "\n",
    "import Data.ByteArray.Hash\n",
    "\n",
    "instance Hashable B.ByteString where\n",
    "    hash bs = let\n",
    "        FnvHash64 h = fnv1_64Hash bs\n",
    "        in h\n",
    "\n",
    "empty :: HAMT k v\n",
    "empty = None\n",
    "\n",
    "t = insert (\"2\" :: B.ByteString) 2 $ insert (\"1\" :: B.ByteString) 1 empty\n",
    "t' = insert (\"3\" :: B.ByteString) 3 $ delete (\"2\" :: B.ByteString) t\n",
    "lookup (\"1\" :: B.ByteString) t\n",
    "delete (\"1\" :: B.ByteString) t'"
   ]
  },
  {
   "cell_type": "code",
   "execution_count": 8,
   "metadata": {},
   "outputs": [
    {
     "data": {
      "text/plain": [
       "Leaf 1 \"2\" \"bar\""
      ]
     },
     "metadata": {},
     "output_type": "display_data"
    }
   ],
   "source": [
    "bs :: B.ByteString -> B.ByteString\n",
    "bs = id\n",
    "\n",
    "insert' 0 1 (bs \"2\") \"bar\" $ insert' 0 1 (bs \"1\") \"foo\" empty"
   ]
  }
 ],
 "metadata": {
  "kernelspec": {
   "display_name": "Haskell",
   "language": "haskell",
   "name": "haskell"
  },
  "language_info": {
   "codemirror_mode": "ihaskell",
   "file_extension": ".hs",
   "name": "haskell",
   "pygments_lexer": "Haskell",
   "version": "8.2.2"
  }
 },
 "nbformat": 4,
 "nbformat_minor": 2
}
