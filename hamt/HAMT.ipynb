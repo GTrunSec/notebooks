{
 "cells": [
  {
   "cell_type": "code",
   "execution_count": 1,
   "metadata": {},
   "outputs": [],
   "source": [
    "import Data.Bits\n",
    "import Data.Vector (Vector)\n",
    "import qualified Data.Vector as V\n",
    "import Data.Word\n",
    "import Prelude hiding (lookup)\n",
    "\n",
    "type Hash = Word64\n",
    "type Bitmap = Word64\n",
    "type Shift = Int\n",
    "\n",
    "class Hashable a where\n",
    "    hash :: a -> Hash\n",
    "\n",
    "data HAMT key value\n",
    "    = None\n",
    "    | Leaf Hash key value\n",
    "    | Many Bitmap (Vector (HAMT key value))\n",
    "    deriving (Show)"
   ]
  },
  {
   "cell_type": "code",
   "execution_count": 2,
   "metadata": {},
   "outputs": [],
   "source": [
    "bitsPerSubkey :: Int\n",
    "bitsPerSubkey = 4\n",
    "\n",
    "subkeyMask :: Bitmap\n",
    "subkeyMask = 1 `shiftL` bitsPerSubkey - 1\n",
    "\n",
    "subkey :: Hash -> Shift -> Int\n",
    "subkey hash shift = fromIntegral $ shiftR hash shift .&. subkeyMask\n",
    "\n",
    "maskIndex :: Bitmap -> Bitmap -> Int\n",
    "maskIndex bitmap mask = popCount (bitmap .&. (mask - 1))\n",
    "\n",
    "bitMask :: Hash -> Shift -> Bitmap\n",
    "bitMask hash shift = 1 `shiftL` (subkey hash shift)"
   ]
  },
  {
   "cell_type": "code",
   "execution_count": 3,
   "metadata": {},
   "outputs": [],
   "source": [
    "lookup :: (Eq key, Hashable key) => key -> HAMT key value -> Maybe value\n",
    "lookup key hamt = lookup' 0 (hash key) key hamt\n",
    "\n",
    "lookup' :: (Eq key) => Shift -> Hash -> key -> HAMT key value -> Maybe value\n",
    "lookup' shift hash key hamt = case hamt of\n",
    "    None -> Nothing\n",
    "    Leaf leafHash leafKey leafValue -> if hash == leafHash && key == leafKey\n",
    "        then Just leafValue\n",
    "        else Nothing\n",
    "    Many bitmap vector -> let\n",
    "        mask = bitMask hash shift\n",
    "        in if bitmap .&. mask == 0\n",
    "            then Nothing\n",
    "            else lookup' (shift+bitsPerSubkey) hash key (vector V.! (maskIndex bitmap mask))"
   ]
  },
  {
   "cell_type": "code",
   "execution_count": 4,
   "metadata": {},
   "outputs": [],
   "source": [
    "insert :: (Eq key, Hashable key) => key -> value -> HAMT key value -> HAMT key value\n",
    "insert key value hamt = insert' 0 (hash key) key value hamt\n",
    "\n",
    "insert' :: (Eq key) => Shift -> Hash -> key -> value -> HAMT key value -> HAMT key value\n",
    "insert' shift hash key value hamt = case hamt of\n",
    "    None -> Leaf hash key value\n",
    "    Leaf leafHash leafKey leafValue -> if hash == leafHash && key == leafKey\n",
    "        then Leaf hash key value\n",
    "        else insert' shift hash key value (Many (bitMask leafHash shift) (V.singleton hamt))\n",
    "    Many bitmap vector -> let\n",
    "        mask = bitMask hash shift\n",
    "        index = maskIndex bitmap mask\n",
    "        in if bitmap .&. mask == 0\n",
    "            then let\n",
    "                leaf = Leaf hash key value\n",
    "                vector' = V.take index vector V.++ V.singleton leaf V.++ V.drop index vector\n",
    "                bitmap' = bitmap .|. mask\n",
    "                in Many bitmap' vector'\n",
    "            else let\n",
    "                subtree = vector V.! index\n",
    "                subtree' = insert' (shift+bitsPerSubkey) hash key value subtree\n",
    "                vector' = vector V.// [(index, subtree')]\n",
    "                in Many bitmap vector'"
   ]
  },
  {
   "cell_type": "code",
   "execution_count": 5,
   "metadata": {},
   "outputs": [],
   "source": [
    "delete :: (Eq key, Hashable key) => key -> HAMT key value -> HAMT key value\n",
    "delete key hamt = delete' 0 (hash key) key hamt\n",
    "\n",
    "delete' :: (Eq key) => Shift -> Hash -> key -> HAMT key value -> HAMT key value\n",
    "delete' shift hash key hamt = case hamt of\n",
    "    None -> None\n",
    "    Leaf leafHash leafKey leafValue -> if hash == leafHash && key == leafKey\n",
    "        then None\n",
    "        else hamt\n",
    "    Many bitmap vector -> let\n",
    "        mask = bitMask hash shift\n",
    "        index = maskIndex bitmap mask\n",
    "        in if bitmap .&. mask == 0\n",
    "            then hamt\n",
    "            else let\n",
    "                subtree = vector V.! index\n",
    "                subtree' = delete' (shift+bitsPerSubkey) hash key subtree\n",
    "                in case subtree' of\n",
    "                    None -> if V.length vector == 1\n",
    "                        then None\n",
    "                        else Many (bitmap .&. complement mask) (V.take index vector V.++ V.drop (index+1) vector)\n",
    "                    l@Leaf{} -> if V.length vector == 1\n",
    "                        then l\n",
    "                        else Many bitmap (vector V.// [(index, subtree')])\n",
    "                    _ ->     Many bitmap (vector V.// [(index, subtree')])"
   ]
  },
  {
   "cell_type": "code",
   "execution_count": 6,
   "metadata": {},
   "outputs": [
    {
     "data": {
      "text/plain": [
       "Just 1"
      ]
     },
     "metadata": {},
     "output_type": "display_data"
    }
   ],
   "source": [
    "{-# LANGUAGE OverloadedStrings #-}\n",
    "\n",
    "import Numeric\n",
    "import Data.Char\n",
    "\n",
    "import qualified Data.ByteString as B\n",
    "\n",
    "import Data.ByteArray.Hash\n",
    "\n",
    "instance Hashable B.ByteString where\n",
    "    hash bs = let\n",
    "        FnvHash64 h = fnv1_64Hash bs\n",
    "        in h\n",
    "\n",
    "empty :: HAMT k v\n",
    "empty = None\n",
    "\n",
    "t = insert (\"2\" :: B.ByteString) 2 $ insert (\"1\" :: B.ByteString) 1 empty\n",
    "t' = insert (\"3\" :: B.ByteString) 3 $ delete (\"2\" :: B.ByteString) t\n",
    "lookup (\"1\" :: B.ByteString) t"
   ]
  }
 ],
 "metadata": {
  "kernelspec": {
   "display_name": "Haskell",
   "language": "haskell",
   "name": "haskell"
  },
  "language_info": {
   "codemirror_mode": "ihaskell",
   "file_extension": ".hs",
   "name": "haskell",
   "pygments_lexer": "Haskell",
   "version": "8.2.2"
  }
 },
 "nbformat": 4,
 "nbformat_minor": 2
}
