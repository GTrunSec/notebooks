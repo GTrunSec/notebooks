{
 "cells": [
  {
   "cell_type": "code",
   "execution_count": 1,
   "metadata": {},
   "outputs": [],
   "source": [
    "{-# LANGUAGE GeneralizedNewtypeDeriving #-}\n",
    "\n",
    "import Data.Char\n",
    "import Data.Bits\n",
    "import Data.Vector (Vector)\n",
    "import qualified Data.Vector as V\n",
    "import Data.Word\n",
    "import Numeric\n",
    "import Prelude hiding (lookup)\n",
    "\n",
    "type Hash = Binary Word32\n",
    "type Bitmap = Binary Word16\n",
    "type Shift = Int\n",
    "\n",
    "newtype Binary a = Binary a deriving (Enum, Ord, Real, Integral, Eq, Num, Bits, FiniteBits)\n",
    "\n",
    "instance (FiniteBits a, Show a, Integral a) => Show (Binary a) where\n",
    "    show (Binary a) = let\n",
    "        str = showIntAtBase 2 intToDigit a \"\"\n",
    "        size = finiteBitSize $ undefined `asTypeOf` a\n",
    "        in replicate (size - length str) '0' ++ str\n",
    "\n",
    "class Hashable a where\n",
    "    hash :: a -> Hash\n",
    "\n",
    "data HAMT key value\n",
    "    = None\n",
    "    | Leaf Hash key value\n",
    "    | Many Bitmap (Vector (HAMT key value))\n",
    "    deriving (Show)\n",
    "\n",
    "empty :: HAMT k v\n",
    "empty = None"
   ]
  },
  {
   "cell_type": "code",
   "execution_count": 2,
   "metadata": {},
   "outputs": [],
   "source": [
    "bitsPerSubkey :: Int\n",
    "bitsPerSubkey = 4\n",
    "\n",
    "subkeyMask :: Bitmap\n",
    "subkeyMask = 1 `shiftL` bitsPerSubkey - 1\n",
    "\n",
    "subkey :: Hash -> Shift -> Int\n",
    "subkey hash shift = fromIntegral $ (fromIntegral $ shiftR hash shift) .&. subkeyMask\n",
    "\n",
    "maskIndex :: Bitmap -> Bitmap -> Int\n",
    "maskIndex bitmap mask = popCount (bitmap .&. (mask - 1))\n",
    "\n",
    "bitMask :: Hash -> Shift -> Bitmap\n",
    "bitMask hash shift = 1 `shiftL` (subkey hash shift)"
   ]
  },
  {
   "cell_type": "code",
   "execution_count": 3,
   "metadata": {},
   "outputs": [],
   "source": [
    "insertAt :: Vector a -> Int -> a -> Vector a\n",
    "insertAt vector index a = V.take index vector V.++ V.singleton a V.++ V.drop index vector\n",
    "\n",
    "updateAt :: Vector a -> Int -> a -> Vector a\n",
    "updateAt vector index a = vector V.// [(index, a)]\n",
    "\n",
    "deleteAt :: Vector a -> Int -> Vector a\n",
    "deleteAt vector index = (V.take index vector V.++ V.drop (index+1) vector)"
   ]
  },
  {
   "cell_type": "code",
   "execution_count": 4,
   "metadata": {},
   "outputs": [],
   "source": [
    "lookup :: Hashable key => key -> HAMT key value -> Maybe value\n",
    "lookup key hamt = lookup' 0 (hash key) hamt\n",
    "\n",
    "lookup' :: Shift -> Hash -> HAMT key value -> Maybe value\n",
    "lookup' shift hash None = Nothing\n",
    "\n",
    "lookup' shift hash (Leaf leafHash leafKey leafValue)\n",
    "    | hash == leafHash = Just leafValue\n",
    "    | otherwise = Nothing\n",
    "\n",
    "lookup' shift hash (Many bitmap vector)\n",
    "    | bitmap .&. mask == 0 = Nothing\n",
    "    | otherwise = lookup' (shift+bitsPerSubkey) hash (vector V.! index)\n",
    "    where\n",
    "        mask = bitMask hash shift\n",
    "        index = maskIndex bitmap mask"
   ]
  },
  {
   "cell_type": "code",
   "execution_count": 5,
   "metadata": {},
   "outputs": [],
   "source": [
    "insert :: Hashable key => key -> value -> HAMT key value -> HAMT key value\n",
    "insert key value hamt = insert' 0 (hash key) key value hamt\n",
    "\n",
    "insert' :: Shift -> Hash -> key -> value -> HAMT key value -> HAMT key value\n",
    "insert' shift hash key value None = Leaf hash key value\n",
    "\n",
    "insert' shift hash key value leaf@(Leaf leafHash leafKey leafValue)\n",
    "    | hash == leafHash = Leaf hash key value\n",
    "    | otherwise = insert' shift hash key value (Many (bitMask leafHash shift) (V.singleton leaf))\n",
    "\n",
    "insert' shift hash key value (Many bitmap vector)\n",
    "    | bitmap .&. mask == 0 = let\n",
    "        leaf = Leaf hash key value\n",
    "        vector' = insertAt vector index leaf\n",
    "        bitmap' = bitmap .|. mask\n",
    "        in Many bitmap' vector'\n",
    "    | otherwise = let\n",
    "        subtree = vector V.! index\n",
    "        subtree' = insert' (shift+bitsPerSubkey) hash key value subtree\n",
    "        vector' = updateAt vector index subtree'\n",
    "        in Many bitmap vector'\n",
    "    where\n",
    "        mask = bitMask hash shift\n",
    "        index = maskIndex bitmap mask"
   ]
  },
  {
   "cell_type": "code",
   "execution_count": 6,
   "metadata": {},
   "outputs": [],
   "source": [
    "delete :: Hashable key => key -> HAMT key value -> HAMT key value\n",
    "delete key hamt = delete' 0 (hash key) hamt\n",
    "\n",
    "delete' :: Shift -> Hash -> HAMT key value -> HAMT key value\n",
    "delete' shift hash None = None\n",
    "\n",
    "delete' shift hash leaf@(Leaf leafHash leafKey leafValue)\n",
    "    | hash == leafHash = None\n",
    "    | otherwise = leaf\n",
    "\n",
    "delete' shift hash many@(Many bitmap vector)\n",
    "    | bitmap .&. mask == 0 = many\n",
    "    | otherwise = let\n",
    "        subtree = vector V.! index\n",
    "        subtree' = delete' (shift+bitsPerSubkey) hash subtree\n",
    "        in case subtree' of\n",
    "            None -> if V.length vector == 1\n",
    "                then None\n",
    "                else Many (bitmap .&. complement mask) (deleteAt vector index)\n",
    "            Leaf{} -> if V.length vector == 1\n",
    "                then subtree'\n",
    "                else Many bitmap (updateAt vector index subtree')\n",
    "            _ ->     Many bitmap (updateAt vector index subtree')\n",
    "    where\n",
    "        mask = bitMask hash shift\n",
    "        index = maskIndex bitmap mask"
   ]
  },
  {
   "cell_type": "code",
   "execution_count": 7,
   "metadata": {},
   "outputs": [
    {
     "data": {
      "text/plain": [
       "Just 1"
      ]
     },
     "metadata": {},
     "output_type": "display_data"
    },
    {
     "data": {
      "text/plain": [
       "Many 0001000000000000 [Leaf 00000101000011000101110100101100 \"3\" 3]"
      ]
     },
     "metadata": {},
     "output_type": "display_data"
    }
   ],
   "source": [
    "{-# LANGUAGE OverloadedStrings #-}\n",
    "\n",
    "import qualified Data.ByteString as B\n",
    "\n",
    "import Data.ByteArray.Hash\n",
    "\n",
    "bs :: B.ByteString -> B.ByteString\n",
    "bs = id\n",
    "\n",
    "instance Hashable B.ByteString where\n",
    "    hash bs = let\n",
    "        FnvHash32 h = fnv1Hash bs\n",
    "        in Binary h\n",
    "\n",
    "t = insert (bs \"2\") 2 $ insert (bs \"1\") 1 empty\n",
    "t' = insert (bs \"3\") 3 $ delete (bs \"2\") t\n",
    "lookup (bs \"1\") t\n",
    "delete (bs \"1\") t'"
   ]
  },
  {
   "cell_type": "code",
   "execution_count": 8,
   "metadata": {},
   "outputs": [
    {
     "data": {
      "text/plain": [
       "None"
      ]
     },
     "metadata": {},
     "output_type": "display_data"
    }
   ],
   "source": [
    "import Text.Show.Pretty\n",
    "\n",
    "pPrint empty"
   ]
  },
  {
   "cell_type": "code",
   "execution_count": 9,
   "metadata": {},
   "outputs": [
    {
     "data": {
      "text/plain": [
       "Leaf 00000101000011000101110100101100 \"3\" 1\n",
       "Many\n",
       "  0001000000010000\n",
       "  [ Leaf 00011110011101101010110001110100 \"30\" 2\n",
       "  , Leaf 00000101000011000101110100101100 \"3\" 1\n",
       "  ]\n",
       "Many\n",
       "  0001000000010000\n",
       "  [ Leaf 00011110011101101010110001110100 \"30\" 2\n",
       "  , Many\n",
       "      0000010000000100\n",
       "      [ Leaf 00000101000011000101110100101100 \"3\" 1\n",
       "      , Leaf 01101000110100010111101010101100 \"300\" 3\n",
       "      ]\n",
       "  ]\n",
       "Many\n",
       "  0001000000010000\n",
       "  [ Many\n",
       "      1000000010000000\n",
       "      [ Leaf 00011110011101101010110001110100 \"30\" 2\n",
       "      , Leaf 10101101110001000001110011110100 \"3000\" 4\n",
       "      ]\n",
       "  , Many\n",
       "      0000010000000100\n",
       "      [ Leaf 00000101000011000101110100101100 \"3\" 1\n",
       "      , Leaf 01101000110100010111101010101100 \"300\" 3\n",
       "      ]\n",
       "  ]"
      ]
     },
     "metadata": {},
     "output_type": "display_data"
    }
   ],
   "source": [
    "t0 = insert (bs \"3\") 1 empty\n",
    "t1 = insert (bs \"30\") 2 t0\n",
    "t2 = insert (bs \"300\") 3 t1\n",
    "t3 = insert (bs \"3000\") 4 t2\n",
    "\n",
    "mapM_ pPrint [t0, t1, t2, t3]"
   ]
  }
 ],
 "metadata": {
  "kernelspec": {
   "display_name": "Haskell",
   "language": "haskell",
   "name": "haskell"
  },
  "language_info": {
   "codemirror_mode": "ihaskell",
   "file_extension": ".hs",
   "name": "haskell",
   "pygments_lexer": "Haskell",
   "version": "8.2.2"
  }
 },
 "nbformat": 4,
 "nbformat_minor": 2
}
