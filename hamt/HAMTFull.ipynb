{
 "cells": [
  {
   "cell_type": "code",
   "execution_count": 1,
   "metadata": {},
   "outputs": [],
   "source": [
    "{-# LANGUAGE GeneralizedNewtypeDeriving #-}\n",
    "{-# LANGUAGE TypeSynonymInstances #-}\n",
    "{-# LANGUAGE FlexibleInstances #-}\n",
    "\n",
    "import Data.Bits             (Bits (bit, complement, popCount, shiftR, (.&.), (.|.)),\n",
    "                              FiniteBits (finiteBitSize))\n",
    "import Data.ByteArray.Hash   (FnvHash32 (..), fnv1Hash)\n",
    "import Data.ByteString.Char8 (pack)\n",
    "import Data.Char             (intToDigit)\n",
    "import Data.Semigroup        ((<>))\n",
    "import Data.Vector           (Vector, drop, singleton, take, (!), (//))\n",
    "import Data.Word             (Word16, Word32)\n",
    "import Numeric               (showIntAtBase)\n",
    "import Prelude               hiding (drop, lookup, take)\n",
    "import System.TimeIt         (timeIt)\n",
    "import Text.Show.Pretty      (pPrint)"
   ]
  },
  {
   "cell_type": "code",
   "execution_count": 2,
   "metadata": {},
   "outputs": [],
   "source": [
    "newtype Binary a = Binary a deriving (Enum, Ord, Real, Integral, Eq, Num, Bits, FiniteBits)\n",
    "\n",
    "instance (FiniteBits a, Show a, Integral a) => Show (Binary a) where\n",
    "    show (Binary a) = let\n",
    "        str = showIntAtBase 2 intToDigit a \"\"\n",
    "        size = finiteBitSize a\n",
    "        in replicate (size - length str) '0' <> str"
   ]
  },
  {
   "cell_type": "code",
   "execution_count": 3,
   "metadata": {},
   "outputs": [],
   "source": [
    "type Hash = Binary Word32\n",
    "type Bitmap = Binary Word16\n",
    "type Shift = Int\n",
    "\n",
    "class Hashable a where\n",
    "    hash :: a -> Hash"
   ]
  },
  {
   "cell_type": "code",
   "execution_count": 4,
   "metadata": {},
   "outputs": [],
   "source": [
    "instance Hashable String where\n",
    "    hash s = let\n",
    "        FnvHash32 h = fnv1Hash (pack s)\n",
    "        in Binary h"
   ]
  },
  {
   "cell_type": "code",
   "execution_count": 5,
   "metadata": {},
   "outputs": [],
   "source": [
    "data HAMT key value\n",
    "    = None\n",
    "    | Leaf Hash key value\n",
    "    | Many Bitmap (Vector (HAMT key value))\n",
    "    | Full (Vector (HAMT key value))\n",
    "    | Coll Hash (Vector (key, value))\n",
    "    deriving (Show)\n",
    "\n",
    "empty :: HAMT key value\n",
    "empty = None"
   ]
  },
  {
   "cell_type": "code",
   "execution_count": 6,
   "metadata": {},
   "outputs": [],
   "source": [
    "bitsPerSubkey :: Int\n",
    "bitsPerSubkey = 4\n",
    "\n",
    "subkeyMask :: Bitmap\n",
    "subkeyMask = (bit bitsPerSubkey) - 1\n",
    "\n",
    "fullMask :: Bitmap\n",
    "fullMask = (bit (2^bitsPerSubkey)) - 1\n",
    "\n",
    "subkey :: Hash -> Shift -> Int\n",
    "subkey hash shift = fromIntegral $ (fromIntegral $ shiftR hash shift) .&. subkeyMask\n",
    "\n",
    "maskIndex :: Bitmap -> Bitmap -> Int\n",
    "maskIndex bitmap mask = popCount (bitmap .&. (mask - 1))\n",
    "\n",
    "bitMask :: Hash -> Shift -> Bitmap\n",
    "bitMask hash shift = bit (subkey hash shift)"
   ]
  },
  {
   "cell_type": "code",
   "execution_count": 7,
   "metadata": {},
   "outputs": [],
   "source": [
    "insertAt :: Vector a -> Int -> a -> Vector a\n",
    "insertAt vector index a = take index vector <> singleton a <> drop index vector\n",
    "\n",
    "updateAt :: Vector a -> Int -> a -> Vector a\n",
    "updateAt vector index a = vector // [(index, a)]\n",
    "\n",
    "deleteAt :: Vector a -> Int -> Vector a\n",
    "deleteAt vector index = take index vector <> drop (index+1) vector"
   ]
  },
  {
   "cell_type": "code",
   "execution_count": 8,
   "metadata": {},
   "outputs": [],
   "source": [
    "insert :: (Hashable key, Eq key) => key -> value -> HAMT key value -> HAMT key value\n",
    "insert key value hamt = insert' 0 (hash key) key value hamt\n",
    "\n",
    "insert' :: Eq key => Shift -> Hash -> key -> value -> HAMT key value -> HAMT key value\n",
    "insert' shift hash key value None = Leaf hash key value\n",
    "\n",
    "insert' shift hash key value leaf@(Leaf leafHash leafKey leafValue)\n",
    "    | hash == leafHash =\n",
    "        if key == leafKey\n",
    "        then Leaf hash key value\n",
    "        else Coll hash (insertAt (singleton (leafKey, leafValue)) 0 (key, value))\n",
    "    | otherwise = insert' shift hash key value (Many (bitMask leafHash shift) (singleton leaf))\n",
    "\n",
    "insert' shift hash key value (Many bitmap vector)\n",
    "    | bitmap .&. mask == 0 = let\n",
    "        leaf = Leaf hash key value\n",
    "        vector' = insertAt vector index leaf\n",
    "        bitmap' = bitmap .|. mask\n",
    "        in if bitmap' == fullMask\n",
    "          then Full vector'\n",
    "          else Many bitmap' vector'\n",
    "    | otherwise = let\n",
    "        subtree = vector ! index\n",
    "        subtree' = insert' (shift+bitsPerSubkey) hash key value subtree\n",
    "        vector' = updateAt vector index subtree'\n",
    "        in Many bitmap vector'\n",
    "    where\n",
    "        mask = bitMask hash shift\n",
    "        index = maskIndex bitmap mask\n",
    "\n",
    "insert' shift hash key value (Full vector) =\n",
    "    let\n",
    "        subtree = vector ! index\n",
    "        subtree' = insert' (shift+bitsPerSubkey) hash key value subtree\n",
    "        vector' = updateAt vector index subtree'\n",
    "    in Full vector'\n",
    "    where\n",
    "        index = subkey hash shift\n",
    "\n",
    "insert' shift hash key value coll@(Coll collHash vector)\n",
    "    | hash == collHash = Coll collHash (updateOrPrepend 0 (length vector) key value vector)\n",
    "    | otherwise = insert' shift hash key value (Many (bitMask collHash shift) (singleton coll))\n",
    "    where\n",
    "        updateOrPrepend index len key value vector\n",
    "            | index == len = insertAt vector 0 (key, value)\n",
    "            | otherwise = let\n",
    "                (currKey, _) = vector ! index\n",
    "                in if currKey == key\n",
    "                    then updateAt vector index (key, value)\n",
    "                    else updateOrPrepend (index+1) len key value vector"
   ]
  },
  {
   "cell_type": "code",
   "execution_count": 9,
   "metadata": {},
   "outputs": [],
   "source": [
    "fromList :: (Hashable key, Eq key) => [(key, value)] -> HAMT key value\n",
    "fromList = foldr (uncurry insert) empty"
   ]
  },
  {
   "cell_type": "code",
   "execution_count": 10,
   "metadata": {},
   "outputs": [],
   "source": [
    "lookup :: (Hashable key, Eq key) => key -> HAMT key value -> Maybe value\n",
    "lookup key hamt = lookup' 0 (hash key) key hamt\n",
    "\n",
    "lookup' :: Eq key => Shift -> Hash -> key -> HAMT key value -> Maybe value\n",
    "lookup' shift hash key None = Nothing\n",
    "\n",
    "lookup' shift hash key (Leaf leafHash leafKey leafValue)\n",
    "    | hash == leafHash && key == leafKey = Just leafValue\n",
    "    | otherwise = Nothing\n",
    "\n",
    "lookup' shift hash key (Many bitmap vector)\n",
    "    | bitmap .&. mask == 0 = Nothing\n",
    "    | otherwise = lookup' (shift+bitsPerSubkey) hash key (vector ! index)\n",
    "    where\n",
    "        mask = bitMask hash shift\n",
    "        index = maskIndex bitmap mask\n",
    "\n",
    "lookup' shift hash key (Full vector) = lookup' (shift+bitsPerSubkey) hash key (vector ! index)\n",
    "    where\n",
    "        index = subkey hash shift\n",
    "\n",
    "lookup' shift hash key (Coll collHash vector)\n",
    "    | hash == collHash = findMatching 0 (length vector) key vector\n",
    "    | otherwise = Nothing\n",
    "    where\n",
    "        findMatching index len key vector\n",
    "            | index == len = Nothing\n",
    "            | otherwise = let\n",
    "                (currKey, currValue) = vector ! index\n",
    "                in if currKey == key\n",
    "                    then Just currValue\n",
    "                    else findMatching (index+1) len key vector"
   ]
  },
  {
   "cell_type": "code",
   "execution_count": 11,
   "metadata": {},
   "outputs": [],
   "source": [
    "fibSlow :: Int -> Int\n",
    "fibSlow 0 = 1\n",
    "fibSlow 1 = 1\n",
    "fibSlow n = fibSlow (n-1) + fibSlow (n-2)"
   ]
  },
  {
   "cell_type": "code",
   "execution_count": 12,
   "metadata": {},
   "outputs": [],
   "source": [
    "instance Hashable Int where\n",
    "    hash int = Binary (fromIntegral int)\n",
    "\n",
    "fib' :: HAMT Int Integer -> Int -> (Integer, HAMT Int Integer)\n",
    "fib' table 0 = (1, insert 0 1 table)\n",
    "fib' table 1 = (1, insert 1 1 table)\n",
    "fib' table n = case lookup n table of\n",
    "    Just i -> (i, table)\n",
    "    Nothing -> let\n",
    "        (i1, table')  = fib' table  (n-1)\n",
    "        (i2, table'') = fib' table' (n-2)\n",
    "        in (i1 + i2, insert n (i1 + i2) table'')\n",
    "\n",
    "fibFast :: Int -> Integer\n",
    "fibFast n = fst $ fib' empty n"
   ]
  },
  {
   "cell_type": "code",
   "execution_count": 13,
   "metadata": {},
   "outputs": [],
   "source": [
    "delete :: (Hashable key, Eq key) => key -> HAMT key value -> HAMT key value\n",
    "delete key hamt = delete' 0 (hash key) key hamt\n",
    "\n",
    "delete' :: Eq key => Shift -> Hash -> key -> HAMT key value -> HAMT key value\n",
    "delete' shift hash key None = None\n",
    "\n",
    "delete' shift hash key leaf@(Leaf leafHash leafKey leafValue)\n",
    "    | hash == leafHash && key == leafKey = None\n",
    "    | otherwise = leaf\n",
    "\n",
    "delete' shift hash key many@(Many bitmap vector)\n",
    "    | bitmap .&. mask == 0 = many\n",
    "    | otherwise = let\n",
    "        subtree = vector ! index\n",
    "        subtree' = delete' (shift+bitsPerSubkey) hash key subtree\n",
    "        in case subtree' of\n",
    "            None -> if length vector == 1\n",
    "                then None\n",
    "                else Many (bitmap .&. complement mask) (deleteAt vector index)\n",
    "            Leaf{} -> if length vector == 1\n",
    "                then subtree'\n",
    "                else Many bitmap (updateAt vector index subtree')\n",
    "            _ -> Many bitmap (updateAt vector index subtree')\n",
    "    where\n",
    "        mask = bitMask hash shift\n",
    "        index = maskIndex bitmap mask\n",
    "\n",
    "delete' shift hash key (Full vector) =\n",
    "    let\n",
    "        subtree = vector ! index\n",
    "        subtree' = delete' (shift+bitsPerSubkey) hash key subtree\n",
    "    in case subtree' of\n",
    "        None -> Many (fullMask .&. complement mask) (deleteAt vector index)\n",
    "        _ -> Full (updateAt vector index subtree')\n",
    "    where\n",
    "        mask = bitMask hash shift\n",
    "        index = subkey hash shift\n",
    "\n",
    "delete' shift hash key coll@(Coll collHash vector)\n",
    "    | hash == collHash = let\n",
    "        vector' = deleteMatching 0 (length vector) key vector\n",
    "        in if length vector' == 1\n",
    "            then (\\(leafKey, leafValue) -> Leaf collHash leafKey leafValue) $ vector' ! 0\n",
    "            else Coll collHash vector'\n",
    "    | otherwise = coll\n",
    "    where\n",
    "        deleteMatching index len key vector\n",
    "            | index == len = vector\n",
    "            | otherwise = let\n",
    "                (currKey, _) = vector ! index\n",
    "                in if currKey == key\n",
    "                    then deleteAt vector index\n",
    "                    else deleteMatching (index+1) len key vector"
   ]
  },
  {
   "cell_type": "code",
   "execution_count": 14,
   "metadata": {},
   "outputs": [],
   "source": [
    "main :: IO ()\n",
    "main = do\n",
    "    let example = fromList [(\"1\", 1), (\"10\", 2), (\"100\", 3), (\"1000\", 4)]\n",
    "    pPrint example\n",
    "    print $ lookup \"100\" example\n",
    "    timeIt $ print $ fibSlow 30\n",
    "    timeIt $ print $ fibFast 30\n",
    "    pPrint $ delete \"1000\" example\n",
    "    pPrint $ delete \"10\" $ delete \"1000\" example"
   ]
  },
  {
   "cell_type": "code",
   "execution_count": 15,
   "metadata": {},
   "outputs": [],
   "source": [
    "ls = fromList $ map (\\i -> (show i, \"\")) $ [0..9] <> [18,19] <> [22,23] <> [26,27]"
   ]
  },
  {
   "cell_type": "code",
   "execution_count": 16,
   "metadata": {},
   "outputs": [
    {
     "data": {
      "text/plain": [
       "Full\n",
       "  [ Leaf 00011111011101101010110111100000 \"27\" \"\"\n",
       "  , Leaf 00011111011101101010110111100001 \"26\" \"\"\n",
       "  , Leaf 00100000011101101010111101010010 \"18\" \"\"\n",
       "  , Leaf 00100000011101101010111101010011 \"19\" \"\"\n",
       "  , Leaf 00011111011101101010110111100100 \"23\" \"\"\n",
       "  , Leaf 00011111011101101010110111100101 \"22\" \"\"\n",
       "  , Leaf 00000101000011000101110100100110 \"9\" \"\"\n",
       "  , Leaf 00000101000011000101110100100111 \"8\" \"\"\n",
       "  , Leaf 00000101000011000101110100101000 \"7\" \"\"\n",
       "  , Leaf 00000101000011000101110100101001 \"6\" \"\"\n",
       "  , Leaf 00000101000011000101110100101010 \"5\" \"\"\n",
       "  , Leaf 00000101000011000101110100101011 \"4\" \"\"\n",
       "  , Leaf 00000101000011000101110100101100 \"3\" \"\"\n",
       "  , Leaf 00000101000011000101110100101101 \"2\" \"\"\n",
       "  , Leaf 00000101000011000101110100101110 \"1\" \"\"\n",
       "  , Leaf 00000101000011000101110100101111 \"0\" \"\"\n",
       "  ]"
      ]
     },
     "metadata": {},
     "output_type": "display_data"
    }
   ],
   "source": [
    "pPrint ls"
   ]
  },
  {
   "cell_type": "code",
   "execution_count": 17,
   "metadata": {},
   "outputs": [
    {
     "data": {
      "text/plain": [
       "Many\n",
       "  1111011111111111\n",
       "  [ Leaf 00011111011101101010110111100000 \"27\" \"\"\n",
       "  , Leaf 00011111011101101010110111100001 \"26\" \"\"\n",
       "  , Leaf 00100000011101101010111101010010 \"18\" \"\"\n",
       "  , Leaf 00100000011101101010111101010011 \"19\" \"\"\n",
       "  , Leaf 00011111011101101010110111100100 \"23\" \"\"\n",
       "  , Leaf 00011111011101101010110111100101 \"22\" \"\"\n",
       "  , Leaf 00000101000011000101110100100110 \"9\" \"\"\n",
       "  , Leaf 00000101000011000101110100100111 \"8\" \"\"\n",
       "  , Leaf 00000101000011000101110100101000 \"7\" \"\"\n",
       "  , Leaf 00000101000011000101110100101001 \"6\" \"\"\n",
       "  , Leaf 00000101000011000101110100101010 \"5\" \"\"\n",
       "  , Leaf 00000101000011000101110100101100 \"3\" \"\"\n",
       "  , Leaf 00000101000011000101110100101101 \"2\" \"\"\n",
       "  , Leaf 00000101000011000101110100101110 \"1\" \"\"\n",
       "  , Leaf 00000101000011000101110100101111 \"0\" \"\"\n",
       "  ]"
      ]
     },
     "metadata": {},
     "output_type": "display_data"
    }
   ],
   "source": [
    "pPrint $ delete \"4\" ls"
   ]
  },
  {
   "cell_type": "code",
   "execution_count": 18,
   "metadata": {},
   "outputs": [],
   "source": [
    "newtype Colliding = Colliding Int\n",
    "    deriving (Eq, Show)\n",
    "\n",
    "instance Hashable Colliding where\n",
    "    hash value = 0\n",
    "\n",
    "newtype CollidingHalf = CollidingHalf Int\n",
    "    deriving (Eq, Show)\n",
    "\n",
    "instance Hashable CollidingHalf where\n",
    "    hash (CollidingHalf i) = fromIntegral $ i `rem` 2"
   ]
  },
  {
   "cell_type": "code",
   "execution_count": 19,
   "metadata": {},
   "outputs": [
    {
     "data": {
      "text/plain": [
       "Coll\n",
       "  00000000000000000000000000000000\n",
       "  [ ( Colliding 0 , \"\" ) , ( Colliding 1 , \"\" ) ]"
      ]
     },
     "metadata": {},
     "output_type": "display_data"
    },
    {
     "data": {
      "text/plain": [
       "Leaf 00000000000000000000000000000000 (Colliding 1) \"\""
      ]
     },
     "metadata": {},
     "output_type": "display_data"
    }
   ],
   "source": [
    "ls = fromList $ map (\\i -> (Colliding i, \"\")) [0,1]\n",
    "\n",
    "pPrint ls\n",
    "pPrint $ delete (Colliding 0) ls"
   ]
  },
  {
   "cell_type": "code",
   "execution_count": 21,
   "metadata": {},
   "outputs": [
    {
     "data": {
      "text/plain": [
       "Many\n",
       "  0000000000000011\n",
       "  [ Coll\n",
       "      00000000000000000000000000000000\n",
       "      [ ( CollidingHalf 0 , \"\" ) , ( CollidingHalf 2 , \"\" ) ]\n",
       "  , Coll\n",
       "      00000000000000000000000000000001\n",
       "      [ ( CollidingHalf 1 , \"\" ) , ( CollidingHalf 3 , \"\" ) ]\n",
       "  ]"
      ]
     },
     "metadata": {},
     "output_type": "display_data"
    },
    {
     "data": {
      "text/plain": [
       "Many\n",
       "  0000000000000011\n",
       "  [ Leaf 00000000000000000000000000000000 (CollidingHalf 2) \"\"\n",
       "  , Leaf 00000000000000000000000000000001 (CollidingHalf 3) \"\"\n",
       "  ]"
      ]
     },
     "metadata": {},
     "output_type": "display_data"
    }
   ],
   "source": [
    "ls = fromList $ map (\\i -> (CollidingHalf i, \"\")) [0..3]\n",
    "\n",
    "pPrint ls\n",
    "pPrint $ delete (CollidingHalf 1) $ delete (CollidingHalf 0) ls"
   ]
  }
 ],
 "metadata": {
  "kernelspec": {
   "display_name": "Haskell",
   "language": "haskell",
   "name": "haskell"
  },
  "language_info": {
   "codemirror_mode": "ihaskell",
   "file_extension": ".hs",
   "name": "haskell",
   "pygments_lexer": "Haskell",
   "version": "8.6.4"
  }
 },
 "nbformat": 4,
 "nbformat_minor": 2
}
