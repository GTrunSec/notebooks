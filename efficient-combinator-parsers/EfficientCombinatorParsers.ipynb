{
 "cells": [
  {
   "cell_type": "code",
   "execution_count": 1,
   "metadata": {},
   "outputs": [],
   "source": [
    "{-# LANGUAGE InstanceSigs #-}\n",
    "\n",
    "import Control.Applicative (Alternative(..))\n",
    "import Data.Char"
   ]
  },
  {
   "cell_type": "code",
   "execution_count": 2,
   "metadata": {},
   "outputs": [],
   "source": [
    "newtype Parser s r = Parser { unParser :: [s] -> ParseResult s r }\n",
    "type ParseResult s r = [([s], r)]"
   ]
  },
  {
   "cell_type": "code",
   "execution_count": 3,
   "metadata": {},
   "outputs": [],
   "source": [
    "symbol :: Eq s => s -> Parser s s\n",
    "symbol sym = Parser p\n",
    "    where p (s:ss) | s == sym = [(ss, sym)]\n",
    "          p _                 = []\n",
    "\n",
    "satisfy :: (s -> Bool) -> Parser s s\n",
    "satisfy pred = Parser p\n",
    "    where p (s:ss) | pred s = [(ss, s)]\n",
    "          p _               = []"
   ]
  },
  {
   "cell_type": "code",
   "execution_count": 4,
   "metadata": {},
   "outputs": [],
   "source": [
    "instance Functor (Parser s) where\n",
    "    fmap :: (r -> t) -> Parser s r -> Parser s t\n",
    "    fmap f p = pure . f =<< p\n",
    "\n",
    "instance Applicative (Parser s) where\n",
    "    pure :: r -> Parser s r\n",
    "    pure r = Parser $ \\ss -> [(ss,r)]\n",
    "\n",
    "    (<*>) :: Parser s (r -> t) -> Parser s r -> Parser s t\n",
    "    (<*>) (Parser pf) (Parser pa) = Parser $ \\ss ->\n",
    "        [ tuple\n",
    "        | (fs, f) <- pf ss\n",
    "        , (as, a) <- pa fs\n",
    "        , let tuple = (as, f a)\n",
    "        ]\n",
    "\n",
    "instance Alternative (Parser s) where\n",
    "    empty :: Parser s r\n",
    "    empty = Parser $ \\_ -> []\n",
    "\n",
    "    (<|>) :: Parser s r -> Parser s r -> Parser s r\n",
    "    (<|>) (Parser p1) (Parser p2) = Parser $ \\ss -> p1 ss ++ p2 ss\n",
    "\n",
    "instance Monad (Parser s) where\n",
    "    (>>=) :: Parser s r -> (r -> Parser s t) -> Parser s t\n",
    "    (>>=) (Parser p1) f = Parser $ \\ss ->\n",
    "        [ tuple\n",
    "        | (ssRest,result1) <- p1 ss\n",
    "        , tuple            <- (unParser $ f result1) ssRest\n",
    "        ]"
   ]
  },
  {
   "cell_type": "code",
   "execution_count": 5,
   "metadata": {},
   "outputs": [
    {
     "data": {
      "text/plain": [
       "[(\"c\",('a','b'))]"
      ]
     },
     "metadata": {},
     "output_type": "display_data"
    },
    {
     "data": {
      "text/plain": [
       "[(\"b\",('a','c'))]"
      ]
     },
     "metadata": {},
     "output_type": "display_data"
    },
    {
     "data": {
      "text/plain": [
       "[]"
      ]
     },
     "metadata": {},
     "output_type": "display_data"
    }
   ],
   "source": [
    "aANDbORc :: Parser Char (Char, Char)\n",
    "aANDbORc = do\n",
    "    x <- symbol 'a'\n",
    "    (\\y -> (x,y)) <$> (symbol 'b' <|> symbol 'c')\n",
    "\n",
    "unParser aANDbORc \"abc\"\n",
    "unParser aANDbORc \"acb\"\n",
    "unParser aANDbORc \"cba\""
   ]
  },
  {
   "cell_type": "code",
   "execution_count": 6,
   "metadata": {},
   "outputs": [
    {
     "data": {
      "text/plain": [
       "[(\"bc\",'a')]"
      ]
     },
     "metadata": {},
     "output_type": "display_data"
    },
    {
     "data": {
      "text/plain": [
       "[(\"BC\",'A'),(\"BC\",'A')]"
      ]
     },
     "metadata": {},
     "output_type": "display_data"
    },
    {
     "data": {
      "text/plain": [
       "[(\"23\",'1')]"
      ]
     },
     "metadata": {},
     "output_type": "display_data"
    }
   ],
   "source": [
    "alphaORhex :: Parser Char Char\n",
    "alphaORhex = alpha <|> hex\n",
    "\n",
    "alpha :: Parser Char Char\n",
    "alpha = satisfy (\\c -> elem c (['a'..'z']++['A'..'Z']))\n",
    "\n",
    "hex :: Parser Char Char\n",
    "hex = satisfy (\\c -> elem c (['0'..'9']++['A'..'F']))\n",
    "\n",
    "unParser alphaORhex \"abc\"\n",
    "unParser alphaORhex \"ABC\"\n",
    "unParser alphaORhex \"123\""
   ]
  },
  {
   "cell_type": "code",
   "execution_count": 7,
   "metadata": {},
   "outputs": [
    {
     "data": {
      "text/plain": [
       "[(\" world\",\"Hello\"),(\"o world\",\"Hell\"),(\"lo world\",\"Hel\"),(\"llo world\",\"He\"),(\"ello world\",\"H\")]"
      ]
     },
     "metadata": {},
     "output_type": "display_data"
    }
   ],
   "source": [
    "word :: Parser Char String\n",
    "word = some (satisfy isAlpha)\n",
    "\n",
    "sep :: Parser Char String\n",
    "sep = some (satisfy isSpace <|> symbol ',')\n",
    "\n",
    "sentence :: Parser Char [String]\n",
    "sentence = do\n",
    "    w <- word\n",
    "    r <- many (sep >> word)\n",
    "    (\\_ -> (w:r)) <$> symbol '.'\n",
    "\n",
    "unParser word \"Hello world\""
   ]
  },
  {
   "cell_type": "code",
   "execution_count": 8,
   "metadata": {},
   "outputs": [],
   "source": [
    "newtype ParserC s t r = ParserC\n",
    "    { unParserC :: Success s t r -> NextRes s t -> Parser s t }\n",
    "type Success s t r = r -> NextRes s t -> Parser s t\n",
    "type NextRes s t = ParseResult s t"
   ]
  },
  {
   "cell_type": "code",
   "execution_count": 9,
   "metadata": {},
   "outputs": [],
   "source": [
    "symbolC :: Eq s => s -> ParserC s t s\n",
    "symbolC sym = ParserC $ \\sc nc -> Parser $ \\ss -> case ss of\n",
    "    (s:ss) | s == sym -> unParser (sc sym nc) ss\n",
    "    _                 -> nc\n",
    "\n",
    "satisfyC :: (s -> Bool) -> ParserC s t s\n",
    "satisfyC pred = ParserC $ \\sc nc -> Parser $ \\ss -> case ss of\n",
    "    (s:ss) | pred s -> unParser (sc s nc) ss\n",
    "    _               -> nc"
   ]
  },
  {
   "cell_type": "code",
   "execution_count": 10,
   "metadata": {},
   "outputs": [],
   "source": [
    "instance Functor (ParserC s t) where\n",
    "    fmap :: (r -> u) -> ParserC s t r -> ParserC s t u\n",
    "    fmap f p = pure . f =<< p\n",
    "\n",
    "instance Applicative (ParserC s t) where\n",
    "    pure :: r -> ParserC s t r\n",
    "    pure r = ParserC $ \\succ next -> succ r next\n",
    "\n",
    "    (<*>) :: ParserC s t (u -> v) -> ParserC s t u -> ParserC s t v\n",
    "    (<*>) (ParserC pf) (ParserC pa) =\n",
    "        ParserC $ \\sc -> pf $ \\f -> pa $ \\a -> sc (f a)\n",
    "\n",
    "instance Alternative (ParserC s t) where\n",
    "    empty :: ParserC s t r\n",
    "    empty = ParserC $ \\succ next -> Parser $ \\ss -> next\n",
    "\n",
    "    (<|>) :: ParserC s t r -> ParserC s t r -> ParserC s t r\n",
    "    (<|>) (ParserC p1) (ParserC p2) = ParserC $ \\sc nc -> Parser $ \\ss ->\n",
    "        unParser (p1 sc (unParser (p2 sc nc) ss)) ss\n",
    "\n",
    "instance Monad (ParserC s t) where\n",
    "    (>>=) :: ParserC s t u -> (u -> ParserC s t v) -> ParserC s t v\n",
    "    (>>=) (ParserC p1) f = ParserC $ \\sc -> p1 $ \\t -> unParserC (f t) sc"
   ]
  },
  {
   "cell_type": "code",
   "execution_count": 11,
   "metadata": {},
   "outputs": [],
   "source": [
    "begin :: ParserC s t t -> Parser s t\n",
    "begin (ParserC p) = p (\\r nc -> Parser $ \\ss -> ((ss,r):nc)) []"
   ]
  },
  {
   "cell_type": "code",
   "execution_count": 12,
   "metadata": {},
   "outputs": [],
   "source": [
    "infixr 4 <!>\n",
    "(<!>) :: Parser s r -> Parser s r -> Parser s r\n",
    "(<!>) (Parser p1) (Parser p2) = Parser $ \\ss -> case p1 ss of\n",
    "    [] -> p2 ss\n",
    "    r  -> r"
   ]
  },
  {
   "cell_type": "code",
   "execution_count": 13,
   "metadata": {},
   "outputs": [],
   "source": [
    "infixr 4 >!<\n",
    "(>!<) :: ParserC s t r -> ParserC s t r -> ParserC s t r\n",
    "(>!<) (ParserC p1) (ParserC p2) = ParserC $ \\sc nc -> Parser $ \\ss ->\n",
    "    unParser (p1 (\\r _ -> sc r nc) (unParser (p2 sc nc) ss)) ss"
   ]
  },
  {
   "cell_type": "code",
   "execution_count": 14,
   "metadata": {},
   "outputs": [],
   "source": [
    "(>!*<) :: ParserC s t r -> ParserC s t [r]\n",
    "(>!*<) p = (do\n",
    "    r <- p\n",
    "    (\\rs -> (r:rs)) <$> (>!*<) p) >!< pure []\n",
    "\n",
    "(>!+<) :: ParserC s t r -> ParserC s t [r]\n",
    "(>!+<) p = do\n",
    "    r <- p\n",
    "    (\\rs -> (r:rs)) <$> (>!*<) p"
   ]
  },
  {
   "cell_type": "code",
   "execution_count": 15,
   "metadata": {},
   "outputs": [],
   "source": [
    "newtype CParser s t r = CParser\n",
    "    { unCParser :: SucCont s t r -> XorCont s t -> AltCont s t -> Parser s t }\n",
    "type SucCont s t r = r -> XorCont s t -> AltCont s t -> Parser s t\n",
    "type XorCont s t = AltCont s t -> ParseResult s t\n",
    "type AltCont s t = ParseResult s t"
   ]
  },
  {
   "cell_type": "code",
   "execution_count": 16,
   "metadata": {},
   "outputs": [],
   "source": [
    "cSymbol :: Eq s => s -> CParser s t s\n",
    "cSymbol sym = CParser $ \\sc xc ac -> Parser $ \\ss -> case ss of\n",
    "    (s:ss) | s == sym -> unParser (sc sym xc ac) ss\n",
    "    _                 -> xc ac\n",
    "\n",
    "cSatisfy :: (s -> Bool) -> CParser s t s\n",
    "cSatisfy pred = CParser $ \\sc xc ac -> Parser $ \\ss -> case ss of\n",
    "    (s:ss) | pred s -> unParser (sc s xc ac) ss\n",
    "    _               -> xc ac"
   ]
  },
  {
   "cell_type": "code",
   "execution_count": 17,
   "metadata": {},
   "outputs": [],
   "source": [
    "instance Functor (CParser s t) where\n",
    "    fmap :: (u -> v) -> CParser s t u  -> CParser s t v\n",
    "    fmap f p = pure . f =<< p\n",
    "\n",
    "instance Applicative (CParser s t) where\n",
    "    pure :: r -> CParser s t r\n",
    "    pure x = CParser $ \\sc -> sc x\n",
    "\n",
    "    (<*>) :: CParser s t (u -> v) -> CParser s t u -> CParser s t v\n",
    "    (<*>) (CParser pf) (CParser pa) =\n",
    "        CParser $ \\sc -> pf $ \\f -> pa $ \\a -> sc (f a)\n",
    "\n",
    "instance Alternative (CParser s t) where\n",
    "    empty :: CParser s t r\n",
    "    empty = CParser $ \\sc xc ac -> Parser $ \\ss -> xc ac\n",
    "\n",
    "    (<|>) :: CParser s t r -> CParser s t r -> CParser s t r\n",
    "    (<|>) (CParser p1) (CParser p2) = CParser $ \\sc xc ac -> Parser $ \\ss ->\n",
    "        unParser (p1 sc id (unParser (p2 sc xc ac) ss)) ss\n",
    "\n",
    "instance Monad (CParser s t) where\n",
    "    (>>=) :: CParser s t u -> (u -> CParser s t v) -> CParser s t v\n",
    "    (>>=) (CParser p1) f = CParser $ \\sc -> p1 $ \\t -> unCParser (f t) sc"
   ]
  },
  {
   "cell_type": "code",
   "execution_count": 18,
   "metadata": {},
   "outputs": [],
   "source": [
    "infixr 4 <<!>>\n",
    "(<<!>>) :: CParser s t r -> CParser s t r -> CParser s t r\n",
    "(<<!>>) (CParser p1) (CParser p2) = CParser $ \\sc xc ac -> Parser $ \\ss ->\n",
    "    unParser (p1 (\\x xc2 -> sc x xc) (\\ac3 -> unParser (p2 sc xc ac3) ss) ac) ss"
   ]
  },
  {
   "cell_type": "code",
   "execution_count": 19,
   "metadata": {},
   "outputs": [],
   "source": [
    "cBegin :: CParser s t t -> Parser s t\n",
    "cBegin (CParser p) = p (\\x xc ac -> Parser $ \\ss -> ((ss,x):(xc ac))) id []"
   ]
  },
  {
   "cell_type": "code",
   "execution_count": 20,
   "metadata": {},
   "outputs": [],
   "source": [
    "cBegin :: CParser s t t -> Parser s t\n",
    "cBegin (CParser p) = p (\\x xc ac -> Parser $ \\ss -> ((ss,x):(xc ac))) id []"
   ]
  },
  {
   "cell_type": "code",
   "execution_count": 21,
   "metadata": {},
   "outputs": [],
   "source": [
    "infixr 6 !>>=\n",
    "(!>>=) :: CParser s t u -> (u -> CParser s t v) -> CParser s t v\n",
    "(!>>=) (CParser p1) f = CParser $ \\sc -> p1 (\\t ac2 -> unCParser (f t) sc id)"
   ]
  },
  {
   "cell_type": "code",
   "execution_count": 22,
   "metadata": {},
   "outputs": [],
   "source": [
    "(<<!*>>) :: CParser s t r -> CParser s t [r]\n",
    "(<<!*>>) p = (p !>>= \\r -> (\\rs -> (r:rs)) <$> (<<!*>>) p) <<!>> pure []"
   ]
  },
  {
   "cell_type": "code",
   "execution_count": 23,
   "metadata": {},
   "outputs": [],
   "source": [
    "(<<!!*>>) :: CParser s t r -> CParser s t [r]\n",
    "(<<!!*>>) p = cListP p []\n",
    "\n",
    "(<<!!+>>) :: CParser s t r -> CParser s t [r]\n",
    "(<<!!+>>) p = p >>= \\r -> cListP p [r]\n",
    "\n",
    "cListP :: CParser s t r -> [r] -> CParser s t [r]\n",
    "cListP (CParser p) l = clp l\n",
    "    where\n",
    "        clp l = CParser $ \\sc xc ac -> Parser $ \\ss -> unParser\n",
    "            (p\n",
    "                (\\r xc2 -> unCParser (clp (r:l)) sc id)\n",
    "                (\\ac4 -> unParser (sc (reverse l) xc ac4) ss)\n",
    "                ac)\n",
    "            ss"
   ]
  },
  {
   "cell_type": "code",
   "execution_count": 24,
   "metadata": {},
   "outputs": [],
   "source": [
    "manParse :: String -> [(String, [String])]\n",
    "manParse input = word [] [] input\n",
    "    where\n",
    "        word w s (c:r) | isAlpha c = word (c:w) s r\n",
    "        word w s input             = sep [] ((reverse w):s) input\n",
    "\n",
    "        sep l  s (c:r) | isSpace c || c == ',' = sep (c:l) s r\n",
    "        sep [] s input                         = dot s input\n",
    "        sep _  s input                         = word [] s input\n",
    "\n",
    "        dot [] input   = []\n",
    "        dot s  ('.':r) = [(r,reverse s)]\n",
    "        dot _  _       = []"
   ]
  }
 ],
 "metadata": {
  "kernelspec": {
   "display_name": "Haskell",
   "language": "haskell",
   "name": "haskell"
  },
  "language_info": {
   "codemirror_mode": "ihaskell",
   "file_extension": ".hs",
   "name": "haskell",
   "pygments_lexer": "Haskell",
   "version": "8.4.4"
  }
 },
 "nbformat": 4,
 "nbformat_minor": 2
}
