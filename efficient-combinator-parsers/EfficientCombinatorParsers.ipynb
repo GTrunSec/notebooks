{
 "cells": [
  {
   "cell_type": "code",
   "execution_count": 1,
   "metadata": {},
   "outputs": [],
   "source": [
    "newtype Parser s r = Parser { unParser :: ([s] -> ParseResult s r) }\n",
    "\n",
    "newtype ParseResult s r = ParseResult { unParseResult :: [([s], r)] }"
   ]
  },
  {
   "cell_type": "code",
   "execution_count": 2,
   "metadata": {},
   "outputs": [],
   "source": [
    "symbol :: Eq s => s -> Parser s s\n",
    "symbol sym = Parser p\n",
    "    where p (s:ss) | s == sym = ParseResult [(ss, sym)]\n",
    "          p _                 = ParseResult []"
   ]
  },
  {
   "cell_type": "code",
   "execution_count": 3,
   "metadata": {},
   "outputs": [],
   "source": [
    "satisfy :: (s -> Bool) -> Parser s s\n",
    "satisfy pred = Parser p\n",
    "    where p (s:ss) | pred s = ParseResult [(ss, s)]\n",
    "          p _               = ParseResult []"
   ]
  },
  {
   "cell_type": "code",
   "execution_count": 4,
   "metadata": {},
   "outputs": [],
   "source": [
    "{-# LANGUAGE InstanceSigs #-}\n",
    "\n",
    "import Control.Applicative (Alternative(..))\n",
    "import Control.Monad (ap)"
   ]
  },
  {
   "cell_type": "code",
   "execution_count": 5,
   "metadata": {},
   "outputs": [],
   "source": [
    "instance Functor (Parser s) where\n",
    "    fmap :: (r -> t) -> Parser s r -> Parser s t\n",
    "    fmap f p = pure . f =<< p\n",
    "\n",
    "instance Applicative (Parser s) where\n",
    "    pure :: r -> Parser s r\n",
    "    pure r = Parser $ \\ss -> ParseResult [(ss,r)]\n",
    "\n",
    "    (<*>) :: Parser s (r -> t) -> Parser s r -> Parser s t\n",
    "    (<*>) = ap\n",
    "\n",
    "instance Alternative (Parser s) where\n",
    "    empty :: Parser s r\n",
    "    empty = Parser $ \\_ -> ParseResult []\n",
    "\n",
    "    (<|>) :: Parser s r -> Parser s r -> Parser s r\n",
    "    (<|>) (Parser p1) (Parser p2) = Parser $ \\ss ->\n",
    "        ParseResult $ unParseResult (p1 ss) ++ unParseResult (p2 ss)\n",
    "\n",
    "instance Monad (Parser s) where\n",
    "    (>>=) :: Parser s r -> (r -> Parser s t) -> Parser s t\n",
    "    (>>=) (Parser p1) f = Parser $ \\ss -> ParseResult\n",
    "        [ tuple\n",
    "        | (ssRest,result1) <- unParseResult $ p1 ss\n",
    "        , tuple            <- unParseResult $ (unParser $ f result1) ssRest\n",
    "        ]"
   ]
  },
  {
   "cell_type": "code",
   "execution_count": 6,
   "metadata": {},
   "outputs": [
    {
     "data": {
      "text/plain": [
       "[(\"c\",('a','b'))]"
      ]
     },
     "metadata": {},
     "output_type": "display_data"
    },
    {
     "data": {
      "text/plain": [
       "[(\"b\",('a','c'))]"
      ]
     },
     "metadata": {},
     "output_type": "display_data"
    },
    {
     "data": {
      "text/plain": [
       "[]"
      ]
     },
     "metadata": {},
     "output_type": "display_data"
    }
   ],
   "source": [
    "aANDbORc :: Parser Char (Char, Char)\n",
    "aANDbORc = do\n",
    "    x <- symbol 'a'\n",
    "    (\\y -> (x,y)) <$> (symbol 'b' <|> symbol 'c')\n",
    "\n",
    "unParseResult $ unParser aANDbORc \"abc\"\n",
    "unParseResult $ unParser aANDbORc \"acb\"\n",
    "unParseResult $ unParser aANDbORc \"cba\""
   ]
  },
  {
   "cell_type": "code",
   "execution_count": 7,
   "metadata": {},
   "outputs": [
    {
     "data": {
      "text/plain": [
       "[(\"bc\",'a')]"
      ]
     },
     "metadata": {},
     "output_type": "display_data"
    },
    {
     "data": {
      "text/plain": [
       "[(\"BC\",'A'),(\"BC\",'A')]"
      ]
     },
     "metadata": {},
     "output_type": "display_data"
    },
    {
     "data": {
      "text/plain": [
       "[(\"23\",'1')]"
      ]
     },
     "metadata": {},
     "output_type": "display_data"
    }
   ],
   "source": [
    "alphaORhex :: Parser Char Char\n",
    "alphaORhex = alpha <|> hex\n",
    "\n",
    "alpha :: Parser Char Char\n",
    "alpha = satisfy (\\c -> elem c (['a'..'z']++['A'..'Z']))\n",
    "\n",
    "hex :: Parser Char Char\n",
    "hex = satisfy (\\c -> elem c (['0'..'9']++['A'..'F']))\n",
    "\n",
    "unParseResult $ unParser alphaORhex \"abc\"\n",
    "unParseResult $ unParser alphaORhex \"ABC\"\n",
    "unParseResult $ unParser alphaORhex \"123\""
   ]
  },
  {
   "cell_type": "code",
   "execution_count": 8,
   "metadata": {},
   "outputs": [
    {
     "data": {
      "text/plain": [
       "[(\" world\",\"Hello\"),(\"o world\",\"Hell\"),(\"lo world\",\"Hel\"),(\"llo world\",\"He\"),(\"ello world\",\"H\")]"
      ]
     },
     "metadata": {},
     "output_type": "display_data"
    }
   ],
   "source": [
    "import Data.Char\n",
    "\n",
    "word :: Parser Char String\n",
    "word = some (satisfy isAlpha)\n",
    "\n",
    "sep :: Parser Char String\n",
    "sep = some (satisfy isSpace <|> symbol ',')\n",
    "\n",
    "sentence :: Parser Char [String]\n",
    "sentence = do\n",
    "    w <- word\n",
    "    r <- many (sep >>= \\_ -> word)\n",
    "    (\\_ -> (w:r)) <$> symbol '.'\n",
    "\n",
    "unParseResult $ unParser word \"Hello world\""
   ]
  },
  {
   "cell_type": "code",
   "execution_count": 9,
   "metadata": {},
   "outputs": [],
   "source": [
    "newtype ParserC s t r = ParserC\n",
    "    { unParserC :: Success s t r -> NextRes s t -> Parser s t }\n",
    "newtype Success s t r = Success\n",
    "    { unSuccess :: r -> NextRes s t -> Parser s t }\n",
    "type NextRes s t = ParseResult s t"
   ]
  },
  {
   "cell_type": "code",
   "execution_count": 10,
   "metadata": {},
   "outputs": [],
   "source": [
    "instance Functor (ParserC s t) where\n",
    "    fmap :: (r -> u) -> ParserC s t r -> ParserC s t u\n",
    "    fmap f p = pure . f =<< p\n",
    "    \n",
    "instance Applicative (ParserC s t) where\n",
    "    pure :: r -> ParserC s t r\n",
    "    pure r = ParserC $ \\(Success succ) next -> succ r next\n",
    "    \n",
    "    (<*>) :: ParserC s t (u -> v) -> ParserC s t u -> ParserC s t v\n",
    "    (<*>) = ap\n",
    "\n",
    "instance Alternative (ParserC s t) where\n",
    "    empty :: ParserC s t r\n",
    "    empty = ParserC $ \\succ next -> Parser $ \\ss -> next\n",
    "    \n",
    "    (<|>) :: ParserC s t r -> ParserC s t r -> ParserC s t r\n",
    "    (<|>) (ParserC p1) (ParserC p2) =\n",
    "        ParserC $ \\sc nc -> Parser $ \\ss -> \n",
    "            unParser (p1 sc (unParser (p2 sc nc) ss)) ss\n",
    "\n",
    "instance Monad (ParserC s t) where\n",
    "    (>>=) :: ParserC s t u -> (u -> ParserC s t v) -> ParserC s t v\n",
    "    (>>=) (ParserC p1) f =\n",
    "        ParserC $ \\sc -> p1 $ Success $ \\t -> unParserC (f t) sc\n",
    "\n",
    "begin :: ParserC s t t -> Parser s t\n",
    "begin (ParserC p) = p\n",
    "    (Success $ \\r (ParseResult nc) -> Parser $ \\ss -> ParseResult ((ss,r):nc))\n",
    "    (ParseResult [])"
   ]
  },
  {
   "cell_type": "code",
   "execution_count": 11,
   "metadata": {},
   "outputs": [
    {
     "data": {
      "text/plain": [
       "[(\" world\",\"Hello\"),(\"o world\",\"Hell\"),(\"lo world\",\"Hel\"),(\"llo world\",\"He\"),(\"ello world\",\"H\")]"
      ]
     },
     "metadata": {},
     "output_type": "display_data"
    }
   ],
   "source": [
    "symbolC :: Eq s => s -> ParserC s t s\n",
    "symbolC sym = ParserC $ \\(Success sc) nc -> Parser $ \\ss -> case ss of\n",
    "    (s:ss) | s == sym -> unParser (sc sym nc) ss\n",
    "    _                 -> nc\n",
    "\n",
    "satisfyC :: (s -> Bool) -> ParserC s t s\n",
    "satisfyC pred = ParserC $ \\(Success sc) nc -> Parser $ \\ss -> case ss of\n",
    "    (s:ss) | pred s -> unParser (sc s nc) ss\n",
    "    _               -> nc\n",
    "\n",
    "wordC :: ParserC Char t String\n",
    "wordC = some (satisfyC isAlpha)\n",
    "\n",
    "sepC :: ParserC Char t String\n",
    "sepC = some (satisfyC isSpace <|> symbolC ',')\n",
    "\n",
    "sentenceC :: ParserC Char t [String]\n",
    "sentenceC = do\n",
    "    w <- wordC\n",
    "    r <- many (sepC >>= \\_ -> wordC)\n",
    "    (\\_ -> (w:r)) <$> symbolC '.'\n",
    "\n",
    "unParseResult $ unParser (begin wordC) \"Hello world\""
   ]
  },
  {
   "cell_type": "code",
   "execution_count": 23,
   "metadata": {},
   "outputs": [
    {
     "data": {
      "text/plain": [
       "0\n",
       "CPU time:  82.99s"
      ]
     },
     "metadata": {},
     "output_type": "display_data"
    }
   ],
   "source": [
    "import System.TimeIt\n",
    "\n",
    "\n",
    "timeIt $ print . length . (unParseResult . unParser sentence) =<< readFile \"loremipsum.txt\""
   ]
  },
  {
   "cell_type": "code",
   "execution_count": 22,
   "metadata": {},
   "outputs": [
    {
     "data": {
      "text/plain": [
       "0\n",
       "CPU time:   5.80s"
      ]
     },
     "metadata": {},
     "output_type": "display_data"
    }
   ],
   "source": [
    "timeIt $ print . length . (unParseResult . unParser (begin sentenceC)) =<< readFile \"loremipsum.txt\""
   ]
  }
 ],
 "metadata": {
  "kernelspec": {
   "display_name": "Haskell",
   "language": "haskell",
   "name": "haskell"
  },
  "language_info": {
   "codemirror_mode": "ihaskell",
   "file_extension": ".hs",
   "name": "haskell",
   "pygments_lexer": "Haskell",
   "version": "8.4.4"
  }
 },
 "nbformat": 4,
 "nbformat_minor": 2
}
