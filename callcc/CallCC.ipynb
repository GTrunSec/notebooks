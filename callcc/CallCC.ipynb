{
 "cells": [
  {
   "cell_type": "code",
   "execution_count": 17,
   "metadata": {},
   "outputs": [],
   "source": [
    "import Control.Monad.Trans.Class\n",
    "import Control.Monad.Trans.Cont\n",
    "import Data.Function (fix)\n",
    "\n",
    "import Data.IORef\n",
    "\n",
    "setjmp = callCC $ return . fix\n",
    "\n",
    "main = flip runContT return $ do\n",
    "    lift $ putStrLn \"alpha\"\n",
    "    x <- lift $ newIORef 0\n",
    "    jmp <- setjmp\n",
    "    lift $ putStrLn \"beta\"          -- k\n",
    "    lift $ putStrLn \"gamma\"         -- j\n",
    "    value <- lift $ readIORef x\n",
    "    if value < 4\n",
    "        then do\n",
    "            lift $ modifyIORef' x (+1)\n",
    "            jmp\n",
    "        else return value"
   ]
  },
  {
   "cell_type": "code",
   "execution_count": 18,
   "metadata": {},
   "outputs": [
    {
     "data": {
      "text/plain": [
       "alpha\n",
       "beta\n",
       "gamma\n",
       "beta\n",
       "gamma\n",
       "beta\n",
       "gamma\n",
       "beta\n",
       "gamma\n",
       "beta\n",
       "gamma\n",
       "4"
      ]
     },
     "metadata": {},
     "output_type": "display_data"
    }
   ],
   "source": [
    "main"
   ]
  }
 ],
 "metadata": {
  "kernelspec": {
   "display_name": "Haskell",
   "language": "haskell",
   "name": "haskell"
  },
  "language_info": {
   "codemirror_mode": "ihaskell",
   "file_extension": ".hs",
   "name": "haskell",
   "version": "8.0.2"
  }
 },
 "nbformat": 4,
 "nbformat_minor": 2
}
