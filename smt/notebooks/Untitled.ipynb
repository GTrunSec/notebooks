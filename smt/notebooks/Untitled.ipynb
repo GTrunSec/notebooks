{
 "cells": [
  {
   "cell_type": "code",
   "execution_count": 1,
   "metadata": {},
   "outputs": [],
   "source": [
    "import Data.SBV"
   ]
  },
  {
   "cell_type": "code",
   "execution_count": 2,
   "metadata": {},
   "outputs": [],
   "source": [
    "fastMinCorrect :: SInt32 -> SInt32 -> SBool\n",
    "fastMinCorrect x y = m .== fm\n",
    "  where m  = ite (x .< y) x y\n",
    "        fm = y `xor` ((x `xor` y) .&. (-(oneIf (x .< y))))"
   ]
  },
  {
   "cell_type": "markdown",
   "metadata": {},
   "source": [
    "```\n",
    "testWord8s :: Word64 -> Word64\n",
    "testWord8s w =  let w8s = w\n",
    "                    w4s = w8s .|. (w8s .>. 4)\n",
    "                    w2s = w4s .|. (w4s .>. 2)                     \n",
    "                    w1s = w2s .|. (w2s .>. 1)\n",
    "                    in  pext w1s 0x0101010101010101\n",
    "{-# INLINE testWord8s #-}\n",
    "```"
   ]
  },
  {
   "cell_type": "code",
   "execution_count": 3,
   "metadata": {},
   "outputs": [],
   "source": [
    "{-# LANGUAGE BinaryLiterals #-}\n",
    "\n",
    "import GHC.Word\n",
    "import Data.Bits\n",
    "import Data.Char (intToDigit)\n",
    "import Numeric (showIntAtBase)\n",
    "\n",
    "{-# LANGUAGE GeneralizedNewtypeDeriving #-}\n",
    "{-# LANGUAGE FlexibleContexts #-}\n",
    "\n",
    "newtype Binary a = Binary a\n",
    "    deriving (Enum, Ord, Real, Integral, Eq, Num, Bits, FiniteBits)\n",
    "\n",
    "instance (FiniteBits a, Show a, Integral a) => Show (Binary a) where\n",
    "    show (Binary n) = let\n",
    "        str = showIntAtBase 2 intToDigit n \"\"\n",
    "        size = finiteBitSize n\n",
    "        in replicate (size - length str) '0' <> str\n",
    "\n",
    "newlineMask :: SWord64\n",
    "newlineMask = 0x0a0a0a0a0a0a0a0a\n",
    "\n",
    "sTestWord8s :: SWord64 -> SWord64 -- [SBool]\n",
    "sTestWord8s w = let\n",
    "    w8s = w `xor` newlineMask\n",
    "    w4s = w8s .|. (w8s `shiftL` 4)\n",
    "    w2s = w4s .|. (w4s `shiftL` 2)\n",
    "    w1s = w2s .|. (w2s `shiftL` 1)\n",
    "    in w1s -- sExtractBits w1s [0,8,16,24,32,40,48,56]"
   ]
  },
  {
   "cell_type": "code",
   "execution_count": 4,
   "metadata": {},
   "outputs": [
    {
     "data": {
      "text/plain": [
       "17888297719915610111 :: SWord64"
      ]
     },
     "metadata": {},
     "output_type": "display_data"
    }
   ],
   "source": [
    "sTestWord8s 0x220a4a6f686e2c33\n",
    "-- sExtractBits (0b0110101110101001 :: SWord16) (reverse [0,2,4,5,8,9,12,13])"
   ]
  },
  {
   "cell_type": "code",
   "execution_count": 5,
   "metadata": {},
   "outputs": [
    {
     "data": {
      "text/plain": [
       "1111100000111111111111111111111111111111111111111111111111111111"
      ]
     },
     "metadata": {},
     "output_type": "display_data"
    }
   ],
   "source": [
    "Binary 17888297719915610111 :: Binary Word64"
   ]
  }
 ],
 "metadata": {
  "kernelspec": {
   "display_name": "Haskell",
   "language": "haskell",
   "name": "haskell"
  },
  "language_info": {
   "codemirror_mode": "ihaskell",
   "file_extension": ".hs",
   "name": "haskell",
   "pygments_lexer": "Haskell",
   "version": "8.4.4"
  }
 },
 "nbformat": 4,
 "nbformat_minor": 2
}
