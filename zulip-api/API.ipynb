{
 "cells": [
  {
   "cell_type": "code",
   "execution_count": 1,
   "metadata": {},
   "outputs": [],
   "source": [
    "{-# LANGUAGE OverloadedStrings #-}\n",
    "{-# LANGUAGE OverloadedLists #-}"
   ]
  },
  {
   "cell_type": "code",
   "execution_count": 2,
   "metadata": {},
   "outputs": [
    {
     "data": {
      "text/plain": []
     },
     "metadata": {},
     "output_type": "display_data"
    }
   ],
   "source": [
    "import Network.HTTP.Req\n",
    "import qualified Data.ByteString as B\n",
    "import Control.Lens hiding ((.=))\n",
    "import Data.Default.Class\n",
    "import Data.Aeson\n",
    "import Data.Aeson.Lens\n",
    "import Data.Aeson.Text\n",
    "import Data.Monoid ((<>), mconcat)\n",
    "import qualified Data.Text as T\n",
    "import qualified Data.Text.IO as T\n",
    "\n",
    "email <- B.init <$> B.readFile \"./email\"\n",
    "apiKey   <- B.init <$> B.readFile \"./api-key\"\n",
    "\n",
    "emailT <- T.pack . init <$> readFile \"./email\"\n",
    "\n",
    "narrow :: Value\n",
    "narrow = Array\n",
    "    [ object [\"operator\" .= String \"sender\", \"operand\" .= String emailT]\n",
    "    , object [\"operator\" .= String \"stream\", \"operand\" .= String \"music\"]\n",
    "    ]\n",
    "\n",
    "params\n",
    "    =  \"anchor\"     =: (0  :: Int)\n",
    "    <> \"num_before\" =: (0  :: Int)\n",
    "    <> \"num_after\"  =: (40 :: Int)\n",
    "    <> \"narrow\"     =: (encodeToLazyText narrow)\n",
    "\n",
    "r = req GET (https \"recurse.zulipchat.com\" /: \"api\" /: \"v1\" /: \"messages\") NoReqBody jsonResponse ((basicAuth email apiKey) <> params)\n",
    "\n",
    "res <- responseBody <$> runReq def r :: IO Value"
   ]
  },
  {
   "cell_type": "code",
   "execution_count": 3,
   "metadata": {},
   "outputs": [],
   "source": [
    "contents = res ^.. key \"messages\" . values . key \"content\" . _String"
   ]
  },
  {
   "cell_type": "code",
   "execution_count": 4,
   "metadata": {},
   "outputs": [],
   "source": [
    "import Data.Attoparsec.Text\n",
    "import Data.List (nub)\n",
    "\n",
    "parseYouTube = do\n",
    "    pre <- string \"\\\"https://www.youtube.com/watch?v=\"\n",
    "    vid <- manyTill' anyChar (char '\"')\n",
    "    pure $ pre <> T.pack vid <> T.pack ['\"']\n",
    "\n",
    "parseLink = do\n",
    "    manyTill' anyChar (string \"<a href=\")\n",
    "    parseYouTube\n",
    "\n",
    "Right links = concat <$> traverse (parseOnly (nub <$> many' parseLink)) contents"
   ]
  },
  {
   "cell_type": "code",
   "execution_count": 5,
   "metadata": {},
   "outputs": [
    {
     "data": {
      "text/plain": [
       "\"https://www.youtube.com/watch?v=O6ZNcIJmn5I\"\n",
       "\"https://www.youtube.com/watch?v=-gBbqXgTakA\"\n",
       "\"https://www.youtube.com/watch?v=lrSpyokJiZU\"\n",
       "\"https://www.youtube.com/watch?v=zpKciMlWid0\"\n",
       "\"https://www.youtube.com/watch?v=Om_SnnIgvms\"\n",
       "\"https://www.youtube.com/watch?v=wwuoI4Vo6E4\"\n",
       "\"https://www.youtube.com/watch?v=u47LZJIKPkU\"\n",
       "\"https://www.youtube.com/watch?v=JkfvlQ75WUg\"\n",
       "\"https://www.youtube.com/watch?v=Ph5psMQoirU\"\n",
       "\"https://www.youtube.com/watch?v=4KLDlMtxt4A\"\n",
       "\"https://www.youtube.com/watch?v=1iXKuPsfzt8\"\n",
       "\"https://www.youtube.com/watch?v=phPbZ_QsZgk\"\n",
       "\"https://www.youtube.com/watch?v=uAwbKHSRbGA\"\n",
       "\"https://www.youtube.com/watch?v=Djgwyy821SI\"\n",
       "\"https://www.youtube.com/watch?v=LzX3ijcltkA\"\n",
       "\"https://www.youtube.com/watch?v=qqHiQNL1kSk\"\n",
       "\"https://www.youtube.com/watch?v=arEgV6_Oah0\"\n",
       "\"https://www.youtube.com/watch?v=JI6MLcJb_m4\"\n",
       "\"https://www.youtube.com/watch?v=QFpTEcHy0Yc\"\n",
       "\"https://www.youtube.com/watch?v=mi9tWkLDd2c\"\n",
       "\"https://www.youtube.com/watch?v=YYVcRtPDoCs\"\n",
       "\"https://www.youtube.com/watch?v=WnBo5d8uW4k\"\n",
       "\"https://www.youtube.com/watch?v=IwQ9Khg7NB8\"\n",
       "\"https://www.youtube.com/watch?v=jcPVv8X5Cjw\"\n",
       "\"https://www.youtube.com/watch?v=GZwSzWMxmiE\"\n",
       "\"https://www.youtube.com/watch?v=3daKdkklzOA\""
      ]
     },
     "metadata": {},
     "output_type": "display_data"
    }
   ],
   "source": [
    "mapM_ T.putStrLn links"
   ]
  }
 ],
 "metadata": {
  "kernelspec": {
   "display_name": "Haskell",
   "language": "haskell",
   "name": "haskell"
  },
  "language_info": {
   "codemirror_mode": "ihaskell",
   "file_extension": ".hs",
   "name": "haskell",
   "pygments_lexer": "Haskell",
   "version": "8.2.2"
  }
 },
 "nbformat": 4,
 "nbformat_minor": 2
}
