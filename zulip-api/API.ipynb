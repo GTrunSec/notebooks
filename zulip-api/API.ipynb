{
 "cells": [
  {
   "cell_type": "code",
   "execution_count": 1,
   "metadata": {},
   "outputs": [],
   "source": [
    "{-# LANGUAGE OverloadedStrings #-}"
   ]
  },
  {
   "cell_type": "code",
   "execution_count": 2,
   "metadata": {},
   "outputs": [],
   "source": [
    "import Network.HTTP.Req\n",
    "import qualified Data.ByteString as B\n",
    "import Data.Default.Class\n",
    "import Control.Monad.IO.Class\n",
    "import Data.Aeson\n",
    "import Data.Monoid ((<>))\n",
    "import qualified Data.Vector as V\n",
    "import qualified Data.HashMap.Strict as H\n",
    "import qualified Data.Text as T\n",
    "\n",
    "email <- B.init <$> B.readFile \"./email\"\n",
    "key   <- B.init <$> B.readFile \"./api-key\"\n",
    "\n",
    "emailT <- T.pack . init <$> readFile \"./email\"\n",
    "\n",
    "narrow :: Value\n",
    "narrow = Array $ V.fromList\n",
    "    [ Object $ H.fromList [(\"operator\", \"sender\"), (\"operand\", String emailT)]\n",
    "    , Object $ H.fromList [(\"operator\", \"stream\"), (\"operand\", \"music\")]\n",
    "    ]\n",
    "\n",
    "params\n",
    "    =  \"anchor\"     =: (0  :: Int)\n",
    "    <> \"num_before\" =: (0  :: Int)\n",
    "    <> \"num_after\"  =: (1  :: Int)\n",
    "--    <> \"narrow\"     =: (narrow :: Value)\n",
    "\n",
    "param = \"stream\" =: \"music\"\n",
    "\n",
    "\n",
    "r = req GET (https \"recurse.zulipchat.com\" /: \"api\" /: \"v1\" /: \"messages\") NoReqBody jsonResponse ((basicAuth email key) <> params)\n",
    "\n",
    "r' = req GET\n",
    "    (https \"recurse.zulipchat.com\" /: \"api\" /: \"v1\" /: \"get_stream_id\")\n",
    "    NoReqBody jsonResponse\n",
    "    ((basicAuth email key) <> param)\n",
    "\n",
    "-- res <- responseBody <$> runReq def r :: IO Value\n",
    "-- res"
   ]
  }
 ],
 "metadata": {
  "kernelspec": {
   "display_name": "Haskell",
   "language": "haskell",
   "name": "haskell"
  },
  "language_info": {
   "codemirror_mode": "ihaskell",
   "file_extension": ".hs",
   "name": "haskell",
   "version": "8.2.2"
  }
 },
 "nbformat": 4,
 "nbformat_minor": 2
}
