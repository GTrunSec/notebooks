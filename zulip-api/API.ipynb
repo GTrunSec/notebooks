{
 "cells": [
  {
   "cell_type": "code",
   "execution_count": 1,
   "metadata": {},
   "outputs": [],
   "source": [
    "{-# LANGUAGE OverloadedStrings #-}\n",
    "{-# LANGUAGE OverloadedLists #-}"
   ]
  },
  {
   "cell_type": "code",
   "execution_count": 2,
   "metadata": {},
   "outputs": [
    {
     "data": {
      "text/plain": []
     },
     "metadata": {},
     "output_type": "display_data"
    }
   ],
   "source": [
    "import Network.HTTP.Req\n",
    "import qualified Data.ByteString as B\n",
    "import Control.Lens hiding ((.=))\n",
    "import Data.Default.Class\n",
    "import Data.Aeson\n",
    "import Data.Aeson.Lens\n",
    "import Data.Aeson.Text\n",
    "import Data.Attoparsec.Text\n",
    "import Data.Monoid ((<>), mconcat)\n",
    "import qualified Data.Text as T\n",
    "import qualified Data.Text.IO as T\n",
    "import Data.List (nub)\n",
    "\n",
    "email <- B.init <$> B.readFile \"./email\"\n",
    "apiKey <- B.init <$> B.readFile \"./api-key\"\n",
    "\n",
    "emailT <- T.pack . init <$> readFile \"./email\"\n",
    "\n",
    "narrow :: Value\n",
    "narrow = Array\n",
    "    [ object [\"operator\" .= String \"sender\", \"operand\" .= String emailT]\n",
    "    , object [\"operator\" .= String \"stream\", \"operand\" .= String \"music\"]\n",
    "    ]\n",
    "\n",
    "params an\n",
    "    =  \"anchor\"     =: an\n",
    "    <> \"num_before\" =: 0\n",
    "    <> \"num_after\"  =: 40\n",
    "    <> \"narrow\"     =: encodeToLazyText narrow\n",
    "\n",
    "r an = req GET (https \"recurse.zulipchat.com\" /: \"api\" /: \"v1\" /: \"messages\") NoReqBody jsonResponse ((basicAuth email apiKey) <> params an)\n",
    "\n",
    "res <- responseBody <$> runReq def (r 0) :: IO Value"
   ]
  },
  {
   "cell_type": "code",
   "execution_count": 3,
   "metadata": {},
   "outputs": [],
   "source": [
    "contents = res ^.. key \"messages\" . values . key \"content\" . _String"
   ]
  },
  {
   "cell_type": "code",
   "execution_count": 4,
   "metadata": {},
   "outputs": [],
   "source": [
    "parseYouTube = do\n",
    "    pre <- string \"\\\"https://www.youtube.com/watch?v=\"\n",
    "    vid <- manyTill' anyChar (char '\"')\n",
    "    pure $ pre <> T.pack vid <> T.pack ['\"']\n",
    "\n",
    "parseLink = do\n",
    "    manyTill' anyChar (string \"<a href=\")\n",
    "    parseYouTube\n",
    "\n",
    "Right links = concat <$> traverse (parseOnly (nub <$> many' parseLink)) contents"
   ]
  },
  {
   "cell_type": "code",
   "execution_count": 5,
   "metadata": {},
   "outputs": [
    {
     "data": {
      "text/plain": [
       "\"https://www.youtube.com/watch?v=O6ZNcIJmn5I\"\n",
       "\"https://www.youtube.com/watch?v=-gBbqXgTakA\"\n",
       "\"https://www.youtube.com/watch?v=lrSpyokJiZU\"\n",
       "\"https://www.youtube.com/watch?v=zpKciMlWid0\"\n",
       "\"https://www.youtube.com/watch?v=Om_SnnIgvms\"\n",
       "\"https://www.youtube.com/watch?v=wwuoI4Vo6E4\"\n",
       "\"https://www.youtube.com/watch?v=u47LZJIKPkU\"\n",
       "\"https://www.youtube.com/watch?v=JkfvlQ75WUg\"\n",
       "\"https://www.youtube.com/watch?v=Ph5psMQoirU\"\n",
       "\"https://www.youtube.com/watch?v=4KLDlMtxt4A\"\n",
       "\"https://www.youtube.com/watch?v=1iXKuPsfzt8\"\n",
       "\"https://www.youtube.com/watch?v=phPbZ_QsZgk\"\n",
       "\"https://www.youtube.com/watch?v=uAwbKHSRbGA\"\n",
       "\"https://www.youtube.com/watch?v=Djgwyy821SI\"\n",
       "\"https://www.youtube.com/watch?v=LzX3ijcltkA\"\n",
       "\"https://www.youtube.com/watch?v=qqHiQNL1kSk\"\n",
       "\"https://www.youtube.com/watch?v=arEgV6_Oah0\"\n",
       "\"https://www.youtube.com/watch?v=JI6MLcJb_m4\"\n",
       "\"https://www.youtube.com/watch?v=QFpTEcHy0Yc\"\n",
       "\"https://www.youtube.com/watch?v=mi9tWkLDd2c\"\n",
       "\"https://www.youtube.com/watch?v=YYVcRtPDoCs\"\n",
       "\"https://www.youtube.com/watch?v=WnBo5d8uW4k\"\n",
       "\"https://www.youtube.com/watch?v=IwQ9Khg7NB8\"\n",
       "\"https://www.youtube.com/watch?v=jcPVv8X5Cjw\"\n",
       "\"https://www.youtube.com/watch?v=GZwSzWMxmiE\"\n",
       "\"https://www.youtube.com/watch?v=3daKdkklzOA\""
      ]
     },
     "metadata": {},
     "output_type": "display_data"
    }
   ],
   "source": [
    "mapM_ T.putStrLn links"
   ]
  },
  {
   "cell_type": "code",
   "execution_count": 6,
   "metadata": {},
   "outputs": [],
   "source": [
    "latest = last $ res ^.. key \"messages\" . values . key \"id\" . _Integer"
   ]
  },
  {
   "cell_type": "code",
   "execution_count": 7,
   "metadata": {},
   "outputs": [
    {
     "data": {
      "text/plain": []
     },
     "metadata": {},
     "output_type": "display_data"
    }
   ],
   "source": [
    "res' <- responseBody <$> runReq def (r (fromIntegral latest + 1)) :: IO Value"
   ]
  },
  {
   "cell_type": "code",
   "execution_count": 8,
   "metadata": {},
   "outputs": [
    {
     "data": {
      "text/plain": [
       "\"https://www.youtube.com/watch?v=xGBp7pPoyz0\"\n",
       "\"https://www.youtube.com/watch?v=lxLrTbQ2MSo\"\n",
       "\"https://www.youtube.com/watch?v=W6FSAP5Gcvs\"\n",
       "\"https://www.youtube.com/watch?v=_AS1qChobBA\"\n",
       "\"https://www.youtube.com/watch?v=8tebXGHIeCo\"\n",
       "\"https://www.youtube.com/watch?v=ya9v7jIQQ_U\"\n",
       "\"https://www.youtube.com/watch?v=HnFJKYOgSgY\"\n",
       "\"https://www.youtube.com/watch?v=Q1Wo1MW8IT8\"\n",
       "\"https://www.youtube.com/watch?v=KjBvrubO9nI\"\n",
       "\"https://www.youtube.com/watch?v=iHpHgR7pX_Y\"\n",
       "\"https://www.youtube.com/watch?v=qJdMjRHRLfg\"\n",
       "\"https://www.youtube.com/watch?v=unBfb2syL18\"\n",
       "\"https://www.youtube.com/watch?v=Yuz_8Vxlyjw\"\n",
       "\"https://www.youtube.com/watch?v=n3HIS4gZsKc\"\n",
       "\"https://www.youtube.com/watch?v=1fHMiE2SpZ8\"\n",
       "\"https://www.youtube.com/watch?v=ex9iMQynXaU\"\n",
       "\"https://www.youtube.com/watch?v=Gs069dndIYk\"\n",
       "\"https://www.youtube.com/watch?v=lUTesjKAdmc\"\n",
       "\"https://www.youtube.com/watch?v=mdnmCBGj7qo&amp;feature=youtu.be\"\n",
       "\"https://www.youtube.com/watch?v=B2Y7ESqe6lM\"\n",
       "\"https://www.youtube.com/watch?v=BhUrFhI6yYw\""
      ]
     },
     "metadata": {},
     "output_type": "display_data"
    }
   ],
   "source": [
    "contents' = res' ^.. key \"messages\" . values . key \"content\" . _String\n",
    "Right links' = concat <$> traverse (parseOnly ( nub <$> many' parseLink)) contents'\n",
    "mapM_ T.putStrLn links'"
   ]
  }
 ],
 "metadata": {
  "kernelspec": {
   "display_name": "Haskell",
   "language": "haskell",
   "name": "haskell"
  },
  "language_info": {
   "codemirror_mode": "ihaskell",
   "file_extension": ".hs",
   "name": "haskell",
   "pygments_lexer": "Haskell",
   "version": "8.2.2"
  }
 },
 "nbformat": 4,
 "nbformat_minor": 2
}
