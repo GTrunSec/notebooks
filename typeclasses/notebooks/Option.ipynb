{
 "cells": [
  {
   "cell_type": "code",
   "execution_count": 16,
   "metadata": {
    "collapsed": true
   },
   "outputs": [],
   "source": [
    "{-# LANGUAGE InstanceSigs #-}\n",
    "\n",
    "data Option a = Some a | None"
   ]
  },
  {
   "cell_type": "code",
   "execution_count": 17,
   "metadata": {},
   "outputs": [],
   "source": [
    "instance Functor Option where\n",
    "    fmap :: (a -> b) -> Option a -> Option b\n",
    "    fmap f option = case option of\n",
    "        Some a -> Some (f a)\n",
    "        None   -> None"
   ]
  },
  {
   "cell_type": "code",
   "execution_count": 19,
   "metadata": {},
   "outputs": [],
   "source": [
    "instance Applicative Option where\n",
    "    pure :: a -> Option a\n",
    "    pure    = Some\n",
    "    \n",
    "    (<*>) :: Option (a -> b) -> Option a -> Option b\n",
    "    f <*> a = case f of\n",
    "        Some f' -> f' <$> a\n",
    "        None    -> None"
   ]
  },
  {
   "cell_type": "code",
   "execution_count": 20,
   "metadata": {},
   "outputs": [],
   "source": [
    "instance Monad Option where\n",
    "    (>>=) :: Option a -> (a -> Option b) -> Option b\n",
    "    a >>= f = case a of\n",
    "        Some a' -> f a'\n",
    "        None    -> None"
   ]
  }
 ],
 "metadata": {
  "kernelspec": {
   "display_name": "Haskell",
   "language": "haskell",
   "name": "haskell"
  },
  "language_info": {
   "codemirror_mode": "ihaskell",
   "file_extension": ".hs",
   "name": "haskell",
   "version": "8.2.2"
  }
 },
 "nbformat": 4,
 "nbformat_minor": 2
}
