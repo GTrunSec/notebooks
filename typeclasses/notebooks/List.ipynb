{
 "cells": [
  {
   "cell_type": "code",
   "execution_count": 2,
   "metadata": {
    "collapsed": true
   },
   "outputs": [],
   "source": [
    "{-# LANGUAGE InstanceSigs #-}\n",
    "{-# LANGUAGE TypeFamilies #-}\n",
    "\n",
    "import Control.Applicative\n",
    "import GHC.Exts (IsList(..))\n",
    "\n",
    "data List a = Nil | Cons a (List a) deriving (Eq, Show)\n",
    "\n",
    "instance IsList (List a) where\n",
    "    type Item (List a) = a\n",
    "    fromList = foldr Cons Nil\n",
    "    toList   = foldr (:) []"
   ]
  },
  {
   "cell_type": "code",
   "execution_count": 41,
   "metadata": {},
   "outputs": [],
   "source": [
    "instance Functor List where\n",
    "    fmap :: (a -> b) -> List a -> List b\n",
    "    fmap f list = case list of\n",
    "        Nil      -> Nil\n",
    "        Cons h t -> Cons (f h) (fmap f t)\n",
    "\n",
    "instance Foldable List where\n",
    "    foldr :: (a -> b -> b) -> b -> List a -> b\n",
    "    foldr f z ls = case ls of\n",
    "        Nil -> z\n",
    "        Cons h t -> f h (foldr f z t)"
   ]
  },
  {
   "cell_type": "code",
   "execution_count": 17,
   "metadata": {},
   "outputs": [],
   "source": [
    "append :: List a -> List a -> List a\n",
    "append a b = case a of\n",
    "    Nil -> b\n",
    "    Cons h t -> Cons h (append t b)\n",
    "\n",
    "catenate :: List (List a) -> List a\n",
    "catenate lists = case lists of\n",
    "    Nil -> Nil\n",
    "    Cons h t -> append h (catenate t)\n",
    "    \n",
    "\n",
    "instance Applicative List where\n",
    "    pure :: a -> List a\n",
    "    pure a = Cons a Nil\n",
    "    \n",
    "    (<*>) :: List (a -> b) -> List a -> List b\n",
    "    fs <*> as = case fs of\n",
    "        Nil        -> Nil\n",
    "        Cons f fs' -> append (f <$> as) (fs' <*> as)"
   ]
  },
  {
   "cell_type": "code",
   "execution_count": 25,
   "metadata": {},
   "outputs": [],
   "source": [
    "instance Alternative List where\n",
    "    empty :: List a\n",
    "    empty = Nil\n",
    "    \n",
    "    (<|>) :: List a -> List a -> List a\n",
    "    (<|>) = append"
   ]
  },
  {
   "cell_type": "code",
   "execution_count": 31,
   "metadata": {},
   "outputs": [],
   "source": [
    "instance Monad List where\n",
    "    (>>=) :: List a -> (a -> List b) -> List b\n",
    "    as >>= f = catenate (f <$> as)"
   ]
  },
  {
   "cell_type": "code",
   "execution_count": 56,
   "metadata": {},
   "outputs": [
    {
     "data": {
      "text/plain": [
       "Cons 1 (Cons 2 (Cons 3 (Cons 4 (Cons 5 Nil))))"
      ]
     },
     "metadata": {},
     "output_type": "display_data"
    }
   ],
   "source": [
    "import Control.Monad (guard)\n",
    "\n",
    "evenHalves ls = do\n",
    "    a <- ls\n",
    "    guard (a `mod` 2 == 0)\n",
    "    let b = a `div` 2\n",
    "    return b\n",
    "\n",
    "evenHalves (fromList [1..10]) :: List Int"
   ]
  }
 ],
 "metadata": {
  "kernelspec": {
   "display_name": "Haskell",
   "language": "haskell",
   "name": "haskell"
  },
  "language_info": {
   "codemirror_mode": "ihaskell",
   "file_extension": ".hs",
   "name": "haskell",
   "version": "8.2.2"
  }
 },
 "nbformat": 4,
 "nbformat_minor": 2
}
