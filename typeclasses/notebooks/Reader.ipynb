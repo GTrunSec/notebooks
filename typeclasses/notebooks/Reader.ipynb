{
 "cells": [
  {
   "cell_type": "code",
   "execution_count": 21,
   "metadata": {
    "collapsed": true
   },
   "outputs": [],
   "source": [
    "{-# LANGUAGE InstanceSigs #-}\n",
    "newtype Reader e a = Reader { runReader :: e -> a }"
   ]
  },
  {
   "cell_type": "code",
   "execution_count": 24,
   "metadata": {},
   "outputs": [],
   "source": [
    "instance Functor (Reader e) where\n",
    "    fmap :: (a -> b) -> Reader e a -> Reader e b\n",
    "    fmap f reader = Reader $ f . runReader reader"
   ]
  },
  {
   "cell_type": "code",
   "execution_count": 26,
   "metadata": {},
   "outputs": [],
   "source": [
    "instance Applicative (Reader e) where\n",
    "    pure :: a -> Reader e a\n",
    "    pure a = Reader $ const a\n",
    "    (<*>) :: Reader e (a -> b) -> Reader e a -> Reader e b\n",
    "    f <*> a = Reader $ \\e -> let\n",
    "        f' = runReader f e\n",
    "        a' = runReader a e\n",
    "        in f' a'"
   ]
  },
  {
   "cell_type": "code",
   "execution_count": 27,
   "metadata": {},
   "outputs": [],
   "source": [
    "instance Monad (Reader e) where\n",
    "    (>>=) :: Reader e a -> (a -> Reader e b) -> Reader e b\n",
    "    a >>= f = Reader $ \\e -> let\n",
    "        a' = runReader a e\n",
    "        b  = f a'\n",
    "        in runReader b e"
   ]
  }
 ],
 "metadata": {
  "kernelspec": {
   "display_name": "Haskell",
   "language": "haskell",
   "name": "haskell"
  },
  "language_info": {
   "codemirror_mode": "ihaskell",
   "file_extension": ".hs",
   "name": "haskell",
   "version": "8.0.2"
  }
 },
 "nbformat": 4,
 "nbformat_minor": 2
}
