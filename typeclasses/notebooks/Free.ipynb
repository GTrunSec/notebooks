{
 "cells": [
  {
   "cell_type": "code",
   "execution_count": 11,
   "metadata": {
    "collapsed": true
   },
   "outputs": [],
   "source": [
    "{-# LANGUAGE InstanceSigs #-}\n",
    "\n",
    "data Free f a = Pure a | Wrap (f (Free f a))"
   ]
  },
  {
   "cell_type": "code",
   "execution_count": 12,
   "metadata": {},
   "outputs": [],
   "source": [
    "instance Functor f => Functor (Free f) where\n",
    "    fmap f free = case free of\n",
    "        Pure a  -> Pure (f a)\n",
    "        Wrap fa -> Wrap $ fmap (fmap f) fa"
   ]
  },
  {
   "cell_type": "code",
   "execution_count": 19,
   "metadata": {},
   "outputs": [],
   "source": [
    "instance Functor f => Applicative (Free f) where\n",
    "    pure = Pure\n",
    "    f <*> a = case f of\n",
    "        Pure f' -> fmap f' a\n",
    "        Wrap f' -> Wrap $ fmap (<*> a) f'"
   ]
  },
  {
   "cell_type": "code",
   "execution_count": 25,
   "metadata": {},
   "outputs": [],
   "source": [
    "instance Functor f => Monad (Free f) where\n",
    "    a >>= f = case a of\n",
    "        Pure a' -> f a'\n",
    "        Wrap a' -> Wrap $ fmap (>>= f) a'"
   ]
  }
 ],
 "metadata": {
  "kernelspec": {
   "display_name": "Haskell",
   "language": "haskell",
   "name": "haskell"
  },
  "language_info": {
   "codemirror_mode": "ihaskell",
   "file_extension": ".hs",
   "name": "haskell",
   "version": "8.0.2"
  }
 },
 "nbformat": 4,
 "nbformat_minor": 2
}
