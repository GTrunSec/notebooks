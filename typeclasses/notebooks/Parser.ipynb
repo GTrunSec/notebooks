{
 "cells": [
  {
   "cell_type": "code",
   "execution_count": 1,
   "metadata": {
    "collapsed": true
   },
   "outputs": [],
   "source": [
    "{-# LANGUAGE InstanceSigs #-}\n",
    "import Control.Applicative (Alternative(..))\n",
    "import Control.Monad (guard)\n",
    "import Data.Char (isSpace, isDigit, ord)\n",
    "\n",
    "newtype Parser a = Parser { runParser :: String -> Maybe (a, String) }"
   ]
  },
  {
   "cell_type": "code",
   "execution_count": 2,
   "metadata": {},
   "outputs": [],
   "source": [
    "instance Functor Parser where\n",
    "    fmap :: (a -> b) -> Parser a -> Parser b\n",
    "    fmap f parser = Parser $ \\s -> let\n",
    "        fn (a, s) = (f a, s)\n",
    "        in fn <$> runParser parser s"
   ]
  },
  {
   "cell_type": "code",
   "execution_count": 3,
   "metadata": {},
   "outputs": [],
   "source": [
    "instance Applicative Parser where\n",
    "    pure :: a -> Parser a\n",
    "    pure a = Parser $ \\s -> Just (a, s)\n",
    "    (<*>) :: Parser (a -> b) -> Parser a -> Parser b\n",
    "    f <*> a = Parser $ \\s -> case runParser f s of\n",
    "        Nothing -> Nothing\n",
    "        Just (f', s') -> case runParser a s' of\n",
    "            Nothing -> Nothing\n",
    "            Just (a', s'') -> Just (f' a', s'')\n",
    "\n",
    "instance Alternative Parser where\n",
    "    empty :: Parser a\n",
    "    empty = Parser $ \\_ -> Nothing\n",
    "    \n",
    "    (<|>) :: Parser a -> Parser a -> Parser a\n",
    "    a <|> b = Parser $ \\s -> runParser a s <|> runParser b s\n",
    "\n",
    "choice :: [Parser a] -> Parser a\n",
    "choice [] = empty\n",
    "choice (p:ps) = p <|> choice ps"
   ]
  },
  {
   "cell_type": "code",
   "execution_count": 4,
   "metadata": {},
   "outputs": [],
   "source": [
    "instance Monad Parser where\n",
    "    (>>=) :: Parser a -> (a -> Parser b) -> Parser b\n",
    "    a >>= f = Parser $ \\s -> case runParser a s of\n",
    "        Nothing       -> Nothing\n",
    "        Just (a', s') -> runParser (f a') s'"
   ]
  },
  {
   "cell_type": "code",
   "execution_count": 5,
   "metadata": {
    "collapsed": true
   },
   "outputs": [],
   "source": [
    "anyChar :: Parser Char\n",
    "anyChar = Parser $ \\s -> case s of\n",
    "    []     -> Nothing\n",
    "    (c:cs) -> Just (c, cs)\n",
    "\n",
    "satisfy :: (Char -> Bool) -> Parser Char\n",
    "satisfy pred = do\n",
    "    c <- anyChar\n",
    "    guard $ pred c\n",
    "    pure c\n",
    "\n",
    "char :: Char -> Parser Char\n",
    "char c = satisfy (c==)\n",
    "\n",
    "string :: String -> Parser String\n",
    "string []     = pure []\n",
    "string (c:cs) = (:) <$> char c <*> string cs"
   ]
  },
  {
   "cell_type": "code",
   "execution_count": 6,
   "metadata": {},
   "outputs": [],
   "source": [
    "sepBy :: Parser a -> Parser b -> Parser [a]\n",
    "sepBy p sep = (p `sepBy1` sep) <|> pure []\n",
    "\n",
    "sepBy1 :: Parser a -> Parser b -> Parser [a]\n",
    "sepBy1 p sep = (:) <$> p <*> many (sep *> p)"
   ]
  },
  {
   "cell_type": "code",
   "execution_count": 7,
   "metadata": {
    "collapsed": true
   },
   "outputs": [],
   "source": [
    "chainl :: Parser a -> Parser (a -> a -> a) -> a -> Parser a\n",
    "chainl p op a = (p `chainl1` op) <|> pure a\n",
    "\n",
    "chainl1 :: Parser a -> Parser (a -> a -> a) -> Parser a\n",
    "chainl1 p op = p >>= rest\n",
    "    where rest a = (do\n",
    "            f <- op\n",
    "            b <- p\n",
    "            rest (f a b)) <|> pure a\n",
    "\n",
    "chainr :: Parser a -> Parser (a -> a -> a) -> a -> Parser a\n",
    "chainr p op a = (p `chainr1` op) <|> pure a\n",
    "\n",
    "chainr1 :: Parser a -> Parser (a -> a -> a) -> Parser a\n",
    "chainr1 p op = scan\n",
    "    where\n",
    "        scan   = p >>= rest\n",
    "        rest a = (do\n",
    "            f <- op\n",
    "            b <- scan\n",
    "            rest (f a b)) <|> pure a"
   ]
  },
  {
   "cell_type": "code",
   "execution_count": 8,
   "metadata": {},
   "outputs": [],
   "source": [
    "space :: Parser String\n",
    "space = many (satisfy isSpace)\n",
    "\n",
    "token :: Parser a -> Parser a\n",
    "token p = p <* space\n",
    "\n",
    "symb :: String -> Parser String\n",
    "symb = token . string\n",
    "\n",
    "apply :: Parser a -> String -> Maybe (a, String)\n",
    "apply p = runParser (space *> p)"
   ]
  },
  {
   "cell_type": "code",
   "execution_count": 9,
   "metadata": {},
   "outputs": [],
   "source": [
    "expr, term, factor, digit :: Parser Int\n",
    "expr   = term   `chainl1` addop\n",
    "term   = factor `chainl1` mulop\n",
    "factor = digit <|> (symb \"(\" *> expr <* symb \")\")\n",
    "digit  = subtract (ord '0') . ord <$> token (satisfy isDigit)\n",
    "\n",
    "addop, mulop :: Parser (Int -> Int -> Int)\n",
    "addop = (symb \"+\" *> pure (+)) <|> (symb \"-\" *> pure (-))\n",
    "mulop = (symb \"*\" *> pure (*)) <|> (symb \"/\" *> pure (div))"
   ]
  },
  {
   "cell_type": "code",
   "execution_count": 10,
   "metadata": {},
   "outputs": [
    {
     "data": {
      "text/plain": [
       "Just (3,\"\")"
      ]
     },
     "metadata": {},
     "output_type": "display_data"
    }
   ],
   "source": [
    "runParser expr \"(1 + 2 * 4) / 3\""
   ]
  }
 ],
 "metadata": {
  "kernelspec": {
   "display_name": "Haskell",
   "language": "haskell",
   "name": "haskell"
  },
  "language_info": {
   "codemirror_mode": "ihaskell",
   "file_extension": ".hs",
   "name": "haskell",
   "version": "8.0.2"
  }
 },
 "nbformat": 4,
 "nbformat_minor": 2
}
