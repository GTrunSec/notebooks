{
 "cells": [
  {
   "cell_type": "code",
   "execution_count": 1,
   "metadata": {
    "collapsed": true
   },
   "outputs": [],
   "source": [
    "{-# LANGUAGE InstanceSigs #-}\n",
    "\n",
    "newtype Parser a = Parser { runParser :: String -> [(a, String)] }"
   ]
  },
  {
   "cell_type": "code",
   "execution_count": 2,
   "metadata": {},
   "outputs": [],
   "source": [
    "instance Functor Parser where\n",
    "    fmap :: (a -> b) -> Parser a -> Parser b\n",
    "    fmap f parser = Parser $ \\s -> let\n",
    "        parsed    = runParser parser s\n",
    "        fn (a, s) = (f a, s)\n",
    "        in map fn parsed"
   ]
  },
  {
   "cell_type": "code",
   "execution_count": 3,
   "metadata": {},
   "outputs": [],
   "source": [
    "import Control.Applicative (Alternative(empty, (<|>)))\n",
    "\n",
    "instance Applicative Parser where\n",
    "    pure :: a -> Parser a\n",
    "    pure a = Parser (\\s -> [(a, s)])\n",
    "    (<*>) :: Parser (a -> b) -> Parser a -> Parser b\n",
    "    f <*> a = Parser $ \\s ->\n",
    "        [ (f' a', s'')\n",
    "        | (f', s')  <- runParser f s\n",
    "        , (a', s'') <- runParser a s'\n",
    "        ]\n",
    "\n",
    "instance Alternative Parser where\n",
    "    empty :: Parser a\n",
    "    empty = Parser $ \\_ -> []\n",
    "    \n",
    "    (<|>) :: Parser a -> Parser a -> Parser a\n",
    "    a <|> b = Parser $ \\s -> (runParser a s) ++ (runParser b s)"
   ]
  },
  {
   "cell_type": "code",
   "execution_count": 4,
   "metadata": {},
   "outputs": [],
   "source": [
    "instance Monad Parser where\n",
    "    (>>=) :: Parser a -> (a -> Parser b) -> Parser b\n",
    "    a >>= f = Parser $ \\s -> concat\n",
    "        [ runParser (f a') s'\n",
    "        | (a', s') <- runParser a s\n",
    "        ]"
   ]
  },
  {
   "cell_type": "code",
   "execution_count": 16,
   "metadata": {
    "collapsed": true
   },
   "outputs": [],
   "source": [
    "import Control.Monad (guard)\n",
    "\n",
    "anyChar :: Parser Char\n",
    "anyChar = Parser $ \\s -> case s of\n",
    "    []     -> []\n",
    "    (c:cs) -> [(c, cs)]\n",
    "\n",
    "satisfy :: (Char -> Bool) -> Parser Char\n",
    "satisfy pred = do\n",
    "    c <- anyChar\n",
    "    guard $ pred c\n",
    "    return c\n",
    "\n",
    "char :: Char -> Parser Char\n",
    "char c = satisfy (c==)\n",
    "\n",
    "string :: String -> Parser String\n",
    "string []     = pure []\n",
    "string (c:cs) = (:) <$> char c <*> string cs"
   ]
  },
  {
   "cell_type": "code",
   "execution_count": 12,
   "metadata": {},
   "outputs": [],
   "source": [
    "(+++)  :: Parser a -> Parser a -> Parser a\n",
    "p +++ q = Parser $ \\s -> case runParser (p <|> q) s of\n",
    "    []     -> []\n",
    "    (x:xs) -> [x]\n",
    "\n",
    "many :: Parser a -> Parser [a]\n",
    "many p = many1 p +++ pure []\n",
    "\n",
    "many1 :: Parser a -> Parser [a]\n",
    "many1 p = (:) <$> p <*> many p"
   ]
  },
  {
   "cell_type": "code",
   "execution_count": 15,
   "metadata": {},
   "outputs": [
    {
     "data": {
      "text/plain": [
       "[(\"\",\"a\")]"
      ]
     },
     "metadata": {},
     "output_type": "display_data"
    }
   ],
   "source": [
    "runParser (many (char 'b')) \"a\""
   ]
  },
  {
   "cell_type": "code",
   "execution_count": 18,
   "metadata": {},
   "outputs": [
    {
     "data": {
      "text/plain": [
       "[(\"bar\",\"\")]"
      ]
     },
     "metadata": {},
     "output_type": "display_data"
    }
   ],
   "source": [
    "runParser (string \"foo\" *> string \"bar\") \"foobar\""
   ]
  },
  {
   "cell_type": "code",
   "execution_count": null,
   "metadata": {
    "collapsed": true
   },
   "outputs": [],
   "source": []
  }
 ],
 "metadata": {
  "kernelspec": {
   "display_name": "Haskell",
   "language": "haskell",
   "name": "haskell"
  },
  "language_info": {
   "codemirror_mode": "ihaskell",
   "file_extension": ".hs",
   "name": "haskell",
   "version": "8.0.2"
  }
 },
 "nbformat": 4,
 "nbformat_minor": 2
}
