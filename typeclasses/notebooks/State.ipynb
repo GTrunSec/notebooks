{
 "cells": [
  {
   "cell_type": "code",
   "execution_count": 1,
   "metadata": {
    "collapsed": true
   },
   "outputs": [],
   "source": [
    "{-# LANGUAGE InstanceSigs #-}\n",
    "newtype State s a = State { runState :: s -> (a, s) }"
   ]
  },
  {
   "cell_type": "code",
   "execution_count": 6,
   "metadata": {},
   "outputs": [],
   "source": [
    "instance Functor (State s) where\n",
    "    fmap :: (a -> b) -> State s a -> State s b\n",
    "    fmap f a = State $ \\s -> let\n",
    "        (a',s') = runState a s\n",
    "        in (f a', s')"
   ]
  },
  {
   "cell_type": "code",
   "execution_count": 11,
   "metadata": {},
   "outputs": [],
   "source": [
    "instance Applicative (State s) where\n",
    "    pure :: a -> State s a\n",
    "    pure a = State $ \\s -> (a, s)\n",
    "    (<*>) :: State s (a -> b) -> State s a -> State s b\n",
    "    f <*> a = State $ \\s -> let\n",
    "        (f', s')  = runState f s\n",
    "        (a', s'') = runState a s'\n",
    "        in (f' a', s'')"
   ]
  },
  {
   "cell_type": "code",
   "execution_count": 16,
   "metadata": {},
   "outputs": [],
   "source": [
    "instance Monad (State s) where\n",
    "    (>>=) :: State s a -> (a -> State s b) -> State s b\n",
    "    a >>= f = State $ \\s -> let\n",
    "        (a', s') = runState a s\n",
    "        b        = f a'\n",
    "        in runState b s'"
   ]
  }
 ],
 "metadata": {
  "kernelspec": {
   "display_name": "Haskell",
   "language": "haskell",
   "name": "haskell"
  },
  "language_info": {
   "codemirror_mode": "ihaskell",
   "file_extension": ".hs",
   "name": "haskell",
   "version": "8.0.2"
  }
 },
 "nbformat": 4,
 "nbformat_minor": 2
}
