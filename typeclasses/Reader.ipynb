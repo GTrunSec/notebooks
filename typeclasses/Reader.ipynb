{
 "cells": [
  {
   "cell_type": "code",
   "execution_count": 1,
   "metadata": {},
   "outputs": [],
   "source": [
    "{-# LANGUAGE InstanceSigs #-}\n",
    "newtype Reader e a = Reader { runReader :: e -> a }"
   ]
  },
  {
   "cell_type": "code",
   "execution_count": 2,
   "metadata": {},
   "outputs": [],
   "source": [
    "instance Functor (Reader e) where\n",
    "    fmap :: (a -> b) -> Reader e a -> Reader e b\n",
    "    fmap f reader = Reader $ f . runReader reader"
   ]
  },
  {
   "cell_type": "code",
   "execution_count": 3,
   "metadata": {},
   "outputs": [],
   "source": [
    "instance Applicative (Reader e) where\n",
    "    pure :: a -> Reader e a\n",
    "    pure a = Reader $ const a\n",
    "    (<*>) :: Reader e (a -> b) -> Reader e a -> Reader e b\n",
    "    f <*> a = Reader $ \\e -> let\n",
    "        f' = runReader f e\n",
    "        a' = runReader a e\n",
    "        in f' a'"
   ]
  },
  {
   "cell_type": "code",
   "execution_count": 4,
   "metadata": {},
   "outputs": [],
   "source": [
    "instance Monad (Reader e) where\n",
    "    (>>=) :: Reader e a -> (a -> Reader e b) -> Reader e b\n",
    "    a >>= f = Reader $ \\e -> let\n",
    "        a' = runReader a e\n",
    "        b  = f a'\n",
    "        in runReader b e"
   ]
  },
  {
   "cell_type": "code",
   "execution_count": 5,
   "metadata": {},
   "outputs": [],
   "source": [
    "newtype ReaderT e m a = ReaderT { runReaderT :: e -> m a }"
   ]
  },
  {
   "cell_type": "code",
   "execution_count": 6,
   "metadata": {},
   "outputs": [],
   "source": [
    "instance Functor m => Functor (ReaderT e m) where\n",
    "    fmap :: (a -> b) -> ReaderT e m a -> ReaderT e m b\n",
    "    fmap f (ReaderT readert) = ReaderT $ \\e -> let\n",
    "        ma = readert e\n",
    "        in f <$> ma"
   ]
  },
  {
   "cell_type": "code",
   "execution_count": 7,
   "metadata": {},
   "outputs": [],
   "source": [
    "instance Monad m => Applicative (ReaderT e m) where\n",
    "    pure :: a -> ReaderT e m a\n",
    "    pure a = ReaderT $ const (pure a)\n",
    "    \n",
    "    (<*>) :: ReaderT e m (a -> b) -> ReaderT e m a -> ReaderT e m b\n",
    "    (<*>) (ReaderT mf) (ReaderT ma) = ReaderT $ \\e -> do\n",
    "        f <- mf e\n",
    "        a <- ma e\n",
    "        pure (f a)"
   ]
  },
  {
   "cell_type": "code",
   "execution_count": 8,
   "metadata": {},
   "outputs": [],
   "source": [
    "instance Monad m => Monad (ReaderT e m) where\n",
    "    (>>=) :: ReaderT e m a -> (a -> ReaderT e m b) -> ReaderT e m b\n",
    "    (>>=) (ReaderT ma) f = ReaderT $ \\e -> do\n",
    "        a <- ma e\n",
    "        let (ReaderT mb) = f a\n",
    "        mb e"
   ]
  },
  {
   "cell_type": "code",
   "execution_count": 9,
   "metadata": {},
   "outputs": [],
   "source": [
    "import Control.Monad.Trans.Class\n",
    "\n",
    "instance MonadTrans (ReaderT e) where\n",
    "    lift :: m a -> ReaderT e m a\n",
    "    lift ma = ReaderT $ const ma"
   ]
  },
  {
   "cell_type": "code",
   "execution_count": 10,
   "metadata": {},
   "outputs": [],
   "source": [
    "ask :: Monad m => ReaderT e m e\n",
    "ask = ReaderT $ \\e -> pure e"
   ]
  },
  {
   "cell_type": "code",
   "execution_count": 11,
   "metadata": {},
   "outputs": [],
   "source": [
    "guessing :: ReaderT String IO ()\n",
    "guessing = do\n",
    "    lift $ putStrLn \"Make a guess!\"\n",
    "    g <- lift $ getLine\n",
    "    correct <- ask\n",
    "    if g == correct\n",
    "        then do\n",
    "            lift $ putStrLn \"You got it right!\"\n",
    "        else do\n",
    "            lift $ putStrLn \"Nope!\"\n",
    "            guessing"
   ]
  }
 ],
 "metadata": {
  "kernelspec": {
   "display_name": "Haskell",
   "language": "haskell",
   "name": "haskell"
  },
  "language_info": {
   "codemirror_mode": "ihaskell",
   "file_extension": ".hs",
   "name": "haskell",
   "pygments_lexer": "Haskell",
   "version": "8.6.4"
  }
 },
 "nbformat": 4,
 "nbformat_minor": 2
}
