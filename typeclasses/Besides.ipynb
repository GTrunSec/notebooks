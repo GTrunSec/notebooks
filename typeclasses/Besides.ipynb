{
 "cells": [
  {
   "cell_type": "code",
   "execution_count": 2,
   "metadata": {
    "collapsed": true
   },
   "outputs": [],
   "source": [
    "{-# LANGUAGE InstanceSigs #-}\n",
    "\n",
    "data Besides b a = This b | That a"
   ]
  },
  {
   "cell_type": "code",
   "execution_count": 4,
   "metadata": {},
   "outputs": [],
   "source": [
    "instance Functor (Besides c) where\n",
    "    fmap :: (a -> b) -> Besides c a -> Besides c b\n",
    "    fmap f besides = case besides of\n",
    "        This c -> This c\n",
    "        That a -> That (f a)"
   ]
  },
  {
   "cell_type": "code",
   "execution_count": 10,
   "metadata": {},
   "outputs": [],
   "source": [
    "instance Applicative (Besides c) where\n",
    "    pure :: a -> Besides c a\n",
    "    pure = That\n",
    "    \n",
    "    (<*>) :: Besides c (a -> b) -> Besides c a -> Besides c b\n",
    "    f <*> a = case f of\n",
    "        This f' -> This f'\n",
    "        That f' -> f' <$> a"
   ]
  },
  {
   "cell_type": "code",
   "execution_count": 12,
   "metadata": {},
   "outputs": [],
   "source": [
    "instance Monad (Besides c) where\n",
    "    (>>=) :: Besides c a -> (a -> Besides c b) -> Besides c b\n",
    "    a >>= f = case a of\n",
    "        This a' -> This a'\n",
    "        That a' -> f a'"
   ]
  }
 ],
 "metadata": {
  "kernelspec": {
   "display_name": "Haskell",
   "language": "haskell",
   "name": "haskell"
  },
  "language_info": {
   "codemirror_mode": "ihaskell",
   "file_extension": ".hs",
   "name": "haskell",
   "pygments_lexer": "Haskell",
   "version": "8.6.5"
  }
 },
 "nbformat": 4,
 "nbformat_minor": 2
}
