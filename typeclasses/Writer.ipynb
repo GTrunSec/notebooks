{
 "cells": [
  {
   "cell_type": "code",
   "execution_count": 1,
   "metadata": {
    "collapsed": true
   },
   "outputs": [],
   "source": [
    "{-# LANGUAGE InstanceSigs #-}\n",
    "\n",
    "newtype Writer w a = Writer { runWriter :: (a, w) }"
   ]
  },
  {
   "cell_type": "code",
   "execution_count": 8,
   "metadata": {},
   "outputs": [],
   "source": [
    "instance Functor (Writer w) where\n",
    "    fmap :: (a -> b) -> Writer w a -> Writer w b\n",
    "    fmap f writer = Writer $ let\n",
    "        (a,w') = runWriter writer\n",
    "        in (f a, w')"
   ]
  },
  {
   "cell_type": "code",
   "execution_count": 21,
   "metadata": {
    "collapsed": true
   },
   "outputs": [],
   "source": [
    "import Data.Monoid\n",
    "\n",
    "instance (Monoid w) => Applicative (Writer w) where\n",
    "    pure :: a -> Writer w a\n",
    "    pure a = Writer (a, mempty)\n",
    "    (<*>) :: Writer w (a -> b) -> Writer w a -> Writer w b\n",
    "    f <*> a = Writer $ let\n",
    "        (f', w)  = runWriter f\n",
    "        (a', w') = runWriter a\n",
    "        in (f' a', w <> w')"
   ]
  },
  {
   "cell_type": "code",
   "execution_count": 23,
   "metadata": {
    "collapsed": true
   },
   "outputs": [],
   "source": [
    "instance (Monoid w) => Monad (Writer w) where\n",
    "    (>>=) :: Writer w a -> (a -> Writer w b) -> Writer w b\n",
    "    a >>= f = Writer $ let\n",
    "        (a', w) = runWriter a\n",
    "        (b, w') = runWriter $ f a' \n",
    "        in (b, w <> w')"
   ]
  }
 ],
 "metadata": {
  "kernelspec": {
   "display_name": "Haskell",
   "language": "haskell",
   "name": "haskell"
  },
  "language_info": {
   "codemirror_mode": "ihaskell",
   "file_extension": ".hs",
   "name": "haskell",
   "pygments_lexer": "Haskell",
   "version": "8.6.5"
  }
 },
 "nbformat": 4,
 "nbformat_minor": 2
}
