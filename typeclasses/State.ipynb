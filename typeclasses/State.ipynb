{
 "cells": [
  {
   "cell_type": "code",
   "execution_count": 1,
   "metadata": {},
   "outputs": [],
   "source": [
    "{-# LANGUAGE InstanceSigs #-}\n",
    "newtype State s a = State { runState :: s -> (a, s) }"
   ]
  },
  {
   "cell_type": "code",
   "execution_count": 2,
   "metadata": {},
   "outputs": [],
   "source": [
    "instance Functor (State s) where\n",
    "    fmap :: (a -> b) -> State s a -> State s b\n",
    "    fmap f a = State $ \\s -> let\n",
    "        (a',s') = runState a s\n",
    "        in (f a', s')"
   ]
  },
  {
   "cell_type": "code",
   "execution_count": 3,
   "metadata": {},
   "outputs": [
    {
     "data": {
      "text/html": [
       "<style>/* Styles used for the Hoogle display in the pager */\n",
       ".hoogle-doc {\n",
       "display: block;\n",
       "padding-bottom: 1.3em;\n",
       "padding-left: 0.4em;\n",
       "}\n",
       ".hoogle-code {\n",
       "display: block;\n",
       "font-family: monospace;\n",
       "white-space: pre;\n",
       "}\n",
       ".hoogle-text {\n",
       "display: block;\n",
       "}\n",
       ".hoogle-name {\n",
       "color: green;\n",
       "font-weight: bold;\n",
       "}\n",
       ".hoogle-head {\n",
       "font-weight: bold;\n",
       "}\n",
       ".hoogle-sub {\n",
       "display: block;\n",
       "margin-left: 0.4em;\n",
       "}\n",
       ".hoogle-package {\n",
       "font-weight: bold;\n",
       "font-style: italic;\n",
       "}\n",
       ".hoogle-module {\n",
       "font-weight: bold;\n",
       "}\n",
       ".hoogle-class {\n",
       "font-weight: bold;\n",
       "}\n",
       ".get-type {\n",
       "color: green;\n",
       "font-weight: bold;\n",
       "font-family: monospace;\n",
       "display: block;\n",
       "white-space: pre-wrap;\n",
       "}\n",
       ".show-type {\n",
       "color: green;\n",
       "font-weight: bold;\n",
       "font-family: monospace;\n",
       "margin-left: 1em;\n",
       "}\n",
       ".mono {\n",
       "font-family: monospace;\n",
       "display: block;\n",
       "}\n",
       ".err-msg {\n",
       "color: red;\n",
       "font-style: italic;\n",
       "font-family: monospace;\n",
       "white-space: pre;\n",
       "display: block;\n",
       "}\n",
       "#unshowable {\n",
       "color: red;\n",
       "font-weight: bold;\n",
       "}\n",
       ".err-msg.in.collapse {\n",
       "padding-top: 0.7em;\n",
       "}\n",
       ".highlight-code {\n",
       "white-space: pre;\n",
       "font-family: monospace;\n",
       "}\n",
       ".suggestion-warning { \n",
       "font-weight: bold;\n",
       "color: rgb(200, 130, 0);\n",
       "}\n",
       ".suggestion-error { \n",
       "font-weight: bold;\n",
       "color: red;\n",
       "}\n",
       ".suggestion-name {\n",
       "font-weight: bold;\n",
       "}\n",
       "</style><div class=\"suggestion-name\" style=\"clear:both;\">Use tuple-section</div><div class=\"suggestion-row\" style=\"float: left;\"><div class=\"suggestion-warning\">Found:</div><div class=\"highlight-code\" id=\"haskell\">\\ s -> (a, s)</div></div><div class=\"suggestion-row\" style=\"float: left;\"><div class=\"suggestion-warning\">Why Not:</div><div class=\"highlight-code\" id=\"haskell\">(a,)</div></div>"
      ],
      "text/plain": [
       "Line 3: Use tuple-section\n",
       "Found:\n",
       "\\ s -> (a, s)\n",
       "Why not:\n",
       "(a,)"
      ]
     },
     "metadata": {},
     "output_type": "display_data"
    }
   ],
   "source": [
    "instance Applicative (State s) where\n",
    "    pure :: a -> State s a\n",
    "    pure a = State $ \\s -> (a, s)\n",
    "    (<*>) :: State s (a -> b) -> State s a -> State s b\n",
    "    f <*> a = State $ \\s -> let\n",
    "        (f', s')  = runState f s\n",
    "        (a', s'') = runState a s'\n",
    "        in (f' a', s'')"
   ]
  },
  {
   "cell_type": "code",
   "execution_count": 4,
   "metadata": {},
   "outputs": [],
   "source": [
    "instance Monad (State s) where\n",
    "    (>>=) :: State s a -> (a -> State s b) -> State s b\n",
    "    a >>= f = State $ \\s -> let\n",
    "        (a', s') = runState a s\n",
    "        b        = f a'\n",
    "        in runState b s'"
   ]
  },
  {
   "cell_type": "code",
   "execution_count": 5,
   "metadata": {},
   "outputs": [],
   "source": [
    "newtype StateT s m a = StateT { runStateT :: s -> m (a, s) }"
   ]
  },
  {
   "cell_type": "code",
   "execution_count": 6,
   "metadata": {},
   "outputs": [],
   "source": [
    "instance Functor m => Functor (StateT s m) where\n",
    "  fmap :: (a -> b) -> StateT s m a -> StateT s m b\n",
    "  fmap f (StateT statet) = StateT $ \\s -> let\n",
    "      statet' = statet s\n",
    "      in (\\(a, s') -> (f a, s')) <$> statet'"
   ]
  },
  {
   "cell_type": "code",
   "execution_count": 7,
   "metadata": {},
   "outputs": [],
   "source": [
    "instance Monad m => Applicative (StateT s m) where\n",
    "    pure :: a -> StateT s m a\n",
    "    pure a = StateT $ \\s -> pure (a, s)\n",
    "    \n",
    "    (<*>) :: StateT s m (a -> b) -> StateT s m a -> StateT s m b\n",
    "    (<*>) (StateT mf) (StateT ma) = StateT $ \\s -> do\n",
    "        (f, s')  <- mf s\n",
    "        (a, s'') <- ma s'\n",
    "        pure (f a, s'')"
   ]
  },
  {
   "cell_type": "code",
   "execution_count": 8,
   "metadata": {},
   "outputs": [],
   "source": [
    "instance Monad m => Monad (StateT s m) where\n",
    "    (>>=) :: StateT s m a -> (a -> StateT s m b) -> StateT s m b\n",
    "    (>>=) (StateT ma) f = StateT $ \\s -> do\n",
    "        (a, s') <- ma s\n",
    "        let (StateT mb) = f a\n",
    "        mb s'"
   ]
  },
  {
   "cell_type": "code",
   "execution_count": 9,
   "metadata": {},
   "outputs": [
    {
     "data": {
      "text/html": [
       "<style>/* Styles used for the Hoogle display in the pager */\n",
       ".hoogle-doc {\n",
       "display: block;\n",
       "padding-bottom: 1.3em;\n",
       "padding-left: 0.4em;\n",
       "}\n",
       ".hoogle-code {\n",
       "display: block;\n",
       "font-family: monospace;\n",
       "white-space: pre;\n",
       "}\n",
       ".hoogle-text {\n",
       "display: block;\n",
       "}\n",
       ".hoogle-name {\n",
       "color: green;\n",
       "font-weight: bold;\n",
       "}\n",
       ".hoogle-head {\n",
       "font-weight: bold;\n",
       "}\n",
       ".hoogle-sub {\n",
       "display: block;\n",
       "margin-left: 0.4em;\n",
       "}\n",
       ".hoogle-package {\n",
       "font-weight: bold;\n",
       "font-style: italic;\n",
       "}\n",
       ".hoogle-module {\n",
       "font-weight: bold;\n",
       "}\n",
       ".hoogle-class {\n",
       "font-weight: bold;\n",
       "}\n",
       ".get-type {\n",
       "color: green;\n",
       "font-weight: bold;\n",
       "font-family: monospace;\n",
       "display: block;\n",
       "white-space: pre-wrap;\n",
       "}\n",
       ".show-type {\n",
       "color: green;\n",
       "font-weight: bold;\n",
       "font-family: monospace;\n",
       "margin-left: 1em;\n",
       "}\n",
       ".mono {\n",
       "font-family: monospace;\n",
       "display: block;\n",
       "}\n",
       ".err-msg {\n",
       "color: red;\n",
       "font-style: italic;\n",
       "font-family: monospace;\n",
       "white-space: pre;\n",
       "display: block;\n",
       "}\n",
       "#unshowable {\n",
       "color: red;\n",
       "font-weight: bold;\n",
       "}\n",
       ".err-msg.in.collapse {\n",
       "padding-top: 0.7em;\n",
       "}\n",
       ".highlight-code {\n",
       "white-space: pre;\n",
       "font-family: monospace;\n",
       "}\n",
       ".suggestion-warning { \n",
       "font-weight: bold;\n",
       "color: rgb(200, 130, 0);\n",
       "}\n",
       ".suggestion-error { \n",
       "font-weight: bold;\n",
       "color: red;\n",
       "}\n",
       ".suggestion-name {\n",
       "font-weight: bold;\n",
       "}\n",
       "</style><div class=\"suggestion-name\" style=\"clear:both;\">Use tuple-section</div><div class=\"suggestion-row\" style=\"float: left;\"><div class=\"suggestion-warning\">Found:</div><div class=\"highlight-code\" id=\"haskell\">\\ a -> (a, s)</div></div><div class=\"suggestion-row\" style=\"float: left;\"><div class=\"suggestion-warning\">Why Not:</div><div class=\"highlight-code\" id=\"haskell\">(, s)</div></div>"
      ],
      "text/plain": [
       "Line 3: Use tuple-section\n",
       "Found:\n",
       "\\ a -> (a, s)\n",
       "Why not:\n",
       "(, s)"
      ]
     },
     "metadata": {},
     "output_type": "display_data"
    }
   ],
   "source": [
    "import Control.Monad.Trans.Class\n",
    "\n",
    "instance MonadTrans (StateT s) where\n",
    "    lift :: Monad m => m a -> StateT s m a\n",
    "    lift ma = StateT $ \\s -> (\\a -> (a, s)) <$> ma"
   ]
  },
  {
   "cell_type": "code",
   "execution_count": 27,
   "metadata": {},
   "outputs": [],
   "source": [
    "get :: Monad m => StateT s m s\n",
    "get = StateT $ \\s -> pure (s, s)\n",
    "\n",
    "put :: Monad m => s -> StateT s m ()\n",
    "put s = StateT $ \\_ -> pure ((), s)"
   ]
  },
  {
   "cell_type": "code",
   "execution_count": 34,
   "metadata": {},
   "outputs": [
    {
     "data": {
      "text/plain": [
       "Guess my name: \n",
       "You got it right!\n",
       "((),Just \"Vaibhav\")"
      ]
     },
     "metadata": {},
     "output_type": "display_data"
    }
   ],
   "source": [
    "guessing :: StateT (Maybe String) IO ()\n",
    "guessing = do\n",
    "    previousGuess <- get\n",
    "    case previousGuess of\n",
    "        Nothing -> go\n",
    "        Just previousGuess -> do\n",
    "            lift $ putStrLn $ \"You previously guessed \" ++ previousGuess\n",
    "            go\n",
    "    where\n",
    "        go = do\n",
    "            lift $ putStrLn \"Guess my name: \"\n",
    "            guess <- lift $ getLine\n",
    "            put (Just guess)\n",
    "            if guess == \"Vaibhav\"\n",
    "              then do\n",
    "                  lift $ putStrLn \"You got it right!\"\n",
    "              else do\n",
    "                  guessing\n",
    "\n",
    "runStateT guessing Nothing"
   ]
  }
 ],
 "metadata": {
  "kernelspec": {
   "display_name": "Haskell",
   "language": "haskell",
   "name": "haskell"
  },
  "language_info": {
   "codemirror_mode": "ihaskell",
   "file_extension": ".hs",
   "name": "haskell",
   "pygments_lexer": "Haskell",
   "version": "8.6.4"
  }
 },
 "nbformat": 4,
 "nbformat_minor": 2
}
