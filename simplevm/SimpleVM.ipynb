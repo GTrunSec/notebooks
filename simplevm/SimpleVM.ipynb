{
 "cells": [
  {
   "cell_type": "code",
   "execution_count": 1,
   "metadata": {},
   "outputs": [],
   "source": [
    "{-# LANGUAGE BinaryLiterals #-}\n",
    "{-# LANGUAGE NumericUnderscores #-}\n",
    "\n",
    "import qualified Data.Vector.Unboxed as V\n",
    "import Data.Word\n",
    "import qualified Data.ByteString as BS\n",
    "import Data.Bits"
   ]
  },
  {
   "cell_type": "code",
   "execution_count": 2,
   "metadata": {},
   "outputs": [],
   "source": [
    "data VM = VM\n",
    "    { vmMemory :: V.Vector Word16\n",
    "    , vmR1\n",
    "    , vmR2\n",
    "    , vmR3\n",
    "    , vmR4\n",
    "    , vmPC\n",
    "    , vmSP :: Word16\n",
    "    } deriving (Eq, Show)"
   ]
  },
  {
   "cell_type": "code",
   "execution_count": 3,
   "metadata": {},
   "outputs": [],
   "source": [
    "data Opcode\n",
    "    = NULL\n",
    "    | ADD\n",
    "    | SUB\n",
    "    | MUL\n",
    "    | DIV\n",
    "    | LOAD\n",
    "    | STORE\n",
    "    | LOADi\n",
    "    | STOREi\n",
    "    deriving (Eq, Show)\n",
    "\n",
    "data Register = R1 | R2 | R3 | R4 deriving (Eq, Show, Ord, Enum)\n",
    "\n",
    "data Instruction = Instruction\n",
    "    { instructionOpcode :: Opcode\n",
    "    , instructionR1\n",
    "    , instructionR2 :: Register\n",
    "    , instructionData :: Word8\n",
    "    } deriving (Eq, Show)"
   ]
  },
  {
   "cell_type": "code",
   "execution_count": 4,
   "metadata": {},
   "outputs": [],
   "source": [
    "oPMASK, r1MASK, r2MASK, dTMASK :: Word16\n",
    "oPMASK = 0b11110000_00000000\n",
    "r1MASK = 0b00001100_00000000\n",
    "r2MASK = 0b00000011_00000000\n",
    "dTMASK = 0b00000000_11111111"
   ]
  },
  {
   "cell_type": "code",
   "execution_count": 5,
   "metadata": {},
   "outputs": [],
   "source": [
    "parseOpcode :: Word8 -> Opcode\n",
    "parseOpcode w = case w of\n",
    "    0 -> NULL\n",
    "    3 -> ADD\n",
    "    4 -> SUB\n",
    "    5 -> MUL\n",
    "    6 -> DIV\n",
    "    7 -> LOAD\n",
    "    8 -> STORE\n",
    "    9 -> LOADi\n",
    "    10 -> STOREi\n",
    "    _ -> error \"invalid opcode\"\n",
    "\n",
    "parseRegister :: Word8 -> Register\n",
    "parseRegister w = case w of\n",
    "    0 -> R1\n",
    "    1 -> R2\n",
    "    2 -> R3\n",
    "    3 -> R4\n",
    "    _ -> error \"invalid register\"\n",
    "    \n",
    "parseInstruction :: Word16 -> Instruction\n",
    "parseInstruction w = let\n",
    "    instrData =               fromIntegral $                 w .&. dTMASK\n",
    "    instrR2 = parseRegister . fromIntegral $ shiftR         (w .&. r2MASK) 8\n",
    "    instrR1 = parseRegister . fromIntegral $ shiftR (shiftR (w .&. r1MASK) 8) 2\n",
    "    instrOp = parseOpcode   . fromIntegral $ shiftR (shiftR (w .&. oPMASK) 8) 4\n",
    "    in Instruction instrOp instrR1 instrR2 (fromIntegral instrData)"
   ]
  },
  {
   "cell_type": "code",
   "execution_count": 6,
   "metadata": {},
   "outputs": [],
   "source": [
    "addressRegister :: Register -> VM -> Word16\n",
    "addressRegister r = case r of\n",
    "    R1 -> vmR1\n",
    "    R2 -> vmR2\n",
    "    R3 -> vmR3\n",
    "    R4 -> vmR4\n",
    "\n",
    "storeRegister :: Word16 -> Register -> VM -> VM\n",
    "storeRegister value r vm = case r of\n",
    "    R1 -> vm { vmR1 = value }\n",
    "    R2 -> vm { vmR2 = value }\n",
    "    R3 -> vm { vmR3 = value }\n",
    "    R4 -> vm { vmR4 = value }\n",
    "\n",
    "step :: VM -> VM\n",
    "step vm@VM{ vmMemory = memory, vmPC = pc } = let\n",
    "    (Instruction op r1 r2 instrData) = parseInstruction (memory V.! fromIntegral pc)\n",
    "    in case op of\n",
    "        NULL -> vm\n",
    "        ADD -> let\n",
    "            result = addressRegister r1 vm + addressRegister r2 vm\n",
    "            vm' = storeRegister result r1 vm\n",
    "            in vm' { vmPC = pc + 1 }\n",
    "        SUB -> let\n",
    "            result = addressRegister r1 vm - addressRegister r2 vm\n",
    "            vm' = storeRegister result r1 vm\n",
    "            in vm' { vmPC = pc + 1 }\n",
    "        MUL -> let\n",
    "            result = addressRegister r1 vm * addressRegister r2 vm\n",
    "            vm' = storeRegister result r1 vm\n",
    "            in vm' { vmPC = pc + 1 }\n",
    "        DIV -> let\n",
    "            result = addressRegister r1 vm `div` addressRegister r2 vm\n",
    "            vm' = storeRegister result r1 vm\n",
    "            in vm' { vmPC = pc + 1 }\n",
    "        LOAD -> let\n",
    "            index = fromIntegral $ addressRegister r2 vm\n",
    "            value = memory V.! index\n",
    "            vm' = storeRegister value r1 vm\n",
    "            in vm' { vmPC = pc + 1 }\n",
    "        STORE -> let\n",
    "            value = addressRegister r2 vm\n",
    "            index = fromIntegral $ addressRegister r1 vm\n",
    "            memory' = memory V.// [(index,value)]\n",
    "            in vm { vmMemory = memory', vmPC = pc + 1 }\n",
    "        LOADi -> let\n",
    "            vm' = storeRegister (fromIntegral instrData) r1 vm\n",
    "            in vm' { vmPC = pc + 1 }\n",
    "        STOREi -> let\n",
    "            index = fromIntegral $ addressRegister r1 vm\n",
    "            memory' = memory V.// [(index, fromIntegral instrData)]\n",
    "            in vm { vmMemory = memory', vmPC = pc + 1 }"
   ]
  },
  {
   "cell_type": "code",
   "execution_count": 7,
   "metadata": {},
   "outputs": [],
   "source": [
    "loop :: VM -> VM\n",
    "loop vm = let\n",
    "    vm' = step vm\n",
    "    in if vmPC vm' == vmPC vm\n",
    "        then vm'\n",
    "        else loop vm'"
   ]
  },
  {
   "cell_type": "code",
   "execution_count": 8,
   "metadata": {},
   "outputs": [],
   "source": [
    "raw <- BS.readFile \"./simplevm.rom\""
   ]
  },
  {
   "cell_type": "code",
   "execution_count": 9,
   "metadata": {},
   "outputs": [],
   "source": [
    "unpacked = BS.unpack raw"
   ]
  },
  {
   "cell_type": "code",
   "execution_count": 10,
   "metadata": {},
   "outputs": [],
   "source": [
    "formatLittleEndian' :: [Word16] -> [Word8] -> [Word16]\n",
    "formatLittleEndian' acc [] = acc\n",
    "formatLittleEndian' acc (b2:b1:bs) = let\n",
    "    w16 = (fromIntegral b1 :: Word16) `shiftL` 8 .|. fromIntegral b2\n",
    "    in formatLittleEndian' (acc ++ [w16]) bs\n",
    "formatLittleEndian' _ _ = error \"odd number of bytes\""
   ]
  },
  {
   "cell_type": "code",
   "execution_count": 11,
   "metadata": {},
   "outputs": [],
   "source": [
    "formatLittleEndian = formatLittleEndian' []"
   ]
  },
  {
   "cell_type": "code",
   "execution_count": 12,
   "metadata": {},
   "outputs": [],
   "source": [
    "formatted = formatLittleEndian unpacked\n",
    "\n",
    "\n",
    "new program = let\n",
    "    emptyVector = V.replicate 256 0 :: V.Vector Word16\n",
    "    zipped = zip [0..] program\n",
    "    loaded = emptyVector V.// zipped\n",
    "    in VM { vmMemory = loaded, vmR1 = 0, vmR2 = 0, vmR3 = 0, vmR4 = 0, vmPC = 0, vmSP = 0  }"
   ]
  },
  {
   "cell_type": "code",
   "execution_count": 13,
   "metadata": {},
   "outputs": [],
   "source": [
    "memory = vmMemory $ loop $ new formatted"
   ]
  },
  {
   "cell_type": "code",
   "execution_count": 14,
   "metadata": {},
   "outputs": [
    {
     "data": {
      "text/plain": [
       "True"
      ]
     },
     "metadata": {},
     "output_type": "display_data"
    }
   ],
   "source": [
    "assertions = \n",
    "    [ memory V.! 255 == 3\n",
    "    , memory V.! 254 == 9\n",
    "    , memory V.! 253 == 6\n",
    "    , memory V.! 240 == 0xde\n",
    "    , memory V.! 241 == 0xad\n",
    "    , memory V.! 242 == 0xbe\n",
    "    , memory V.! 243 == 0xef\n",
    "    ]\n",
    "\n",
    "and assertions"
   ]
  }
 ],
 "metadata": {
  "kernelspec": {
   "display_name": "Haskell",
   "language": "haskell",
   "name": "haskell"
  },
  "language_info": {
   "codemirror_mode": "ihaskell",
   "file_extension": ".hs",
   "name": "haskell",
   "pygments_lexer": "Haskell",
   "version": "8.6.5"
  }
 },
 "nbformat": 4,
 "nbformat_minor": 2
}
