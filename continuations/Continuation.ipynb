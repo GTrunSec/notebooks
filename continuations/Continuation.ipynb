{
 "cells": [
  {
   "cell_type": "code",
   "execution_count": 1,
   "metadata": {},
   "outputs": [],
   "source": [
    "newtype Cont r a = Cont { (>>-) :: (a -> r) -> r }"
   ]
  },
  {
   "cell_type": "code",
   "execution_count": 2,
   "metadata": {},
   "outputs": [],
   "source": [
    "instance Functor (Cont r) where\n",
    "    fmap f cx = Cont $ \\pur -> cx >>- (pur . f)\n",
    "\n",
    "instance Applicative (Cont r) where\n",
    "    pure    a = Cont $ \\pur -> pur a\n",
    "    (<*>) f a = Cont $ \\pur ->\n",
    "        f >>- \\f' ->\n",
    "        a >>- \\a' ->\n",
    "        pur (f' a')\n",
    "\n",
    "instance Monad (Cont r) where\n",
    "    (>>=) cx f = Cont $ \\pur ->\n",
    "        cx  >>- \\a ->\n",
    "        f a >>- pur\n",
    "\n",
    "callCC :: ((b -> Cont r a) -> Cont r b) -> Cont r b\n",
    "callCC f = Cont $ \\pur ->\n",
    "    f (\\x -> (exit (pur x))) >>- \\a ->\n",
    "    pur a\n",
    "    where exit x = Cont $ \\_ -> x"
   ]
  },
  {
   "cell_type": "code",
   "execution_count": 3,
   "metadata": {},
   "outputs": [],
   "source": [
    "newtype ContT r m a = ContT { (>>>-) :: (a -> m r) -> m r}"
   ]
  },
  {
   "cell_type": "code",
   "execution_count": 4,
   "metadata": {},
   "outputs": [],
   "source": [
    "instance Functor (ContT r m) where\n",
    "    fmap f cx = ContT $ \\pur ->\n",
    "        cx >>>- \\a -> pur (f a)\n",
    "\n",
    "instance Applicative (ContT r m) where\n",
    "    pure a = ContT $ \\pur -> pur a\n",
    "    (<*>) f a = ContT $ \\pur ->\n",
    "        f >>>- \\f' ->\n",
    "        a >>>- \\a' ->\n",
    "        pur (f' a')    \n",
    "\n",
    "instance Monad (ContT r m) where\n",
    "    (>>=) cx f = ContT $ \\pur ->\n",
    "        cx  >>>- \\a ->\n",
    "        f a >>>- pur\n",
    "\n",
    "callCC :: ((b -> ContT r m a) -> ContT r m b) -> ContT r m b\n",
    "callCC f = ContT $ \\pur ->\n",
    "    f (\\x -> (exit (pur x))) >>>- \\a ->\n",
    "    pur a\n",
    "    where exit x = ContT $ \\_ -> x"
   ]
  },
  {
   "cell_type": "code",
   "execution_count": 5,
   "metadata": {},
   "outputs": [],
   "source": [
    "callCC' :: ((b -> ContT r m a) -> ContT r m b) -> ContT r m b\n",
    "callCC' f = ContT $ \\k -> (f (\\b -> ContT $ \\k' -> k b)) >>>- k"
   ]
  }
 ],
 "metadata": {
  "kernelspec": {
   "display_name": "Haskell",
   "language": "haskell",
   "name": "haskell"
  },
  "language_info": {
   "codemirror_mode": "ihaskell",
   "file_extension": ".hs",
   "name": "haskell",
   "version": "8.2.2"
  }
 },
 "nbformat": 4,
 "nbformat_minor": 2
}
